{
 "cells": [
  {
   "cell_type": "code",
   "execution_count": 1,
   "metadata": {},
   "outputs": [],
   "source": [
    "import numpy as np\n",
    "import pandas as pd\n",
    "import sklearn.metrics as metrics\n",
    "%matplotlib inline\n",
    "import matplotlib.pyplot as plt\n",
    "\n",
    "from sklearn.tree import DecisionTreeClassifier\n",
    "from sklearn.neural_network import MLPClassifier\n",
    "from sklearn.ensemble import AdaBoostClassifier\n",
    "from sklearn.svm import SVC\n",
    "from sklearn.neighbors import KNeighborsClassifier\n",
    "\n",
    "from sklearn.model_selection import learning_curve\n",
    "from sklearn.model_selection import ShuffleSplit\n",
    "from sklearn.model_selection import GridSearchCV\n",
    "from sklearn.model_selection import train_test_split\n",
    "from sklearn.metrics import accuracy_score"
   ]
  },
  {
   "cell_type": "code",
   "execution_count": 2,
   "metadata": {},
   "outputs": [],
   "source": [
    "# Taken from sklearn docs \n",
    "# http://scikit-learn.org/stable/auto_examples/model_selection/plot_learning_curve.html\n",
    "def plot_learning_curve(estimator, title, X, y, ylim=None, cv=None,\n",
    "                        n_jobs=1, train_sizes=np.linspace(.1, 1.0, 5)):\n",
    "    plt.figure()\n",
    "    plt.title(title)\n",
    "    if ylim is not None:\n",
    "        plt.ylim(*ylim)\n",
    "    plt.xlabel(\"Training examples\")\n",
    "    plt.ylabel(\"Score\")\n",
    "    train_sizes, train_scores, test_scores = learning_curve(\n",
    "        estimator, X, y, cv=cv, n_jobs=n_jobs, train_sizes=train_sizes)\n",
    "    train_scores_mean = np.mean(train_scores, axis=1)\n",
    "    train_scores_std = np.std(train_scores, axis=1)\n",
    "    test_scores_mean = np.mean(test_scores, axis=1)\n",
    "    test_scores_std = np.std(test_scores, axis=1)\n",
    "    plt.grid()\n",
    "\n",
    "    plt.fill_between(train_sizes, train_scores_mean - train_scores_std,\n",
    "                     train_scores_mean + train_scores_std, alpha=0.1,\n",
    "                     color=\"r\")\n",
    "    plt.fill_between(train_sizes, test_scores_mean - test_scores_std,\n",
    "                     test_scores_mean + test_scores_std, alpha=0.1, color=\"g\")\n",
    "    plt.plot(train_sizes, train_scores_mean, 'o-', color=\"r\",\n",
    "             label=\"Training score\")\n",
    "    plt.plot(train_sizes, test_scores_mean, 'o-', color=\"g\",\n",
    "             label=\"Cross-validation score\")\n",
    "\n",
    "    plt.legend(loc=\"best\")\n",
    "    return plt"
   ]
  },
  {
   "cell_type": "code",
   "execution_count": 3,
   "metadata": {},
   "outputs": [],
   "source": [
    "def prune(decisiontree, min_samples_leaf = 1):\n",
    "    if decisiontree.min_samples_leaf >= min_samples_leaf:\n",
    "        raise Exception('Tree already more pruned')\n",
    "    else:\n",
    "        decisiontree.min_samples_leaf = min_samples_leaf\n",
    "        tree = decisiontree.tree_\n",
    "        for i in range(tree.node_count):\n",
    "            n_samples = tree.n_node_samples[i]\n",
    "            if n_samples <= min_samples_leaf:\n",
    "                tree.children_left[i]=-1\n",
    "                tree.children_right[i]=-1"
   ]
  },
  {
   "cell_type": "code",
   "execution_count": 4,
   "metadata": {},
   "outputs": [
    {
     "data": {
      "text/html": [
       "<div>\n",
       "<style>\n",
       "    .dataframe thead tr:only-child th {\n",
       "        text-align: right;\n",
       "    }\n",
       "\n",
       "    .dataframe thead th {\n",
       "        text-align: left;\n",
       "    }\n",
       "\n",
       "    .dataframe tbody tr th {\n",
       "        vertical-align: top;\n",
       "    }\n",
       "</style>\n",
       "<table border=\"1\" class=\"dataframe\">\n",
       "  <thead>\n",
       "    <tr style=\"text-align: right;\">\n",
       "      <th></th>\n",
       "      <th>-1</th>\n",
       "      <th>223</th>\n",
       "      <th>2</th>\n",
       "      <th>2.1</th>\n",
       "      <th>0</th>\n",
       "      <th>0.1</th>\n",
       "      <th>0.2</th>\n",
       "      <th>0.3</th>\n",
       "      <th>0.4</th>\n",
       "      <th>0.5</th>\n",
       "      <th>...</th>\n",
       "      <th>0.93</th>\n",
       "      <th>0.94</th>\n",
       "      <th>0.95</th>\n",
       "      <th>0.96</th>\n",
       "      <th>0.97</th>\n",
       "      <th>0.98</th>\n",
       "      <th>0.99</th>\n",
       "      <th>0.100</th>\n",
       "      <th>0.101</th>\n",
       "      <th>0.102</th>\n",
       "    </tr>\n",
       "  </thead>\n",
       "  <tbody>\n",
       "    <tr>\n",
       "      <th>0</th>\n",
       "      <td>1</td>\n",
       "      <td>152</td>\n",
       "      <td>2</td>\n",
       "      <td>2</td>\n",
       "      <td>0</td>\n",
       "      <td>0</td>\n",
       "      <td>0</td>\n",
       "      <td>1</td>\n",
       "      <td>0</td>\n",
       "      <td>-1</td>\n",
       "      <td>...</td>\n",
       "      <td>0</td>\n",
       "      <td>0</td>\n",
       "      <td>0</td>\n",
       "      <td>0</td>\n",
       "      <td>0</td>\n",
       "      <td>0</td>\n",
       "      <td>0</td>\n",
       "      <td>0</td>\n",
       "      <td>0</td>\n",
       "      <td>0</td>\n",
       "    </tr>\n",
       "    <tr>\n",
       "      <th>1</th>\n",
       "      <td>1</td>\n",
       "      <td>131</td>\n",
       "      <td>2</td>\n",
       "      <td>2</td>\n",
       "      <td>0</td>\n",
       "      <td>0</td>\n",
       "      <td>0</td>\n",
       "      <td>1</td>\n",
       "      <td>0</td>\n",
       "      <td>-1</td>\n",
       "      <td>...</td>\n",
       "      <td>0</td>\n",
       "      <td>0</td>\n",
       "      <td>0</td>\n",
       "      <td>0</td>\n",
       "      <td>0</td>\n",
       "      <td>0</td>\n",
       "      <td>0</td>\n",
       "      <td>0</td>\n",
       "      <td>0</td>\n",
       "      <td>0</td>\n",
       "    </tr>\n",
       "    <tr>\n",
       "      <th>2</th>\n",
       "      <td>1</td>\n",
       "      <td>154</td>\n",
       "      <td>2</td>\n",
       "      <td>2</td>\n",
       "      <td>0</td>\n",
       "      <td>0</td>\n",
       "      <td>0</td>\n",
       "      <td>0</td>\n",
       "      <td>0</td>\n",
       "      <td>0</td>\n",
       "      <td>...</td>\n",
       "      <td>-1</td>\n",
       "      <td>0</td>\n",
       "      <td>0</td>\n",
       "      <td>0</td>\n",
       "      <td>0</td>\n",
       "      <td>0</td>\n",
       "      <td>0</td>\n",
       "      <td>0</td>\n",
       "      <td>0</td>\n",
       "      <td>0</td>\n",
       "    </tr>\n",
       "    <tr>\n",
       "      <th>3</th>\n",
       "      <td>-1</td>\n",
       "      <td>171</td>\n",
       "      <td>2</td>\n",
       "      <td>3</td>\n",
       "      <td>0</td>\n",
       "      <td>0</td>\n",
       "      <td>0</td>\n",
       "      <td>0</td>\n",
       "      <td>0</td>\n",
       "      <td>-1</td>\n",
       "      <td>...</td>\n",
       "      <td>0</td>\n",
       "      <td>0</td>\n",
       "      <td>0</td>\n",
       "      <td>0</td>\n",
       "      <td>0</td>\n",
       "      <td>0</td>\n",
       "      <td>0</td>\n",
       "      <td>0</td>\n",
       "      <td>0</td>\n",
       "      <td>0</td>\n",
       "    </tr>\n",
       "    <tr>\n",
       "      <th>4</th>\n",
       "      <td>1</td>\n",
       "      <td>122</td>\n",
       "      <td>2</td>\n",
       "      <td>3</td>\n",
       "      <td>0</td>\n",
       "      <td>1</td>\n",
       "      <td>0</td>\n",
       "      <td>0</td>\n",
       "      <td>0</td>\n",
       "      <td>0</td>\n",
       "      <td>...</td>\n",
       "      <td>1</td>\n",
       "      <td>0</td>\n",
       "      <td>0</td>\n",
       "      <td>0</td>\n",
       "      <td>0</td>\n",
       "      <td>0</td>\n",
       "      <td>0</td>\n",
       "      <td>0</td>\n",
       "      <td>0</td>\n",
       "      <td>-1</td>\n",
       "    </tr>\n",
       "  </tbody>\n",
       "</table>\n",
       "<p>5 rows × 117 columns</p>\n",
       "</div>"
      ],
      "text/plain": [
       "   -1  223  2  2.1  0  0.1  0.2  0.3  0.4  0.5  ...    0.93  0.94  0.95  0.96  \\\n",
       "0   1  152  2    2  0    0    0    1    0   -1  ...       0     0     0     0   \n",
       "1   1  131  2    2  0    0    0    1    0   -1  ...       0     0     0     0   \n",
       "2   1  154  2    2  0    0    0    0    0    0  ...      -1     0     0     0   \n",
       "3  -1  171  2    3  0    0    0    0    0   -1  ...       0     0     0     0   \n",
       "4   1  122  2    3  0    1    0    0    0    0  ...       1     0     0     0   \n",
       "\n",
       "   0.97  0.98  0.99  0.100  0.101  0.102  \n",
       "0     0     0     0      0      0      0  \n",
       "1     0     0     0      0      0      0  \n",
       "2     0     0     0      0      0      0  \n",
       "3     0     0     0      0      0      0  \n",
       "4     0     0     0      0      0     -1  \n",
       "\n",
       "[5 rows x 117 columns]"
      ]
     },
     "execution_count": 4,
     "metadata": {},
     "output_type": "execute_result"
    }
   ],
   "source": [
    "trainSet = pd.read_csv('dota2Train.csv')\n",
    "testSet = pd.read_csv('dota2Test.csv')\n",
    "\n",
    "x = trainSet.drop('-1', 1)\n",
    "y = trainSet['-1']\n",
    "testX = testSet.drop('-1', 1)\n",
    "testY = testSet['-1']\n",
    "\n",
    "trainSet.head()\n",
    "\n",
    "# pd.get_dummies(trainSet)"
   ]
  },
  {
   "cell_type": "code",
   "execution_count": 5,
   "metadata": {},
   "outputs": [
    {
     "name": "stdout",
     "output_type": "stream",
     "text": [
      " 1    48782\n",
      "-1    43867\n",
      "Name: -1, dtype: int64\n"
     ]
    }
   ],
   "source": [
    "print y.value_counts()"
   ]
  },
  {
   "cell_type": "code",
   "execution_count": 19,
   "metadata": {},
   "outputs": [
    {
     "name": "stdout",
     "output_type": "stream",
     "text": [
      "Fitting 5 folds for each of 10 candidates, totalling 50 fits\n",
      "[CV] min_samples_leaf=1 ..............................................\n",
      "[CV] ......... min_samples_leaf=1, score=0.530760928225, total=   0.5s\n",
      "[CV] min_samples_leaf=1 ..............................................\n",
      "[CV] ......... min_samples_leaf=1, score=0.527037236913, total=   0.4s\n",
      "[CV] min_samples_leaf=1 ..............................................\n",
      "[CV] ......... min_samples_leaf=1, score=0.531516459795, total=   0.3s\n",
      "[CV] min_samples_leaf=1 ..............................................\n",
      "[CV] ......... min_samples_leaf=1, score=0.530275229358, total=   0.4s\n",
      "[CV] min_samples_leaf=1 ..............................................\n",
      "[CV] ......... min_samples_leaf=1, score=0.530275229358, total=   0.3s\n"
     ]
    },
    {
     "name": "stderr",
     "output_type": "stream",
     "text": [
      "[Parallel(n_jobs=-1)]: Done   5 tasks      | elapsed:    5.5s\n"
     ]
    },
    {
     "name": "stdout",
     "output_type": "stream",
     "text": [
      "[CV] min_samples_leaf=2 ..............................................\n",
      "[CV] ......... min_samples_leaf=2, score=0.530760928225, total=   0.4s\n",
      "[CV] min_samples_leaf=2 ..............................................\n",
      "[CV] ......... min_samples_leaf=2, score=0.527037236913, total=   0.2s\n",
      "[CV] min_samples_leaf=2 ..............................................\n",
      "[CV] ......... min_samples_leaf=2, score=0.531516459795, total=   0.2s\n",
      "[CV] min_samples_leaf=2 ..............................................\n",
      "[CV] ......... min_samples_leaf=2, score=0.530275229358, total=   0.3s\n",
      "[CV] min_samples_leaf=2 ..............................................\n",
      "[CV] ......... min_samples_leaf=2, score=0.530275229358, total=   0.3s\n"
     ]
    },
    {
     "name": "stderr",
     "output_type": "stream",
     "text": [
      "[Parallel(n_jobs=-1)]: Done  10 tasks      | elapsed:   10.2s\n"
     ]
    },
    {
     "name": "stdout",
     "output_type": "stream",
     "text": [
      "[CV] min_samples_leaf=3 ..............................................\n",
      "[CV] ......... min_samples_leaf=3, score=0.530760928225, total=   0.3s\n",
      "[CV] min_samples_leaf=3 ..............................................\n",
      "[CV] ......... min_samples_leaf=3, score=0.527037236913, total=   0.3s\n",
      "[CV] min_samples_leaf=3 ..............................................\n",
      "[CV] ......... min_samples_leaf=3, score=0.531516459795, total=   0.3s\n",
      "[CV] min_samples_leaf=3 ..............................................\n",
      "[CV] ......... min_samples_leaf=3, score=0.530275229358, total=   0.2s\n",
      "[CV] min_samples_leaf=3 ..............................................\n",
      "[CV] ......... min_samples_leaf=3, score=0.530275229358, total=   0.3s\n",
      "[CV] min_samples_leaf=4 ..............................................\n",
      "[CV] ......... min_samples_leaf=4, score=0.530760928225, total=   0.3s\n",
      "[CV] min_samples_leaf=4 ..............................................\n",
      "[CV] ......... min_samples_leaf=4, score=0.527037236913, total=   0.3s\n"
     ]
    },
    {
     "name": "stderr",
     "output_type": "stream",
     "text": [
      "[Parallel(n_jobs=-1)]: Done  17 tasks      | elapsed:   16.8s\n"
     ]
    },
    {
     "name": "stdout",
     "output_type": "stream",
     "text": [
      "[CV] min_samples_leaf=4 ..............................................\n",
      "[CV] ......... min_samples_leaf=4, score=0.531516459795, total=   0.3s\n",
      "[CV] min_samples_leaf=4 ..............................................\n",
      "[CV] ......... min_samples_leaf=4, score=0.530275229358, total=   0.2s\n",
      "[CV] min_samples_leaf=4 ..............................................\n",
      "[CV] ......... min_samples_leaf=4, score=0.530275229358, total=   0.2s\n",
      "[CV] min_samples_leaf=5 ..............................................\n",
      "[CV] ......... min_samples_leaf=5, score=0.530760928225, total=   0.2s\n",
      "[CV] min_samples_leaf=5 ..............................................\n",
      "[CV] ......... min_samples_leaf=5, score=0.527037236913, total=   0.2s\n",
      "[CV] min_samples_leaf=5 ..............................................\n",
      "[CV] ......... min_samples_leaf=5, score=0.531516459795, total=   0.2s\n",
      "[CV] min_samples_leaf=5 ..............................................\n",
      "[CV] ......... min_samples_leaf=5, score=0.530275229358, total=   0.2s\n"
     ]
    },
    {
     "name": "stderr",
     "output_type": "stream",
     "text": [
      "[Parallel(n_jobs=-1)]: Done  24 tasks      | elapsed:   23.4s\n"
     ]
    },
    {
     "name": "stdout",
     "output_type": "stream",
     "text": [
      "[CV] min_samples_leaf=5 ..............................................\n",
      "[CV] ......... min_samples_leaf=5, score=0.530275229358, total=   0.2s\n",
      "[CV] min_samples_leaf=6 ..............................................\n",
      "[CV] ......... min_samples_leaf=6, score=0.530760928225, total=   0.2s\n",
      "[CV] min_samples_leaf=6 ..............................................\n",
      "[CV] ......... min_samples_leaf=6, score=0.527037236913, total=   0.2s\n",
      "[CV] min_samples_leaf=6 ..............................................\n",
      "[CV] ......... min_samples_leaf=6, score=0.531516459795, total=   0.3s\n",
      "[CV] min_samples_leaf=6 ..............................................\n",
      "[CV] ......... min_samples_leaf=6, score=0.530275229358, total=   0.3s\n",
      "[CV] min_samples_leaf=6 ..............................................\n",
      "[CV] ......... min_samples_leaf=6, score=0.530275229358, total=   0.3s\n",
      "[CV] min_samples_leaf=7 ..............................................\n",
      "[CV] ......... min_samples_leaf=7, score=0.530760928225, total=   0.2s\n",
      "[CV] min_samples_leaf=7 ..............................................\n",
      "[CV] ......... min_samples_leaf=7, score=0.527037236913, total=   0.3s\n",
      "[CV] min_samples_leaf=7 ..............................................\n",
      "[CV] ......... min_samples_leaf=7, score=0.531516459795, total=   0.2s\n"
     ]
    },
    {
     "name": "stderr",
     "output_type": "stream",
     "text": [
      "[Parallel(n_jobs=-1)]: Done  33 tasks      | elapsed:   31.6s\n"
     ]
    },
    {
     "name": "stdout",
     "output_type": "stream",
     "text": [
      "[CV] min_samples_leaf=7 ..............................................\n",
      "[CV] ......... min_samples_leaf=7, score=0.530275229358, total=   0.2s\n",
      "[CV] min_samples_leaf=7 ..............................................\n",
      "[CV] ......... min_samples_leaf=7, score=0.530275229358, total=   0.2s\n",
      "[CV] min_samples_leaf=8 ..............................................\n",
      "[CV] ......... min_samples_leaf=8, score=0.530760928225, total=   0.2s\n",
      "[CV] min_samples_leaf=8 ..............................................\n",
      "[CV] ......... min_samples_leaf=8, score=0.527037236913, total=   0.2s\n",
      "[CV] min_samples_leaf=8 ..............................................\n",
      "[CV] ......... min_samples_leaf=8, score=0.531516459795, total=   0.3s\n",
      "[CV] min_samples_leaf=8 ..............................................\n",
      "[CV] ......... min_samples_leaf=8, score=0.530275229358, total=   0.3s\n",
      "[CV] min_samples_leaf=8 ..............................................\n",
      "[CV] ......... min_samples_leaf=8, score=0.530275229358, total=   0.2s\n",
      "[CV] min_samples_leaf=9 ..............................................\n",
      "[CV] ......... min_samples_leaf=9, score=0.530760928225, total=   0.2s\n",
      "[CV] min_samples_leaf=9 ..............................................\n",
      "[CV] ......... min_samples_leaf=9, score=0.527037236913, total=   0.2s\n"
     ]
    },
    {
     "name": "stderr",
     "output_type": "stream",
     "text": [
      "[Parallel(n_jobs=-1)]: Done  42 tasks      | elapsed:   39.6s\n"
     ]
    },
    {
     "name": "stdout",
     "output_type": "stream",
     "text": [
      "[CV] min_samples_leaf=9 ..............................................\n",
      "[CV] ......... min_samples_leaf=9, score=0.531516459795, total=   0.2s\n",
      "[CV] min_samples_leaf=9 ..............................................\n",
      "[CV] ......... min_samples_leaf=9, score=0.530275229358, total=   0.2s\n",
      "[CV] min_samples_leaf=9 ..............................................\n",
      "[CV] ......... min_samples_leaf=9, score=0.530275229358, total=   0.2s\n",
      "[CV] min_samples_leaf=10 .............................................\n",
      "[CV] ........ min_samples_leaf=10, score=0.530760928225, total=   0.3s\n",
      "[CV] min_samples_leaf=10 .............................................\n",
      "[CV] ........ min_samples_leaf=10, score=0.527037236913, total=   0.3s\n",
      "[CV] min_samples_leaf=10 .............................................\n",
      "[CV] ........ min_samples_leaf=10, score=0.531516459795, total=   0.2s\n",
      "[CV] min_samples_leaf=10 .............................................\n",
      "[CV] ........ min_samples_leaf=10, score=0.530275229358, total=   0.2s\n",
      "[CV] min_samples_leaf=10 .............................................\n",
      "[CV] ........ min_samples_leaf=10, score=0.530275229358, total=   0.2s\n"
     ]
    },
    {
     "name": "stderr",
     "output_type": "stream",
     "text": [
      "[Parallel(n_jobs=-1)]: Done  50 out of  50 | elapsed:   46.8s finished\n"
     ]
    },
    {
     "data": {
      "text/plain": [
       "GridSearchCV(cv=ShuffleSplit(n_splits=5, random_state=0, test_size=0.2, train_size=None),\n",
       "       error_score='raise',\n",
       "       estimator=DecisionTreeClassifier(class_weight=None, criterion='gini', max_depth=None,\n",
       "            max_features=None, max_leaf_nodes=None,\n",
       "            min_impurity_decrease=0.1, min_impurity_split=None,\n",
       "            min_samples_leaf=1, min_samples_split=2,\n",
       "            min_weight_fraction_leaf=0.0, presort=False, random_state=None,\n",
       "            splitter='best'),\n",
       "       fit_params=None, iid=True, n_jobs=-1,\n",
       "       param_grid={'min_samples_leaf': array([ 1,  2,  3,  4,  5,  6,  7,  8,  9, 10])},\n",
       "       pre_dispatch='2*n_jobs', refit=True, return_train_score='warn',\n",
       "       scoring='accuracy', verbose=10)"
      ]
     },
     "execution_count": 19,
     "metadata": {},
     "output_type": "execute_result"
    }
   ],
   "source": [
    "# Decision Tree Zone\n",
    "dt = DecisionTreeClassifier(splitter='best', presort = False, min_impurity_decrease= 0.1, min_samples_leaf = 1)\n",
    "cv = ShuffleSplit(n_splits=5, test_size=0.2, random_state=0)\n",
    "# parameters = {'splitter':('best', 'random')}\n",
    "# parameters = {'presort':(True, False)}\n",
    "# parameters = {'min_impurity_decrease': (np.arange(0.0, 1.01, 0.1))}\n",
    "# parameters = {'min_samples_split': (np.arange(10, 210, 10))}\n",
    "parameters = {'min_samples_leaf': (np.arange(1, 11))}\n",
    "dtGS = GridSearchCV(dt, parameters, cv = cv, scoring='accuracy', verbose=10, n_jobs=-1)\n",
    "dtGS.fit(x, y)"
   ]
  },
  {
   "cell_type": "code",
   "execution_count": 21,
   "metadata": {},
   "outputs": [
    {
     "name": "stdout",
     "output_type": "stream",
     "text": [
      "0.52997301673\n",
      "1\n",
      "[ 0.52997302  0.52997302  0.52997302  0.52997302  0.52997302  0.52997302\n",
      "  0.52997302  0.52997302  0.52997302  0.52997302]\n",
      "[ 0.52566279  0.52566279  0.52566279  0.52566279  0.52566279  0.52566279\n",
      "  0.52566279  0.52566279  0.52566279  0.52566279]\n"
     ]
    }
   ],
   "source": [
    "print(dtGS.best_score_)\n",
    "print(dtGS.best_estimator_.min_samples_leaf)\n",
    "print dtGS.cv_results_['mean_test_score']\n",
    "print dtGS.cv_results_['mean_train_score']"
   ]
  },
  {
   "cell_type": "code",
   "execution_count": 22,
   "metadata": {},
   "outputs": [
    {
     "data": {
      "text/plain": [
       "<matplotlib.legend.Legend at 0x114293290>"
      ]
     },
     "execution_count": 22,
     "metadata": {},
     "output_type": "execute_result"
    },
    {
     "data": {
      "image/png": "[encoded data removed]",
      "text/plain": [
       "<matplotlib.figure.Figure at 0x1141ec550>"
      ]
     },
     "metadata": {},
     "output_type": "display_data"
    }
   ],
   "source": [
    "# Graph drawing section, code changed everytime when i need a new graph, will be commented\n",
    "plt.figure()\n",
    "plt.title(\"Decision Tree Min Samples Leaf\")\n",
    "plt.xlabel(\"min_samples_leaf\")\n",
    "plt.ylabel(\"Score\")\n",
    "\n",
    "plt.grid()\n",
    "\n",
    "plt.plot(dtGS.param_grid['min_samples_leaf'], dtGS.cv_results_['mean_test_score'], 'o-', color=\"r\",\n",
    "         label=\"Cross Validation Score\" )\n",
    "plt.plot(dtGS.param_grid['min_samples_leaf'], dtGS.cv_results_['mean_train_score'], 'o-', color=\"g\",\n",
    "         label=\"Training Score\")\n",
    "plt.legend(loc=\"best\")"
   ]
  },
  {
   "cell_type": "code",
   "execution_count": 25,
   "metadata": {},
   "outputs": [
    {
     "name": "stdout",
     "output_type": "stream",
     "text": [
      "0.534538035558\n",
      "10\n"
     ]
    }
   ],
   "source": [
    "# Pruning evaluator\n",
    "testScoreArray = []\n",
    "trainScoreArray = []\n",
    "bestScore = 0.0\n",
    "index = -1\n",
    "for i in range(10, 2010, 10):\n",
    "    dt = DecisionTreeClassifier(splitter='best', presort = False, min_impurity_decrease= 0.1, min_samples_leaf = 1)\n",
    "    dt.fit(x, y)\n",
    "    prune(dt, i)\n",
    "    \n",
    "    trainDtPred = dt.predict(x)\n",
    "    trainDtPred = pd.DataFrame(data=trainDtPred, columns=['hand'])\n",
    "    trainAcc = accuracy_score(y, trainDtPred)\n",
    "    \n",
    "    testDtPred = dt.predict(testX)\n",
    "    testDtPred = pd.DataFrame(data=testDtPred, columns=['hand'])\n",
    "    testAcc = accuracy_score(testY, testDtPred)\n",
    "    \n",
    "    if testAcc > bestScore:\n",
    "        index = i\n",
    "        bestScore = testAcc\n",
    "    trainScoreArray.append(trainAcc)\n",
    "    testScoreArray.append(testAcc)\n",
    "print bestScore\n",
    "print index"
   ]
  },
  {
   "cell_type": "code",
   "execution_count": 31,
   "metadata": {},
   "outputs": [
    {
     "data": {
      "text/plain": [
       "<matplotlib.legend.Legend at 0x116c462d0>"
      ]
     },
     "execution_count": 31,
     "metadata": {},
     "output_type": "execute_result"
    },
    {
     "data": {
      "image/png": "[encoded data removed]",
      "text/plain": [
       "<matplotlib.figure.Figure at 0x116a44c90>"
      ]
     },
     "metadata": {},
     "output_type": "display_data"
    }
   ],
   "source": [
    "# Pruning Grapher\n",
    "plt.figure()\n",
    "plt.title(\"Decision Tree Pruning Comparison\")\n",
    "plt.xlabel(\"Min Samples Leaf\")\n",
    "plt.ylabel(\"Score\")\n",
    "# plt.ylim(*(0.55, 1.02))\n",
    "\n",
    "plt.grid()\n",
    "\n",
    "plt.plot(np.arange(10, 2010, 10), testScoreArray, 'o-', color=\"r\", label = \"Testing Score\")\n",
    "plt.plot(np.arange(10, 2010, 10), trainScoreArray, 'o-', color=\"g\", label = \"Training Score\")\n",
    "plt.legend(loc=\"best\")"
   ]
  },
  {
   "cell_type": "code",
   "execution_count": 12,
   "metadata": {},
   "outputs": [
    {
     "data": {
      "text/plain": [
       "<matplotlib.legend.Legend at 0x103debe50>"
      ]
     },
     "execution_count": 12,
     "metadata": {},
     "output_type": "execute_result"
    },
    {
     "data": {
      "image/png": "[encoded data removed]",
      "text/plain": [
       "<matplotlib.figure.Figure at 0x1090ec690>"
      ]
     },
     "metadata": {},
     "output_type": "display_data"
    }
   ],
   "source": [
    "sampleNum = []\n",
    "trainScoreArr = []\n",
    "testScoreArr = []\n",
    "index = -1\n",
    "bestScore = 0\n",
    "\n",
    "for i in range (1, 11):\n",
    "    xTrainRound = x\n",
    "    yTrainRound = y\n",
    "    if i < 10:\n",
    "        xTrainRound, throwaway1, yTrainRound, throwaway2 = train_test_split(x, y, test_size=i/10.0)\n",
    "    \n",
    "    dt = DecisionTreeClassifier(splitter='best', presort = False, min_impurity_decrease= 0.1, min_samples_leaf = 1)\n",
    "    dt.fit(xTrainRound, yTrainRound)\n",
    "    prune(dt, 10)\n",
    "    \n",
    "    trainPredRes = dt.predict(xTrainRound)\n",
    "    trainPredRes = pd.DataFrame(data=trainPredRes, columns=['hand'])\n",
    "    trainAcc = accuracy_score(yTrainRound, trainPredRes)\n",
    "    \n",
    "    testPredRes = dt.predict(testX)\n",
    "    testPredRes = pd.DataFrame(data=testPredRes, columns=['hand'])\n",
    "    testAcc = accuracy_score(testY, testPredRes)\n",
    "    \n",
    "    if testAcc > bestScore:\n",
    "        index = i\n",
    "        bestScore = testAcc\n",
    "    trainScoreArr.append(trainAcc)\n",
    "    testScoreArr.append(testAcc)\n",
    "    sampleNum.append(92649 * i / 10.0)\n",
    "    \n",
    "\n",
    "plt.figure()\n",
    "plt.title(\"Decision Tree Train Test Error\")\n",
    "plt.xlabel(\"Num of Samples\")\n",
    "plt.ylabel(\"Accuracy Score\")\n",
    "# plt.ylim(*(0.55, 1.02))\n",
    "\n",
    "plt.grid()\n",
    "\n",
    "plt.plot(sampleNum, testScoreArr, 'o-', color=\"r\", label = \"Testing Score\")\n",
    "plt.plot(sampleNum, trainScoreArr, 'o-', color=\"g\", label = \"Training Score\")\n",
    "plt.legend(loc=\"best\")"
   ]
  },
  {
   "cell_type": "code",
   "execution_count": 9,
   "metadata": {},
   "outputs": [
    {
     "name": "stdout",
     "output_type": "stream",
     "text": [
      "1    10293\n",
      "Name: team, dtype: int64\n"
     ]
    }
   ],
   "source": [
    "#Detailed d-tree results\n",
    "dt = DecisionTreeClassifier(splitter='best', presort = False, min_impurity_decrease= 0.1, min_samples_leaf = 1)\n",
    "dt.fit(x, y)\n",
    "prune(dt, 10)\n",
    "\n",
    "dtPredicted = dt.predict(testX)\n",
    "print metrics.classification_report(testY, dtPredicted)\n",
    "dtPredicted = pd.DataFrame(data=dtPredicted, columns=['team'])\n",
    "print dtPredicted.team.value_counts()"
   ]
  },
  {
   "cell_type": "code",
   "execution_count": 6,
   "metadata": {},
   "outputs": [
    {
     "name": "stdout",
     "output_type": "stream",
     "text": [
      "Fitting 5 folds for each of 9 candidates, totalling 45 fits\n",
      "[CV] alpha=0.0001 ....................................................\n",
      "[CV] alpha=0.0001 ....................................................\n",
      "[CV] alpha=0.0001 ....................................................\n",
      "[CV] alpha=0.0001 ....................................................\n",
      "[CV] ............... alpha=0.0001, score=0.598704803022, total=  23.7s\n",
      "[CV] alpha=0.0001 ....................................................\n",
      "[CV] ............... alpha=0.0001, score=0.593200215866, total=  36.6s\n",
      "[CV] alpha=0.0002 ....................................................\n",
      "[CV] ............... alpha=0.0002, score=0.595520777118, total=  20.2s\n",
      "[CV] alpha=0.0002 ....................................................\n",
      "[CV] ............... alpha=0.0001, score=0.598974635726, total= 1.3min\n",
      "[CV] alpha=0.0002 ....................................................\n",
      "[CV] ............... alpha=0.0002, score=0.603399892067, total=  20.0s\n",
      "[CV] alpha=0.0002 ....................................................\n"
     ]
    },
    {
     "name": "stderr",
     "output_type": "stream",
     "text": [
      "[Parallel(n_jobs=-1)]: Done   5 tasks      | elapsed:  1.4min\n"
     ]
    },
    {
     "name": "stdout",
     "output_type": "stream",
     "text": [
      "[CV] ............... alpha=0.0001, score=0.595358877496, total=  57.7s\n",
      "[CV] alpha=0.0002 ....................................................\n",
      "[CV] ............... alpha=0.0002, score=0.578359417161, total=  16.6s\n",
      "[CV] alpha=0.0003 ....................................................\n",
      "[CV] ............... alpha=0.0002, score=0.601187263896, total=  26.0s\n",
      "[CV] alpha=0.0003 ....................................................\n",
      "[CV] ............... alpha=0.0002, score=0.603939557474, total=  34.8s\n",
      "[CV] alpha=0.0003 ....................................................\n",
      "[CV] ............... alpha=0.0003, score=0.592444684296, total=  24.1s\n",
      "[CV] alpha=0.0003 ....................................................\n"
     ]
    },
    {
     "name": "stderr",
     "output_type": "stream",
     "text": [
      "[Parallel(n_jobs=-1)]: Done  10 tasks      | elapsed:  2.2min\n"
     ]
    },
    {
     "name": "stdout",
     "output_type": "stream",
     "text": [
      "[CV] ............... alpha=0.0003, score=0.603399892067, total=  22.1s\n",
      "[CV] alpha=0.0003 ....................................................\n",
      "[CV] ............... alpha=0.0003, score=0.599190501889, total=  33.5s\n",
      "[CV] alpha=0.0004 ....................................................\n",
      "[CV] ............... alpha=0.0003, score=0.606422018349, total=  19.4s\n",
      "[CV] alpha=0.0004 ....................................................\n",
      "[CV] ............... alpha=0.0003, score=0.601780895845, total=  30.3s\n",
      "[CV] alpha=0.0004 ....................................................\n",
      "[CV] ............... alpha=0.0004, score=0.603399892067, total=  23.1s\n",
      "[CV] alpha=0.0004 ....................................................\n",
      "[CV] ............... alpha=0.0004, score=0.599352401511, total=  28.9s\n",
      "[CV] alpha=0.0004 ....................................................\n",
      "[CV] ................ alpha=0.0004, score=0.59422558014, total=  37.7s\n"
     ]
    },
    {
     "name": "stderr",
     "output_type": "stream",
     "text": [
      "[Parallel(n_jobs=-1)]: Done  17 tasks      | elapsed:  3.2min\n"
     ]
    },
    {
     "name": "stdout",
     "output_type": "stream",
     "text": [
      "[CV] alpha=0.0005 ....................................................\n",
      "[CV] ............... alpha=0.0004, score=0.598381003778, total=  13.8s\n",
      "[CV] alpha=0.0005 ....................................................\n",
      "[CV] ............... alpha=0.0004, score=0.600377765785, total=  19.7s\n",
      "[CV] alpha=0.0005 ....................................................\n",
      "[CV] ............... alpha=0.0005, score=0.602482460874, total=  17.6s\n",
      "[CV] alpha=0.0005 ....................................................\n",
      "[CV] ............... alpha=0.0005, score=0.592660550459, total=  22.4s\n",
      "[CV] alpha=0.0005 ....................................................\n"
     ]
    },
    {
     "name": "stderr",
     "output_type": "stream",
     "text": [
      "/Users/kristiansuhartono/python-env/lib/python2.7/site-packages/sklearn/neural_network/multilayer_perceptron.py:564: ConvergenceWarning: Stochastic Optimizer: Maximum iterations (100) reached and the optimization hasn't converged yet.\n",
      "  % self.max_iter, ConvergenceWarning)\n"
     ]
    },
    {
     "name": "stdout",
     "output_type": "stream",
     "text": [
      "[CV] ............... alpha=0.0001, score=0.583648138154, total= 3.8min\n",
      "[CV] alpha=0.0006 ....................................................\n",
      "[CV] ................. alpha=0.0005, score=0.6058283864, total=  18.5s\n",
      "[CV] ............... alpha=0.0005, score=0.599892066919, total=  16.8s\n",
      "[CV] ................ alpha=0.0005, score=0.60361575823, total=  14.5s\n"
     ]
    },
    {
     "name": "stderr",
     "output_type": "stream",
     "text": [
      "[Parallel(n_jobs=-1)]: Done  24 tasks      | elapsed:  3.9min\n"
     ]
    },
    {
     "name": "stdout",
     "output_type": "stream",
     "text": [
      "[CV] alpha=0.0006 ....................................................\n",
      "[CV] alpha=0.0006 ....................................................\n",
      "[CV] alpha=0.0006 ....................................................\n",
      "[CV] ............... alpha=0.0006, score=0.604263356719, total=  23.0s\n",
      "[CV] alpha=0.0006 ....................................................\n",
      "[CV] ............... alpha=0.0006, score=0.591958985429, total=  25.2s\n",
      "[CV] alpha=0.0007 ....................................................\n",
      "[CV] ............... alpha=0.0006, score=0.598596869941, total=  31.8s\n",
      "[CV] alpha=0.0007 ....................................................\n",
      "[CV] ............... alpha=0.0007, score=0.594117647059, total=  14.3s\n",
      "[CV] alpha=0.0007 ....................................................\n",
      "[CV] ............... alpha=0.0006, score=0.600971397733, total=  42.9s\n",
      "[CV] alpha=0.0007 ....................................................\n",
      "[CV] ............... alpha=0.0006, score=0.603130059363, total=  24.1s\n",
      "[CV] alpha=0.0007 ....................................................\n",
      "[CV] ............... alpha=0.0007, score=0.600809498111, total=  12.3s\n",
      "[CV] alpha=0.0008 ....................................................\n",
      "[CV] ............... alpha=0.0007, score=0.597787371829, total=  12.2s\n",
      "[CV] alpha=0.0008 ....................................................\n"
     ]
    },
    {
     "name": "stderr",
     "output_type": "stream",
     "text": [
      "[Parallel(n_jobs=-1)]: Done  33 tasks      | elapsed:  4.9min\n"
     ]
    },
    {
     "name": "stdout",
     "output_type": "stream",
     "text": [
      "[CV] ............... alpha=0.0007, score=0.603885590934, total=  29.5s\n",
      "[CV] alpha=0.0008 ....................................................\n",
      "[CV] ............... alpha=0.0008, score=0.589476524555, total=  12.3s\n",
      "[CV] alpha=0.0008 ....................................................\n",
      "[CV] ............... alpha=0.0007, score=0.598920669185, total=  27.4s\n",
      "[CV] alpha=0.0008 ....................................................\n",
      "[CV] ............... alpha=0.0008, score=0.605180787911, total=  14.8s\n",
      "[CV] alpha=0.0009 ....................................................\n",
      "[CV] ............... alpha=0.0008, score=0.601079330815, total=  22.3s\n",
      "[CV] alpha=0.0009 ....................................................\n",
      "[CV] ............... alpha=0.0008, score=0.599676200756, total=  16.9s\n",
      "[CV] alpha=0.0009 ....................................................\n",
      "[CV] ............... alpha=0.0008, score=0.597463572585, total=  24.1s\n",
      "[CV] alpha=0.0009 ....................................................\n",
      "[CV] ............... alpha=0.0009, score=0.593308148948, total=  22.1s\n",
      "[CV] alpha=0.0009 ....................................................\n",
      "[CV] ............... alpha=0.0009, score=0.602428494334, total=  12.1s\n",
      "[CV] ............... alpha=0.0009, score=0.601565029682, total=  21.1s\n"
     ]
    },
    {
     "name": "stderr",
     "output_type": "stream",
     "text": [
      "[Parallel(n_jobs=-1)]: Done  43 out of  45 | elapsed:  5.7min remaining:   15.8s\n"
     ]
    },
    {
     "name": "stdout",
     "output_type": "stream",
     "text": [
      "[CV] ............... alpha=0.0009, score=0.598488936859, total=   7.6s\n",
      "[CV] ............... alpha=0.0009, score=0.598866702644, total=  20.1s\n"
     ]
    },
    {
     "name": "stderr",
     "output_type": "stream",
     "text": [
      "[Parallel(n_jobs=-1)]: Done  45 out of  45 | elapsed:  5.8min finished\n"
     ]
    },
    {
     "data": {
      "text/plain": [
       "GridSearchCV(cv=ShuffleSplit(n_splits=5, random_state=0, test_size=0.2, train_size=None),\n",
       "       error_score='raise',\n",
       "       estimator=MLPClassifier(activation='logistic', alpha=0.0001, batch_size='auto',\n",
       "       beta_1=0.9, beta_2=0.999, early_stopping=False, epsilon=1e-08,\n",
       "       hidden_layer_sizes=(200,), learning_rate='constant',\n",
       "       learning_rate_init=0.001, max_iter=100, momentum=0.9,\n",
       "       nesterovs_momentum=True, power_t=0.5, random_state=None,\n",
       "       shuffle=True, solver='adam', tol=0.0001, validation_fraction=0.1,\n",
       "       verbose=False, warm_start=False),\n",
       "       fit_params=None, iid=True, n_jobs=-1,\n",
       "       param_grid={'alpha': array([ 0.0001,  0.0002,  0.0003,  0.0004,  0.0005,  0.0006,  0.0007,\n",
       "        0.0008,  0.0009])},\n",
       "       pre_dispatch='2*n_jobs', refit=True, return_train_score='warn',\n",
       "       scoring='accuracy', verbose=10)"
      ]
     },
     "execution_count": 6,
     "metadata": {},
     "output_type": "execute_result"
    }
   ],
   "source": [
    "# Code here is the algorithm tuning zone for the MLP\n",
    "# Don't run if not needed, the commented out parameters are the ones I tuned\n",
    "# These take hours to ru\n",
    "n\n",
    "\n",
    "mlp = MLPClassifier(activation=\"logistic\", learning_rate=\"constant\", max_iter = 100, hidden_layer_sizes = (200,), alpha=0.0005)\n",
    "cv = ShuffleSplit(n_splits=5, test_size=0.2, random_state=0)\n",
    "# parameters = {'activation':('identity', 'logistic', 'tanh', 'relu')}\n",
    "# parameters = {'learning_rate' :('constant', 'invscaling', 'adaptive')}\n",
    "# parameters = {'max_iter': (np.arange(100, 1100, 100))}\n",
    "# parameters = {'hidden_layer_sizes' : ((100,), (200,), (300,), (400,), (500,), (600,),(700,),(800,),(900,))}\n",
    "# parameters = {'alpha': (np.arange(0.0001, 0.001, 0.0001))}\n",
    "mlpGS = GridSearchCV(mlp, parameters, cv = cv, scoring='accuracy', verbose=10, n_jobs=-1)\n",
    "mlpGS.fit(x, y)"
   ]
  },
  {
   "cell_type": "code",
   "execution_count": 9,
   "metadata": {},
   "outputs": [
    {
     "name": "stdout",
     "output_type": "stream",
     "text": [
      "0.600895844576\n",
      "0.0005\n"
     ]
    }
   ],
   "source": [
    "# Printing out best estimators for each variable, I change these manually everytime\n",
    "print(mlpGS.best_score_)\n",
    "print(mlpGS.best_estimator_.alpha)"
   ]
  },
  {
   "cell_type": "code",
   "execution_count": 10,
   "metadata": {},
   "outputs": [
    {
     "name": "stderr",
     "output_type": "stream",
     "text": [
      "/Users/kristiansuhartono/python-env/lib/python2.7/site-packages/sklearn/utils/deprecation.py:122: FutureWarning: You are accessing a training score ('mean_train_score'), which will not be available by default any more in 0.21. If you need training scores, please set return_train_score=True\n",
      "  warnings.warn(*warn_args, **warn_kwargs)\n"
     ]
    },
    {
     "data": {
      "text/plain": [
       "<matplotlib.legend.Legend at 0x1094f7f10>"
      ]
     },
     "execution_count": 10,
     "metadata": {},
     "output_type": "execute_result"
    },
    {
     "data": {
      "image/png": "[encoded data removed]",
      "text/plain": [
       "<matplotlib.figure.Figure at 0x109459810>"
      ]
     },
     "metadata": {},
     "output_type": "display_data"
    }
   ],
   "source": [
    "# Graph drawing section, code changed everytime when i need a new graph, will be commented\n",
    "plt.figure()\n",
    "plt.title(\"MLPClassifier Alpha\")\n",
    "plt.xlabel(\"alpha\")\n",
    "plt.ylabel(\"Score\")\n",
    "\n",
    "plt.grid()\n",
    "\n",
    "plt.plot(mlpGS.param_grid['alpha'], mlpGS.cv_results_['mean_test_score'], 'o-', color=\"r\",\n",
    "         label=\"Cross Validation Score\" )\n",
    "plt.plot(mlpGS.param_grid['alpha'], mlpGS.cv_results_['mean_train_score'], 'o-', color=\"g\",\n",
    "         label=\"Training Score\")\n",
    "plt.legend(loc=\"best\")"
   ]
  },
  {
   "cell_type": "code",
   "execution_count": 11,
   "metadata": {},
   "outputs": [
    {
     "data": {
      "text/plain": [
       "<matplotlib.legend.Legend at 0x1090a8890>"
      ]
     },
     "execution_count": 11,
     "metadata": {},
     "output_type": "execute_result"
    },
    {
     "data": {
      "image/png": "[encoded data removed]",
      "text/plain": [
       "<matplotlib.figure.Figure at 0x109700a50>"
      ]
     },
     "metadata": {},
     "output_type": "display_data"
    }
   ],
   "source": [
    "sampleNum = []\n",
    "trainScoreArr = []\n",
    "testScoreArr = []\n",
    "index = -1\n",
    "bestScore = 0\n",
    "\n",
    "for i in range (1, 11):\n",
    "    xTrainRound = x\n",
    "    yTrainRound = y\n",
    "    if i < 10:\n",
    "        xTrainRound, throwaway1, yTrainRound, throwaway2 = train_test_split(x, y, test_size=i/10.0)\n",
    "    \n",
    "    mlp = MLPClassifier(activation=\"logistic\", learning_rate=\"constant\", max_iter = 100, hidden_layer_sizes = (200,), alpha=0.0005)\n",
    "    mlp.fit(xTrainRound, yTrainRound)\n",
    "    \n",
    "    trainPredRes = mlp.predict(xTrainRound)\n",
    "    trainPredRes = pd.DataFrame(data=trainPredRes, columns=['hand'])\n",
    "    trainAcc = accuracy_score(yTrainRound, trainPredRes)\n",
    "    \n",
    "    testPredRes = mlp.predict(testX)\n",
    "    testPredRes = pd.DataFrame(data=testPredRes, columns=['hand'])\n",
    "    testAcc = accuracy_score(testY, testPredRes)\n",
    "    \n",
    "    if testAcc > bestScore:\n",
    "        index = i\n",
    "        bestScore = testAcc\n",
    "    trainScoreArr.append(trainAcc)\n",
    "    testScoreArr.append(testAcc)\n",
    "    sampleNum.append(92649 * i / 10.0)\n",
    "    \n",
    "\n",
    "plt.figure()\n",
    "plt.title(\"Neural Network Train Test Error\")\n",
    "plt.xlabel(\"Num of Samples\")\n",
    "plt.ylabel(\"Accuracy Score\")\n",
    "# plt.ylim(*(0.55, 1.02))\n",
    "\n",
    "plt.grid()\n",
    "\n",
    "plt.plot(sampleNum, testScoreArr, 'o-', color=\"r\", label = \"Testing Score\")\n",
    "plt.plot(sampleNum, trainScoreArr, 'o-', color=\"g\", label = \"Training Score\")\n",
    "plt.legend(loc=\"best\")"
   ]
  },
  {
   "cell_type": "code",
   "execution_count": null,
   "metadata": {},
   "outputs": [],
   "source": [
    "# MLP detailed results\n",
    "mlp = MLPClassifier(activation=\"logistic\", learning_rate=\"constant\", max_iter = 100, hidden_layer_sizes = (200,), alpha=0.0005)\n",
    "mlp.fit(x, y)\n",
    "\n",
    "mlpPredicted = mlp.predict(testX)\n",
    "print metrics.classification_report(testY, mlpPredicted)\n",
    "mlpPredicted = pd.DataFrame(data=mlpPredicted, columns=['team'])\n",
    "print mlpPredicted.team.value_counts()"
   ]
  },
  {
   "cell_type": "code",
   "execution_count": 19,
   "metadata": {},
   "outputs": [
    {
     "name": "stdout",
     "output_type": "stream",
     "text": [
      "Fitting 10 folds for each of 10 candidates, totalling 100 fits\n",
      "[CV] learning_rate=0.1 ...............................................\n",
      "[CV] learning_rate=0.1 ...............................................\n",
      "[CV] learning_rate=0.1 ...............................................\n",
      "[CV] learning_rate=0.1 ...............................................\n",
      "[CV] .......... learning_rate=0.1, score=0.530760928225, total=  44.0s\n",
      "[CV] learning_rate=0.1 ...............................................\n",
      "[CV] .......... learning_rate=0.1, score=0.527037236913, total=  44.3s\n",
      "[CV] learning_rate=0.1 ...............................................\n",
      "[CV] .......... learning_rate=0.1, score=0.531516459795, total=  44.4s\n",
      "[CV] learning_rate=0.1 ...............................................\n",
      "[CV] .......... learning_rate=0.1, score=0.530275229358, total=  44.1s\n",
      "[CV] learning_rate=0.1 ...............................................\n",
      "[CV] .......... learning_rate=0.1, score=0.530275229358, total=  38.1s\n",
      "[CV] learning_rate=0.1 ...............................................\n"
     ]
    },
    {
     "name": "stderr",
     "output_type": "stream",
     "text": [
      "[Parallel(n_jobs=-1)]: Done   5 tasks      | elapsed:  1.5min\n"
     ]
    },
    {
     "name": "stdout",
     "output_type": "stream",
     "text": [
      "[CV] .......... learning_rate=0.1, score=0.525742039935, total=  38.0s\n",
      "[CV] learning_rate=0.1 ...............................................\n",
      "[CV] .......... learning_rate=0.1, score=0.523745277928, total=  37.8s\n",
      "[CV] learning_rate=0.2 ...............................................\n",
      "[CV] .......... learning_rate=0.1, score=0.528116567728, total=  37.7s\n",
      "[CV] learning_rate=0.2 ...............................................\n",
      "[CV] .......... learning_rate=0.1, score=0.521964382083, total=  38.2s\n",
      "[CV] learning_rate=0.2 ...............................................\n",
      "[CV] .......... learning_rate=0.1, score=0.520237452779, total=  37.6s\n",
      "[CV] learning_rate=0.2 ...............................................\n"
     ]
    },
    {
     "name": "stderr",
     "output_type": "stream",
     "text": [
      "[Parallel(n_jobs=-1)]: Done  10 tasks      | elapsed:  2.2min\n"
     ]
    },
    {
     "name": "stdout",
     "output_type": "stream",
     "text": [
      "[CV] .......... learning_rate=0.2, score=0.530760928225, total=  37.5s\n",
      "[CV] learning_rate=0.2 ...............................................\n",
      "[CV] .......... learning_rate=0.2, score=0.527037236913, total=  37.1s\n",
      "[CV] learning_rate=0.2 ...............................................\n",
      "[CV] .......... learning_rate=0.2, score=0.531516459795, total=  39.2s\n",
      "[CV] learning_rate=0.2 ...............................................\n",
      "[CV] .......... learning_rate=0.2, score=0.530275229358, total=  39.1s\n",
      "[CV] learning_rate=0.2 ...............................................\n",
      "[CV] .......... learning_rate=0.2, score=0.530275229358, total=  38.8s\n",
      "[CV] learning_rate=0.2 ...............................................\n",
      "[CV] .......... learning_rate=0.2, score=0.525742039935, total=  38.8s\n",
      "[CV] learning_rate=0.2 ...............................................\n",
      "[CV] .......... learning_rate=0.2, score=0.523745277928, total=  37.5s\n",
      "[CV] learning_rate=0.3 ...............................................\n"
     ]
    },
    {
     "name": "stderr",
     "output_type": "stream",
     "text": [
      "[Parallel(n_jobs=-1)]: Done  17 tasks      | elapsed:  3.6min\n"
     ]
    },
    {
     "name": "stdout",
     "output_type": "stream",
     "text": [
      "[CV] .......... learning_rate=0.2, score=0.528116567728, total=  37.6s\n",
      "[CV] learning_rate=0.3 ...............................................\n",
      "[CV] .......... learning_rate=0.2, score=0.521964382083, total=  37.9s\n",
      "[CV] learning_rate=0.3 ...............................................\n",
      "[CV] .......... learning_rate=0.2, score=0.520237452779, total=  37.7s\n",
      "[CV] learning_rate=0.3 ...............................................\n",
      "[CV] .......... learning_rate=0.3, score=0.530760928225, total=  40.4s\n",
      "[CV] learning_rate=0.3 ...............................................\n",
      "[CV] .......... learning_rate=0.3, score=0.527037236913, total=  40.0s\n",
      "[CV] learning_rate=0.3 ...............................................\n",
      "[CV] .......... learning_rate=0.3, score=0.531516459795, total=  39.9s\n",
      "[CV] learning_rate=0.3 ...............................................\n",
      "[CV] .......... learning_rate=0.3, score=0.530275229358, total=  39.4s\n"
     ]
    },
    {
     "name": "stderr",
     "output_type": "stream",
     "text": [
      "[Parallel(n_jobs=-1)]: Done  24 tasks      | elapsed:  4.4min\n"
     ]
    },
    {
     "name": "stdout",
     "output_type": "stream",
     "text": [
      "[CV] learning_rate=0.3 ...............................................\n",
      "[CV] .......... learning_rate=0.3, score=0.530275229358, total=  37.6s\n",
      "[CV] learning_rate=0.3 ...............................................\n",
      "[CV] .......... learning_rate=0.3, score=0.525742039935, total=  37.6s\n",
      "[CV] learning_rate=0.3 ...............................................\n",
      "[CV] .......... learning_rate=0.3, score=0.523745277928, total=  37.7s\n",
      "[CV] learning_rate=0.4 ...............................................\n",
      "[CV] .......... learning_rate=0.3, score=0.528116567728, total=  37.4s\n",
      "[CV] learning_rate=0.4 ...............................................\n",
      "[CV] .......... learning_rate=0.3, score=0.521964382083, total=  37.4s\n",
      "[CV] learning_rate=0.4 ...............................................\n",
      "[CV] .......... learning_rate=0.3, score=0.520237452779, total=  37.1s\n",
      "[CV] learning_rate=0.4 ...............................................\n",
      "[CV] .......... learning_rate=0.4, score=0.530760928225, total=  37.2s\n",
      "[CV] learning_rate=0.4 ...............................................\n",
      "[CV] .......... learning_rate=0.4, score=0.527037236913, total=  37.0s\n",
      "[CV] learning_rate=0.4 ...............................................\n",
      "[CV] .......... learning_rate=0.4, score=0.531516459795, total=  39.0s\n",
      "[CV] learning_rate=0.4 ...............................................\n"
     ]
    },
    {
     "name": "stderr",
     "output_type": "stream",
     "text": [
      "[Parallel(n_jobs=-1)]: Done  33 tasks      | elapsed:  6.4min\n"
     ]
    },
    {
     "name": "stdout",
     "output_type": "stream",
     "text": [
      "[CV] .......... learning_rate=0.4, score=0.530275229358, total=  38.5s\n",
      "[CV] learning_rate=0.4 ...............................................\n",
      "[CV] .......... learning_rate=0.4, score=0.530275229358, total=  38.2s\n",
      "[CV] learning_rate=0.4 ...............................................\n",
      "[CV] .......... learning_rate=0.4, score=0.525742039935, total=  37.9s\n",
      "[CV] learning_rate=0.4 ...............................................\n",
      "[CV] .......... learning_rate=0.4, score=0.523745277928, total=  36.5s\n",
      "[CV] learning_rate=0.5 ...............................................\n",
      "[CV] .......... learning_rate=0.4, score=0.528116567728, total=  36.6s\n",
      "[CV] learning_rate=0.5 ...............................................\n",
      "[CV] .......... learning_rate=0.4, score=0.521964382083, total=  36.2s\n",
      "[CV] learning_rate=0.5 ...............................................\n",
      "[CV] .......... learning_rate=0.4, score=0.520237452779, total=  36.3s\n",
      "[CV] learning_rate=0.5 ...............................................\n",
      "[CV] .......... learning_rate=0.5, score=0.530760928225, total=  39.3s\n",
      "[CV] learning_rate=0.5 ...............................................\n",
      "[CV] .......... learning_rate=0.5, score=0.527037236913, total=  38.8s\n",
      "[CV] learning_rate=0.5 ...............................................\n"
     ]
    },
    {
     "name": "stderr",
     "output_type": "stream",
     "text": [
      "[Parallel(n_jobs=-1)]: Done  42 tasks      | elapsed:  7.9min\n"
     ]
    },
    {
     "name": "stdout",
     "output_type": "stream",
     "text": [
      "[CV] .......... learning_rate=0.5, score=0.531516459795, total=  38.4s\n",
      "[CV] learning_rate=0.5 ...............................................\n",
      "[CV] .......... learning_rate=0.5, score=0.530275229358, total=  38.5s\n",
      "[CV] learning_rate=0.5 ...............................................\n",
      "[CV] .......... learning_rate=0.5, score=0.530275229358, total=  38.2s\n",
      "[CV] learning_rate=0.5 ...............................................\n",
      "[CV] .......... learning_rate=0.5, score=0.525742039935, total=  37.9s\n",
      "[CV] learning_rate=0.5 ...............................................\n",
      "[CV] .......... learning_rate=0.5, score=0.523745277928, total=  37.3s\n",
      "[CV] learning_rate=0.6 ...............................................\n",
      "[CV] .......... learning_rate=0.5, score=0.528116567728, total=  37.4s\n",
      "[CV] learning_rate=0.6 ...............................................\n",
      "[CV] .......... learning_rate=0.5, score=0.521964382083, total=  38.2s\n",
      "[CV] learning_rate=0.6 ...............................................\n",
      "[CV] .......... learning_rate=0.5, score=0.520237452779, total=  38.3s\n",
      "[CV] learning_rate=0.6 ...............................................\n",
      "[CV] .......... learning_rate=0.6, score=0.530760928225, total=  38.2s\n",
      "[CV] learning_rate=0.6 ...............................................\n",
      "[CV] .......... learning_rate=0.6, score=0.527037236913, total=  38.2s\n",
      "[CV] learning_rate=0.6 ...............................................\n",
      "[CV] .......... learning_rate=0.6, score=0.531516459795, total=  42.6s\n",
      "[CV] learning_rate=0.6 ...............................................\n"
     ]
    },
    {
     "name": "stderr",
     "output_type": "stream",
     "text": [
      "[Parallel(n_jobs=-1)]: Done  53 tasks      | elapsed: 10.0min\n"
     ]
    },
    {
     "name": "stdout",
     "output_type": "stream",
     "text": [
      "[CV] .......... learning_rate=0.6, score=0.530275229358, total=  44.1s\n",
      "[CV] learning_rate=0.6 ...............................................\n",
      "[CV] .......... learning_rate=0.6, score=0.530275229358, total=  44.5s\n",
      "[CV] learning_rate=0.6 ...............................................\n",
      "[CV] .......... learning_rate=0.6, score=0.525742039935, total=  45.0s\n",
      "[CV] learning_rate=0.6 ...............................................\n",
      "[CV] .......... learning_rate=0.6, score=0.523745277928, total=  43.1s\n",
      "[CV] learning_rate=0.7 ...............................................\n",
      "[CV] .......... learning_rate=0.6, score=0.528116567728, total=  42.6s\n",
      "[CV] learning_rate=0.7 ...............................................\n",
      "[CV] .......... learning_rate=0.6, score=0.521964382083, total=  42.5s\n",
      "[CV] learning_rate=0.7 ...............................................\n",
      "[CV] .......... learning_rate=0.6, score=0.520237452779, total=  42.3s\n",
      "[CV] learning_rate=0.7 ...............................................\n",
      "[CV] .......... learning_rate=0.7, score=0.530760928225, total=  39.5s\n",
      "[CV] learning_rate=0.7 ...............................................\n",
      "[CV] .......... learning_rate=0.7, score=0.527037236913, total=  38.8s\n",
      "[CV] learning_rate=0.7 ...............................................\n",
      "[CV] .......... learning_rate=0.7, score=0.531516459795, total=  38.8s\n",
      "[CV] learning_rate=0.7 ...............................................\n",
      "[CV] .......... learning_rate=0.7, score=0.530275229358, total=  38.4s\n",
      "[CV] learning_rate=0.7 ...............................................\n"
     ]
    },
    {
     "name": "stderr",
     "output_type": "stream",
     "text": [
      "[Parallel(n_jobs=-1)]: Done  64 tasks      | elapsed: 11.6min\n"
     ]
    },
    {
     "name": "stdout",
     "output_type": "stream",
     "text": [
      "[CV] .......... learning_rate=0.7, score=0.530275229358, total=  39.1s\n",
      "[CV] learning_rate=0.7 ...............................................\n",
      "[CV] .......... learning_rate=0.7, score=0.525742039935, total=  39.0s\n",
      "[CV] learning_rate=0.7 ...............................................\n",
      "[CV] .......... learning_rate=0.7, score=0.523745277928, total=  39.3s\n",
      "[CV] learning_rate=0.8 ...............................................\n",
      "[CV] .......... learning_rate=0.7, score=0.528116567728, total=  39.0s\n",
      "[CV] learning_rate=0.8 ...............................................\n",
      "[CV] .......... learning_rate=0.7, score=0.521964382083, total=  41.6s\n",
      "[CV] learning_rate=0.8 ...............................................\n",
      "[CV] .......... learning_rate=0.7, score=0.520237452779, total=  41.7s\n",
      "[CV] learning_rate=0.8 ...............................................\n",
      "[CV] .......... learning_rate=0.8, score=0.530760928225, total=  41.0s\n",
      "[CV] learning_rate=0.8 ...............................................\n",
      "[CV] .......... learning_rate=0.8, score=0.527037236913, total=  40.4s\n",
      "[CV] learning_rate=0.8 ...............................................\n",
      "[CV] .......... learning_rate=0.8, score=0.531516459795, total=  39.2s\n",
      "[CV] learning_rate=0.8 ...............................................\n",
      "[CV] .......... learning_rate=0.8, score=0.530275229358, total=  39.1s\n",
      "[CV] learning_rate=0.8 ...............................................\n",
      "[CV] .......... learning_rate=0.8, score=0.530275229358, total=  38.9s\n",
      "[CV] learning_rate=0.8 ...............................................\n",
      "[CV] .......... learning_rate=0.8, score=0.525742039935, total=  38.6s\n",
      "[CV] learning_rate=0.8 ...............................................\n",
      "[CV] .......... learning_rate=0.8, score=0.523745277928, total=  38.9s\n",
      "[CV] learning_rate=0.9 ...............................................\n"
     ]
    },
    {
     "name": "stderr",
     "output_type": "stream",
     "text": [
      "[Parallel(n_jobs=-1)]: Done  77 tasks      | elapsed: 14.4min\n"
     ]
    },
    {
     "name": "stdout",
     "output_type": "stream",
     "text": [
      "[CV] .......... learning_rate=0.8, score=0.528116567728, total=  38.6s\n",
      "[CV] learning_rate=0.9 ...............................................\n",
      "[CV] .......... learning_rate=0.8, score=0.521964382083, total=  38.6s\n",
      "[CV] learning_rate=0.9 ...............................................\n",
      "[CV] .......... learning_rate=0.8, score=0.520237452779, total=  38.4s\n",
      "[CV] learning_rate=0.9 ...............................................\n",
      "[CV] .......... learning_rate=0.9, score=0.530760928225, total=  38.8s\n",
      "[CV] learning_rate=0.9 ...............................................\n",
      "[CV] .......... learning_rate=0.9, score=0.527037236913, total=  38.6s\n",
      "[CV] learning_rate=0.9 ...............................................\n",
      "[CV] .......... learning_rate=0.9, score=0.531516459795, total=  38.6s\n",
      "[CV] learning_rate=0.9 ...............................................\n",
      "[CV] .......... learning_rate=0.9, score=0.530275229358, total=  38.4s\n",
      "[CV] learning_rate=0.9 ...............................................\n",
      "[CV] .......... learning_rate=0.9, score=0.530275229358, total=  40.2s\n",
      "[CV] learning_rate=0.9 ...............................................\n",
      "[CV] .......... learning_rate=0.9, score=0.525742039935, total=  40.0s\n",
      "[CV] learning_rate=0.9 ...............................................\n",
      "[CV] .......... learning_rate=0.9, score=0.523745277928, total=  39.3s\n",
      "[CV] learning_rate=1.0 ...............................................\n",
      "[CV] .......... learning_rate=0.9, score=0.528116567728, total=  38.8s\n",
      "[CV] learning_rate=1.0 ...............................................\n",
      "[CV] .......... learning_rate=0.9, score=0.521964382083, total=  37.3s\n",
      "[CV] learning_rate=1.0 ...............................................\n",
      "[CV] .......... learning_rate=0.9, score=0.520237452779, total=  37.0s\n",
      "[CV] learning_rate=1.0 ...............................................\n"
     ]
    },
    {
     "name": "stderr",
     "output_type": "stream",
     "text": [
      "[Parallel(n_jobs=-1)]: Done  90 tasks      | elapsed: 16.6min\n"
     ]
    },
    {
     "name": "stdout",
     "output_type": "stream",
     "text": [
      "[CV] .......... learning_rate=1.0, score=0.530760928225, total=  37.1s\n",
      "[CV] learning_rate=1.0 ...............................................\n",
      "[CV] .......... learning_rate=1.0, score=0.527037236913, total=  36.7s\n",
      "[CV] learning_rate=1.0 ...............................................\n",
      "[CV] .......... learning_rate=1.0, score=0.531516459795, total=  36.9s\n",
      "[CV] learning_rate=1.0 ...............................................\n",
      "[CV] .......... learning_rate=1.0, score=0.530275229358, total=  36.5s\n",
      "[CV] learning_rate=1.0 ...............................................\n",
      "[CV] .......... learning_rate=1.0, score=0.530275229358, total=  36.4s\n",
      "[CV] learning_rate=1.0 ...............................................\n",
      "[CV] .......... learning_rate=1.0, score=0.525742039935, total=  36.4s\n",
      "[CV] learning_rate=1.0 ...............................................\n",
      "[CV] .......... learning_rate=1.0, score=0.523745277928, total=  37.5s\n",
      "[CV] .......... learning_rate=1.0, score=0.528116567728, total=  37.4s\n",
      "[CV] .......... learning_rate=1.0, score=0.521964382083, total=  37.0s\n",
      "[CV] .......... learning_rate=1.0, score=0.520237452779, total=  36.5s\n"
     ]
    },
    {
     "name": "stderr",
     "output_type": "stream",
     "text": [
      "[Parallel(n_jobs=-1)]: Done 100 out of 100 | elapsed: 18.0min finished\n"
     ]
    },
    {
     "data": {
      "text/plain": [
       "GridSearchCV(cv=ShuffleSplit(n_splits=10, random_state=0, test_size=0.2, train_size=None),\n",
       "       error_score='raise',\n",
       "       estimator=AdaBoostClassifier(algorithm='SAMME.R',\n",
       "          base_estimator=DecisionTreeClassifier(class_weight=None, criterion='gini', max_depth=None,\n",
       "            max_features=None, max_leaf_nodes=None,\n",
       "            min_impurity_decrease=0.1, min_impurity_split=None,\n",
       "            min_samples_leaf=10, min_samples_split=2,\n",
       "            min_weight_fraction_leaf=0.0, presort=False, random_state=None,\n",
       "            splitter='best'),\n",
       "          learning_rate=1.0, n_estimators=200, random_state=None),\n",
       "       fit_params=None, iid=True, n_jobs=-1,\n",
       "       param_grid={'learning_rate': array([ 0.1,  0.2,  0.3,  0.4,  0.5,  0.6,  0.7,  0.8,  0.9,  1. ])},\n",
       "       pre_dispatch='2*n_jobs', refit=True, return_train_score='warn',\n",
       "       scoring='accuracy', verbose=10)"
      ]
     },
     "execution_count": 19,
     "metadata": {},
     "output_type": "execute_result"
    }
   ],
   "source": [
    "# Code here is the algorithm tuning zone for the MLP\n",
    "# Don't run if not needed, the commented out parameters are the ones I tuned\n",
    "# These take hours to run\n",
    "dt = DecisionTreeClassifier(splitter='best', presort = False, min_impurity_decrease= 0.1, min_samples_leaf = 1)\n",
    "dt.fit(x, y)\n",
    "prune(dt, 10)\n",
    "ada = AdaBoostClassifier(base_estimator = dt, n_estimators = 200, learning_rate = 0.1)\n",
    "cv = ShuffleSplit(n_splits=10, test_size=0.2, random_state=0)\n",
    "# parameters = {'n_estimators':(np.arange(200, 2200, 200))}\n",
    "# parameters = {'learning_rate': np.arange(0.1, 1.1, 0.1)}\n",
    "adaGS = GridSearchCV(ada, parameters, cv = cv, scoring='accuracy', verbose=10, n_jobs=-1)\n",
    "adaGS.fit(x, y)"
   ]
  },
  {
   "cell_type": "code",
   "execution_count": 20,
   "metadata": {},
   "outputs": [
    {
     "name": "stdout",
     "output_type": "stream",
     "text": [
      "0.52696708041\n",
      "0.1\n",
      "[ 0.52696708  0.52696708  0.52696708  0.52696708  0.52696708  0.52696708\n",
      "  0.52696708  0.52696708  0.52696708  0.52696708]\n",
      "[ 0.52641428  0.52641428  0.52641428  0.52641428  0.52641428  0.52641428\n",
      "  0.52641428  0.52641428  0.52641428  0.52641428]\n"
     ]
    }
   ],
   "source": [
    "print(adaGS.best_score_)\n",
    "print(adaGS.best_estimator_.learning_rate)\n",
    "print adaGS.cv_results_['mean_test_score']\n",
    "print adaGS.cv_results_['mean_train_score']"
   ]
  },
  {
   "cell_type": "code",
   "execution_count": 21,
   "metadata": {},
   "outputs": [
    {
     "data": {
      "text/plain": [
       "<matplotlib.legend.Legend at 0x10b636510>"
      ]
     },
     "execution_count": 21,
     "metadata": {},
     "output_type": "execute_result"
    },
    {
     "data": {
      "image/png": "[encoded data removed]",
      "text/plain": [
       "<matplotlib.figure.Figure at 0x1094a1790>"
      ]
     },
     "metadata": {},
     "output_type": "display_data"
    }
   ],
   "source": [
    "# Graph drawing section, code changed everytime when i need a new graph, will be commented\n",
    "plt.figure()\n",
    "plt.title(\"AdaBoosted D-Tree learning_rate\")\n",
    "plt.xlabel(\"learning_rate\")\n",
    "plt.ylabel(\"Score\")\n",
    "\n",
    "plt.grid()\n",
    "\n",
    "plt.plot(adaGS.param_grid['learning_rate'], adaGS.cv_results_['mean_test_score'], 'o-', color=\"r\",\n",
    "         label=\"Cross Validation Score\" )\n",
    "plt.plot(adaGS.param_grid['learning_rate'], adaGS.cv_results_['mean_train_score'], 'o-', color=\"g\",\n",
    "         label=\"Training Score\")\n",
    "plt.legend(loc=\"best\")"
   ]
  },
  {
   "cell_type": "code",
   "execution_count": 23,
   "metadata": {},
   "outputs": [
    {
     "data": {
      "text/plain": [
       "<matplotlib.legend.Legend at 0x10aeeb590>"
      ]
     },
     "execution_count": 23,
     "metadata": {},
     "output_type": "execute_result"
    },
    {
     "data": {
      "image/png": "[encoded data removed]",
      "text/plain": [
       "<matplotlib.figure.Figure at 0x10b6fdd90>"
      ]
     },
     "metadata": {},
     "output_type": "display_data"
    }
   ],
   "source": [
    "sampleNum = []\n",
    "trainScoreArr = []\n",
    "testScoreArr = []\n",
    "index = -1\n",
    "bestScore = 0\n",
    "\n",
    "for i in range (1, 11):\n",
    "    xTrainRound = x\n",
    "    yTrainRound = y\n",
    "    if i < 10:\n",
    "        xTrainRound, throwaway1, yTrainRound, throwaway2 = train_test_split(x, y, test_size=i/10.0)\n",
    "    \n",
    "    dt = DecisionTreeClassifier(splitter='best', presort = False, min_impurity_decrease= 0.1, min_samples_leaf = 1)\n",
    "    dt.fit(xTrainRound, yTrainRound)\n",
    "    prune(dt, 10)\n",
    "    ada = AdaBoostClassifier(base_estimator = dt, n_estimators = 200, learning_rate = 0.1)\n",
    "    ada.fit(xTrainRound, yTrainRound)\n",
    "    \n",
    "    trainPredRes = ada.predict(xTrainRound)\n",
    "    trainPredRes = pd.DataFrame(data=trainPredRes, columns=['hand'])\n",
    "    trainAcc = accuracy_score(yTrainRound, trainPredRes)\n",
    "    \n",
    "    testPredRes = ada.predict(testX)\n",
    "    testPredRes = pd.DataFrame(data=testPredRes, columns=['hand'])\n",
    "    testAcc = accuracy_score(testY, testPredRes)\n",
    "    \n",
    "    if testAcc > bestScore:\n",
    "        index = i\n",
    "        bestScore = testAcc\n",
    "    trainScoreArr.append(trainAcc)\n",
    "    testScoreArr.append(testAcc)\n",
    "    sampleNum.append(92649 * i / 10.0)\n",
    "    \n",
    "\n",
    "plt.figure()\n",
    "plt.title(\"Adaboost Train Test Error\")\n",
    "plt.xlabel(\"Num of Samples\")\n",
    "plt.ylabel(\"Accuracy Score\")\n",
    "# plt.ylim(*(0.55, 1.02))\n",
    "\n",
    "plt.grid()\n",
    "\n",
    "plt.plot(sampleNum, testScoreArr, 'o-', color=\"r\", label = \"Testing Score\")\n",
    "plt.plot(sampleNum, trainScoreArr, 'o-', color=\"g\", label = \"Training Score\")\n",
    "plt.legend(loc=\"best\")"
   ]
  },
  {
   "cell_type": "code",
   "execution_count": null,
   "metadata": {},
   "outputs": [],
   "source": [
    "# ADA detailed results\n",
    "dt = DecisionTreeClassifier(splitter='best', presort = False, min_impurity_decrease= 0.1, min_samples_leaf = 1)\n",
    "dt.fit(x, y)\n",
    "prune(dt, 10)\n",
    "ada = AdaBoostClassifier(base_estimator = dt, n_estimators = 200, learning_rate = 0.1)\n",
    "ada.fit(x, y)\n",
    "\n",
    "adaPredicted = ada.predict(testX)\n",
    "print metrics.classification_report(testY, adaPredicted)\n",
    "adaPredicted = pd.DataFrame(data=adaPredicted, columns=['team'])\n",
    "print adaPredicted.team.value_counts()"
   ]
  },
  {
   "cell_type": "code",
   "execution_count": null,
   "metadata": {},
   "outputs": [
    {
     "name": "stdout",
     "output_type": "stream",
     "text": [
      "Fitting 5 folds for each of 3 candidates, totalling 15 fits\n",
      "[CV] kernel=linear ...................................................\n",
      "[CV] kernel=linear ...................................................\n",
      "[CV] kernel=linear ...................................................\n",
      "[CV] kernel=linear ...................................................\n",
      "[CV] kernel=linear ...................................................\n",
      "[CV] kernel=rbf ......................................................\n",
      "[CV] kernel=rbf ......................................................\n",
      "[CV] kernel=rbf ......................................................\n",
      "[CV] ................ kernel=rbf, score=0.598111171074, total=107.1min\n",
      "[CV] kernel=rbf ......................................................\n",
      "[CV] ................ kernel=rbf, score=0.595304910955, total=107.2min\n",
      "[CV] kernel=rbf ......................................................\n"
     ]
    },
    {
     "name": "stderr",
     "output_type": "stream",
     "text": [
      "[Parallel(n_jobs=-1)]: Done   2 out of  15 | elapsed: 163.7min remaining: 1064.0min\n"
     ]
    },
    {
     "name": "stdout",
     "output_type": "stream",
     "text": [
      "[CV] ................ kernel=rbf, score=0.599676200756, total=109.8min\n",
      "[CV] kernel=poly .....................................................\n",
      "[CV] ................ kernel=rbf, score=0.594495412844, total=103.8min\n",
      "[CV] kernel=poly .....................................................\n"
     ]
    },
    {
     "name": "stderr",
     "output_type": "stream",
     "text": [
      "[Parallel(n_jobs=-1)]: Done   4 out of  15 | elapsed: 320.3min remaining: 880.8min\n"
     ]
    },
    {
     "name": "stdout",
     "output_type": "stream",
     "text": [
      "[CV] ................ kernel=rbf, score=0.596114409066, total=106.7min\n",
      "[CV] kernel=poly .....................................................\n",
      "[CV] ............. kernel=linear, score=0.602536427415, total=590.1min\n",
      "[CV] kernel=poly .....................................................\n"
     ]
    },
    {
     "name": "stderr",
     "output_type": "stream",
     "text": [
      "[Parallel(n_jobs=-1)]: Done   6 out of  15 | elapsed: 642.4min remaining: 963.6min\n"
     ]
    },
    {
     "name": "stdout",
     "output_type": "stream",
     "text": [
      "[CV] ............. kernel=linear, score=0.597571505666, total=593.4min\n",
      "[CV] kernel=poly .....................................................\n",
      "[CV] ............... kernel=linear, score=0.5985429034, total=593.6min\n"
     ]
    },
    {
     "name": "stderr",
     "output_type": "stream",
     "text": [
      "[Parallel(n_jobs=-1)]: Done   8 out of  15 | elapsed: 646.0min remaining: 565.2min\n"
     ]
    },
    {
     "name": "stdout",
     "output_type": "stream",
     "text": [
      "[CV] ............. kernel=linear, score=0.604047490556, total=596.0min\n",
      "[CV] ............. kernel=linear, score=0.606637884512, total=597.8min\n"
     ]
    },
    {
     "name": "stderr",
     "output_type": "stream",
     "text": [
      "[Parallel(n_jobs=-1)]: Done  10 out of  15 | elapsed: 649.3min remaining: 324.7min\n"
     ]
    },
    {
     "name": "stdout",
     "output_type": "stream",
     "text": [
      "[CV] ............... kernel=poly, score=0.589314624933, total=892.3min\n",
      "[CV] ............... kernel=poly, score=0.589260658392, total=813.4min\n"
     ]
    },
    {
     "name": "stderr",
     "output_type": "stream",
     "text": [
      "[Parallel(n_jobs=-1)]: Done  12 out of  15 | elapsed: 1145.4min remaining: 286.3min\n"
     ]
    },
    {
     "name": "stdout",
     "output_type": "stream",
     "text": [
      "[CV] ............... kernel=poly, score=0.588720992984, total=865.8min\n",
      "[CV] ............... kernel=poly, score=0.595250944414, total=612.2min\n",
      "[CV] ............... kernel=poly, score=0.587263896384, total=638.2min\n"
     ]
    },
    {
     "name": "stderr",
     "output_type": "stream",
     "text": [
      "[Parallel(n_jobs=-1)]: Done  15 out of  15 | elapsed: 1285.3min finished\n"
     ]
    }
   ],
   "source": [
    "# Code here is the algorithm tuning zone will be commented out takes a long time to run\n",
    "\n",
    "svc = SVC()\n",
    "cv = ShuffleSplit(n_splits=5, test_size=0.2, random_state=0)\n",
    "parameters = {'kernel': ('linear', 'rbf', 'poly')} \n",
    "svcGS= GridSearchCV(svc, parameters, cv = cv, scoring='accuracy', verbose=10, n_jobs=-1)\n",
    "svcGS.fit(x, y)"
   ]
  },
  {
   "cell_type": "code",
   "execution_count": null,
   "metadata": {},
   "outputs": [],
   "source": [
    "# Printouts --\n",
    "print(svcGS.best_score_)\n",
    "print(svcGS.best_estimator_.kernel)\n",
    "print svcGS.param_grid['kernel']\n",
    "print(svcGS.cv_results_['mean_test_score'])\n",
    "print(svcGS.cv_results_['mean_train_score'])"
   ]
  },
  {
   "cell_type": "code",
   "execution_count": null,
   "metadata": {},
   "outputs": [],
   "source": [
    "# Graph drawing section, code changed everytime when i need a new graph, will be commented\n",
    "plt.figure()\n",
    "plt.title(\"SVC  Dota2 Dataset\")\n",
    "plt.xlabel(\"Power Parameter\")\n",
    "plt.ylabel(\"Score\")\n",
    "\n",
    "plt.grid()\n",
    "\n",
    "plt.plot(svcGS.param_grid['p'], svcGS.cv_results_['mean_test_score'], 'o-', color=\"r\",\n",
    "         label=\"Cross Validation Score\" )\n",
    "plt.plot(svcGS.param_grid['p'], svcGS.cv_results_['mean_train_score'], 'o-', color=\"g\",\n",
    "         label=\"Training Score\")\n",
    "plt.legend(loc=\"best\")"
   ]
  },
  {
   "cell_type": "code",
   "execution_count": 10,
   "metadata": {},
   "outputs": [
    {
     "name": "stdout",
     "output_type": "stream",
     "text": [
      "Linear Done\n",
      "RBF Done\n"
     ]
    },
    {
     "data": {
      "text/plain": [
       "<matplotlib.legend.Legend at 0x10d7e5950>"
      ]
     },
     "execution_count": 10,
     "metadata": {},
     "output_type": "execute_result"
    },
    {
     "data": {
      "image/png": "[encoded data removed]",
      "text/plain": [
       "<matplotlib.figure.Figure at 0x10d737450>"
      ]
     },
     "metadata": {},
     "output_type": "display_data"
    }
   ],
   "source": [
    "## TRAIN TEST GRAPH ## TAKES HOURS TO RUN \n",
    "sampleNum = []\n",
    "trainScoreArr1 = []\n",
    "testScoreArr1 = []\n",
    "trainScoreArr2 = []\n",
    "testScoreArr2 = []\n",
    "index = -1\n",
    "bestScore = 0\n",
    "\n",
    "for i in range (1, 11):\n",
    "    xTrainRound = x\n",
    "    yTrainRound = y\n",
    "    if i < 10:\n",
    "        xTrainRound, throwaway1, yTrainRound, throwaway2 = train_test_split(x, y, test_size=i/10.0)\n",
    "    \n",
    "    svc = SVC(kernel= 'linear')\n",
    "    svc.fit(xTrainRound, yTrainRound)\n",
    "    \n",
    "    trainPredRes = svc.predict(xTrainRound)\n",
    "    trainPredRes = pd.DataFrame(data=trainPredRes, columns=['hand'])\n",
    "    trainAcc = accuracy_score(yTrainRound, trainPredRes)\n",
    "    \n",
    "    testPredRes = svc.predict(testX)\n",
    "    testPredRes = pd.DataFrame(data=testPredRes, columns=['hand'])\n",
    "    testAcc = accuracy_score(testY, testPredRes)\n",
    "    \n",
    "    if testAcc > bestScore:\n",
    "        index = i\n",
    "        bestScore = testAcc\n",
    "    trainScoreArr1.append(trainAcc)\n",
    "    testScoreArr1.append(testAcc)\n",
    "    sampleNum.append(92649 * i / 10.0)\n",
    "    \n",
    "print \"Linear Done\"\n",
    "# for i in range (1, 11):\n",
    "#     xTrainRound = x\n",
    "#     yTrainRound = y\n",
    "#     if i < 10:\n",
    "#         xTrainRound, throwaway1, yTrainRound, throwaway2 = train_test_split(x, y, test_size=i/5.0)\n",
    "    \n",
    "#     svc = SVC(kernel= 'rbf', verbose = True)\n",
    "#     svc.fit(xTrainRound, yTrainRound)\n",
    "    \n",
    "#     trainPredRes = svc.predict(xTrainRound)\n",
    "#     trainPredRes = pd.DataFrame(data=trainPredRes, columns=['hand'])\n",
    "#     trainAcc = accuracy_score(yTrainRound, trainPredRes)\n",
    "    \n",
    "#     testPredRes = svc.predict(testX)\n",
    "#     testPredRes = pd.DataFrame(data=testPredRes, columns=['hand'])\n",
    "#     testAcc = accuracy_score(testY, testPredRes)\n",
    "    \n",
    "#     if testAcc > bestScore:\n",
    "#         index = i\n",
    "#         bestScore = testAcc\n",
    "#     trainScoreArr2.append(trainAcc)\n",
    "#     testScoreArr2.append(testAcc)\n",
    "    \n",
    "print \"RBF Done\"\n",
    "\n",
    "plt.figure()\n",
    "plt.title(\"SVC Train Test Error\")\n",
    "plt.xlabel(\"Num of Samples\")\n",
    "plt.ylabel(\"Accuracy Score\")\n",
    "# plt.ylim(*(0.55, 1.02))\n",
    "\n",
    "plt.grid()\n",
    "\n",
    "plt.plot(sampleNum, testScoreArr1, 'o-', color=\"r\", label = \"Test LIN\")\n",
    "plt.plot(sampleNum, trainScoreArr1, 'o-', color=\"g\", label = \"Train LIN\")\n",
    "# plt.plot(sampleNum, testScoreArr2, 'o-', color=\"y\", label = \"Test RBF\")\n",
    "# plt.plot(sampleNum, trainScoreArr2, 'o-', color=\"m\", label = \"Train RBF\")\n",
    "plt.legend(loc=\"best\")\n"
   ]
  },
  {
   "cell_type": "code",
   "execution_count": null,
   "metadata": {},
   "outputs": [],
   "source": [
    "# SVC detailed results\n",
    "svc = SVC(kernel= 'linear')\n",
    "svc.fit(x, y)\n",
    "\n",
    "svcPredicted = mlp.predict(testX)\n",
    "print metrics.classification_report(testY, svcPredicted)\n",
    "svcPredicted = pd.DataFrame(data=svcPredicted, columns=['team'])\n",
    "print svcPredicted.team.value_counts()"
   ]
  },
  {
   "cell_type": "code",
   "execution_count": 131,
   "metadata": {},
   "outputs": [
    {
     "data": {
      "text/plain": [
       "KNeighborsClassifier(algorithm='auto', leaf_size=30, metric='minkowski',\n",
       "           metric_params=None, n_jobs=1, n_neighbors=5, p=2,\n",
       "           weights='uniform')"
      ]
     },
     "execution_count": 131,
     "metadata": {},
     "output_type": "execute_result"
    }
   ],
   "source": [
    "knn = KNeighborsClassifier()\n",
    "knn.fit(x,y)"
   ]
  },
  {
   "cell_type": "code",
   "execution_count": 4,
   "metadata": {},
   "outputs": [
    {
     "name": "stdout",
     "output_type": "stream",
     "text": [
      "Fitting 5 folds for each of 3 candidates, totalling 15 fits\n",
      "[CV] p=1 .............................................................\n",
      "[CV] p=1 .............................................................\n",
      "[CV] p=1 .............................................................\n",
      "[CV] p=1 .............................................................\n",
      "[CV] p=1 .............................................................\n",
      "[CV] p=2 .............................................................\n",
      "[CV] p=2 .............................................................\n",
      "[CV] p=2 .............................................................\n",
      "[CV] ........................ p=2, score=0.564867781975, total= 4.3min\n",
      "[CV] p=2 .............................................................\n",
      "[CV] ........................ p=2, score=0.560442525634, total= 4.2min\n",
      "[CV] p=2 .............................................................\n"
     ]
    },
    {
     "name": "stderr",
     "output_type": "stream",
     "text": [
      "[Parallel(n_jobs=-1)]: Done   2 out of  15 | elapsed: 21.4min remaining: 139.1min\n"
     ]
    },
    {
     "name": "stdout",
     "output_type": "stream",
     "text": [
      "[CV] ........................ p=2, score=0.562385321101, total= 4.3min\n",
      "[CV] p=3 .............................................................\n",
      "[CV] ........................ p=1, score=0.557150566649, total= 7.6min\n",
      "[CV] p=3 .............................................................\n"
     ]
    },
    {
     "name": "stderr",
     "output_type": "stream",
     "text": [
      "[Parallel(n_jobs=-1)]: Done   4 out of  15 | elapsed: 39.0min remaining: 107.3min\n"
     ]
    },
    {
     "name": "stdout",
     "output_type": "stream",
     "text": [
      "[CV] ........................ p=1, score=0.560280626012, total= 7.6min\n",
      "[CV] p=3 .............................................................\n",
      "[CV] ........................ p=1, score=0.563248785753, total= 7.7min\n",
      "[CV] p=3 .............................................................\n"
     ]
    },
    {
     "name": "stderr",
     "output_type": "stream",
     "text": [
      "[Parallel(n_jobs=-1)]: Done   6 out of  15 | elapsed: 39.1min remaining: 58.7min\n"
     ]
    },
    {
     "name": "stdout",
     "output_type": "stream",
     "text": [
      "[CV] ........................ p=1, score=0.562277388019, total= 7.7min\n",
      "[CV] p=3 .............................................................\n",
      "[CV] ........................ p=1, score=0.565731246627, total= 7.7min\n"
     ]
    },
    {
     "name": "stderr",
     "output_type": "stream",
     "text": [
      "[Parallel(n_jobs=-1)]: Done   8 out of  15 | elapsed: 39.4min remaining: 34.4min\n"
     ]
    },
    {
     "name": "stdout",
     "output_type": "stream",
     "text": [
      "[CV] ........................ p=2, score=0.564328116568, total= 4.2min\n",
      "[CV] ........................ p=2, score=0.562871019968, total= 4.6min\n"
     ]
    },
    {
     "name": "stderr",
     "output_type": "stream",
     "text": [
      "[Parallel(n_jobs=-1)]: Done  10 out of  15 | elapsed: 41.5min remaining: 20.8min\n"
     ]
    },
    {
     "name": "stdout",
     "output_type": "stream",
     "text": [
      "[CV] ........................ p=3, score=0.565461413923, total=19.5min\n",
      "[CV] ........................ p=3, score=0.559093362115, total=14.9min\n"
     ]
    },
    {
     "name": "stderr",
     "output_type": "stream",
     "text": [
      "[Parallel(n_jobs=-1)]: Done  12 out of  15 | elapsed: 108.5min remaining: 27.1min\n"
     ]
    },
    {
     "name": "stdout",
     "output_type": "stream",
     "text": [
      "[CV] ........................ p=3, score=0.563464651916, total=14.5min\n",
      "[CV] ........................ p=3, score=0.557420399352, total=14.6min\n",
      "[CV] ........................ p=3, score=0.557582298975, total=14.4min\n"
     ]
    },
    {
     "name": "stderr",
     "output_type": "stream",
     "text": [
      "[Parallel(n_jobs=-1)]: Done  15 out of  15 | elapsed: 109.9min finished\n"
     ]
    },
    {
     "data": {
      "text/plain": [
       "GridSearchCV(cv=ShuffleSplit(n_splits=5, random_state=0, test_size=0.2, train_size=None),\n",
       "       error_score='raise',\n",
       "       estimator=KNeighborsClassifier(algorithm='auto', leaf_size=80, metric='minkowski',\n",
       "           metric_params=None, n_jobs=1, n_neighbors=350, p=2,\n",
       "           weights='uniform'),\n",
       "       fit_params=None, iid=True, n_jobs=-1,\n",
       "       param_grid={'p': array([1, 2, 3])}, pre_dispatch='2*n_jobs',\n",
       "       refit=True, return_train_score='warn', scoring='accuracy',\n",
       "       verbose=10)"
      ]
     },
     "execution_count": 4,
     "metadata": {},
     "output_type": "execute_result"
    }
   ],
   "source": [
    "# Code here is the algorithm tuning zone will be commented out takes a long time to run ## DO NOT RUN\n",
    "\n",
    "knn = KNeighborsClassifier(leaf_size = 80, n_neighbors=350, p=2)\n",
    "cv = ShuffleSplit(n_splits=5, test_size=0.2, random_state=0)\n",
    "# parameters = {'n_neighbors': (np.arange(50, 500, 50))} \n",
    "# parameters = {'leaf_size': (np.arange(10, 100, 10))}\n",
    "parameters = {'p' : (np.arange(1, 4))}\n",
    "knnGS = GridSearchCV(knn, parameters, cv = cv, scoring='accuracy', verbose=10, n_jobs=-1)\n",
    "knnGS.fit(x, y)"
   ]
  },
  {
   "cell_type": "code",
   "execution_count": 5,
   "metadata": {},
   "outputs": [
    {
     "name": "stderr",
     "output_type": "stream",
     "text": [
      "/home/kristian/venv/data-science/local/lib/python2.7/site-packages/sklearn/utils/deprecation.py:122: FutureWarning: You are accessing a training score ('mean_train_score'), which will not be available by default any more in 0.21. If you need training scores, please set return_train_score=True\n",
      "  warnings.warn(*warn_args, **warn_kwargs)\n"
     ]
    },
    {
     "data": {
      "text/plain": [
       "<matplotlib.legend.Legend at 0x7ffa18138a90>"
      ]
     },
     "execution_count": 5,
     "metadata": {},
     "output_type": "execute_result"
    },
    {
     "data": {
      "image/png": "[encoded data removed]",
      "text/plain": [
       "<matplotlib.figure.Figure at 0x7ffa19a25ed0>"
      ]
     },
     "metadata": {},
     "output_type": "display_data"
    }
   ],
   "source": [
    "# Graph drawing section, code changed everytime when i need a new graph, will be commented\n",
    "plt.figure()\n",
    "plt.title(\"KNN Power Parameter Dota2 Dataset\")\n",
    "plt.xlabel(\"Power Parameter\")\n",
    "plt.ylabel(\"Score\")\n",
    "\n",
    "plt.grid()\n",
    "\n",
    "plt.plot(knnGS.param_grid['p'], knnGS.cv_results_['mean_test_score'], 'o-', color=\"r\",\n",
    "         label=\"Cross Validation Score\" )\n",
    "plt.plot(knnGS.param_grid['p'], knnGS.cv_results_['mean_train_score'], 'o-', color=\"g\",\n",
    "         label=\"Training Score\")\n",
    "plt.legend(loc=\"best\")"
   ]
  },
  {
   "cell_type": "code",
   "execution_count": 7,
   "metadata": {},
   "outputs": [
    {
     "name": "stdout",
     "output_type": "stream",
     "text": [
      "0.562978953049\n",
      "2\n",
      "[1 2 3]\n",
      "[ 0.56173772  0.56297895  0.56060443]\n",
      "[ 0.57277891  0.57191813  0.57053387]\n"
     ]
    }
   ],
   "source": [
    "# Printouts -- TO BE REMOVED\n",
    "print(knnGS.best_score_)\n",
    "print(knnGS.best_estimator_.p)\n",
    "print knnGS.param_grid['p']\n",
    "print(knnGS.cv_results_['mean_test_score'])\n",
    "print(knnGS.cv_results_['mean_train_score'])"
   ]
  },
  {
   "cell_type": "code",
   "execution_count": 7,
   "metadata": {},
   "outputs": [],
   "source": [
    "nnParam = [50,60,70,80,90,100,110,120,130,140]\n",
    "nnScore = [ 0.54756611, 0.54765246 ,0.5503184  ,0.55109552,  0.55184026, 0.5529088 ,0.55357798 ,0.5556395, 0.55722612, 0.55671883]\n",
    "nnTrain = [0, 0, 0, 0, 0, 0.58380172, 0.58243365, 0.58160256, 0.5803775, 0.57954101]\n",
    "lsParam = [10, 20, 30, 40, 50, 60, 70, 80, 90]\n",
    "lsScore = [0.1, 0.2, 0.3, 0.4, 0.5, 0.6, 0.7, 0.7, 0.7]\n",
    "lsScore = [ 0.52411225 , 0.52422018,  0.52422018 , 0.523864  ,  0.523864, 0.523864, 0.523864,0.52431732,0.52431732]\n",
    "lsTrain = [ 0.70109419, 0.70096197, 0.70096197, 0.70094578, 0.70094578, 0.70094578, 0.70094578, 0.70111307, 0.70111307]"
   ]
  },
  {
   "cell_type": "code",
   "execution_count": 8,
   "metadata": {},
   "outputs": [
    {
     "data": {
      "text/plain": [
       "[<matplotlib.lines.Line2D at 0x10725a790>]"
      ]
     },
     "execution_count": 8,
     "metadata": {},
     "output_type": "execute_result"
    },
    {
     "data": {
      "image/png": "[encoded data removed]",
      "text/plain": [
       "<matplotlib.figure.Figure at 0x100b2b950>"
      ]
     },
     "metadata": {},
     "output_type": "display_data"
    }
   ],
   "source": [
    "plt.figure()\n",
    "plt.title(\"KNN leaf size Dota2 Dataset\")\n",
    "plt.xlabel(\"Number of leaves\")\n",
    "plt.ylabel(\"Cross-validation score\")\n",
    "\n",
    "plt.grid()\n",
    "\n",
    "# plt.plot(lsParam, lsScore, 'o-', color=\"r\")\n",
    "plt.plot(lsParam, lsTrain, 'o-', color=\"g\")"
   ]
  },
  {
   "cell_type": "code",
   "execution_count": 12,
   "metadata": {},
   "outputs": [
    {
     "data": {
      "text/plain": [
       "<module 'matplotlib.pyplot' from '/home/kristian/venv/data-science/local/lib/python2.7/site-packages/matplotlib/pyplot.pyc'>"
      ]
     },
     "execution_count": 12,
     "metadata": {},
     "output_type": "execute_result"
    },
    {
     "data": {
      "image/png": "[encoded data removed]",
      "text/plain": [
       "<matplotlib.figure.Figure at 0x7ffa17ff2d90>"
      ]
     },
     "metadata": {},
     "output_type": "display_data"
    }
   ],
   "source": [
    "knn = KNeighborsClassifier(leaf_size = 80, n_neighbors=350, p=2)\n",
    "cv = ShuffleSplit(n_splits=5, test_size=0.2, random_state=0)\n",
    "plot_learning_curve(knn, \"KNN\", x, y, (0.5, 0.6), cv=cv, n_jobs=-1)"
   ]
  },
  {
   "cell_type": "code",
   "execution_count": 10,
   "metadata": {},
   "outputs": [
    {
     "name": "stdout",
     "output_type": "stream",
     "text": [
      "             precision    recall  f1-score   support\n",
      "\n",
      "         -1       0.49      0.48      0.49      4791\n",
      "          1       0.56      0.57      0.56      5502\n",
      "\n",
      "avg / total       0.53      0.53      0.53     10293\n",
      "\n"
     ]
    }
   ],
   "source": [
    "knn = KNeighborsClassifier()\n",
    "knn.fit(x, y)\n",
    "knnPred = knn.predict(testX)\n",
    "print metrics.classification_report(testY, knnPred)"
   ]
  },
  {
   "cell_type": "code",
   "execution_count": 24,
   "metadata": {},
   "outputs": [
    {
     "data": {
      "text/plain": [
       "<matplotlib.legend.Legend at 0x10c146250>"
      ]
     },
     "execution_count": 24,
     "metadata": {},
     "output_type": "execute_result"
    },
    {
     "data": {
      "image/png": "[encoded data removed]",
      "text/plain": [
       "<matplotlib.figure.Figure at 0x10aeeb310>"
      ]
     },
     "metadata": {},
     "output_type": "display_data"
    }
   ],
   "source": [
    "sampleNum = []\n",
    "trainScoreArr = []\n",
    "testScoreArr = []\n",
    "index = -1\n",
    "bestScore = 0\n",
    "\n",
    "for i in range (1, 11):\n",
    "    xTrainRound = x\n",
    "    yTrainRound = y\n",
    "    if i < 10:\n",
    "        xTrainRound, throwaway1, yTrainRound, throwaway2 = train_test_split(x, y, test_size=i/10.0)\n",
    "    \n",
    "    knn = KNeighborsClassifier(leaf_size = 80, n_neighbors=350, p=2)\n",
    "    knn.fit(xTrainRound, yTrainRound)\n",
    "    \n",
    "    trainPredRes = knn.predict(xTrainRound)\n",
    "    trainPredRes = pd.DataFrame(data=trainPredRes, columns=['hand'])\n",
    "    trainAcc = accuracy_score(yTrainRound, trainPredRes)\n",
    "    \n",
    "    testPredRes = knn.predict(testX)\n",
    "    testPredRes = pd.DataFrame(data=testPredRes, columns=['hand'])\n",
    "    testAcc = accuracy_score(testY, testPredRes)\n",
    "    \n",
    "    if testAcc > bestScore:\n",
    "        index = i\n",
    "        bestScore = testAcc\n",
    "    trainScoreArr.append(trainAcc)\n",
    "    testScoreArr.append(testAcc)\n",
    "    sampleNum.append(92649 * i / 10.0)\n",
    "    \n",
    "\n",
    "plt.figure()\n",
    "plt.title(\"KNN Train Test Error\")\n",
    "plt.xlabel(\"Num of Samples\")\n",
    "plt.ylabel(\"Accuracy Score\")\n",
    "# plt.ylim(*(0.55, 1.02))\n",
    "\n",
    "plt.grid()\n",
    "\n",
    "plt.plot(sampleNum, testScoreArr, 'o-', color=\"r\", label = \"Testing Score\")\n",
    "plt.plot(sampleNum, trainScoreArr, 'o-', color=\"g\", label = \"Training Score\")\n",
    "plt.legend(loc=\"best\")"
   ]
  },
  {
   "cell_type": "code",
   "execution_count": null,
   "metadata": {},
   "outputs": [],
   "source": [
    "# KNN detailed results\n",
    "knn = KNeighborsClassifier(leaf_size = 80, n_neighbors=350, p=2)\n",
    "knn.fit(x, y)\n",
    "\n",
    "knnPredicted = knn.predict(testX)\n",
    "print metrics.classification_report(testY, knnPredicted)\n",
    "knnPredicted = pd.DataFrame(data=knnPredicted, columns=['team'])\n",
    "print knnPredicted.team.value_counts()"
   ]
  }
 ],
 "metadata": {
  "kernelspec": {
   "display_name": "Python 2",
   "language": "python",
   "name": "python2"
  },
  "language_info": {
   "codemirror_mode": {
    "name": "ipython",
    "version": 2
   },
   "file_extension": ".py",
   "mimetype": "text/x-python",
   "name": "python",
   "nbconvert_exporter": "python",
   "pygments_lexer": "ipython2",
   "version": "2.7.10"
  }
 },
 "nbformat": 4,
 "nbformat_minor": 2
}
