{
 "cells": [
  {
   "cell_type": "code",
   "execution_count": 4,
   "metadata": {},
   "outputs": [],
   "source": [
    "import numpy as np\n",
    "import pandas as pd\n",
    "import sklearn.metrics as metrics\n",
    "%matplotlib inline\n",
    "import matplotlib.pyplot as plt\n",
    "\n",
    "from sklearn.tree import DecisionTreeClassifier\n",
    "from sklearn.neural_network import MLPClassifier\n",
    "from sklearn.ensemble import AdaBoostClassifier\n",
    "from sklearn.svm import SVC\n",
    "from sklearn.neighbors import KNeighborsClassifier\n",
    "\n",
    "from sklearn.model_selection import learning_curve\n",
    "from sklearn.model_selection import ShuffleSplit\n",
    "from sklearn.model_selection import GridSearchCV"
   ]
  },
  {
   "cell_type": "code",
   "execution_count": 2,
   "metadata": {},
   "outputs": [],
   "source": [
    "# Taken from sklearn docs \n",
    "# http://scikit-learn.org/stable/auto_examples/model_selection/plot_learning_curve.html\n",
    "def plot_learning_curve(estimator, title, X, y, ylim=None, cv=None,\n",
    "                        n_jobs=1, train_sizes=np.linspace(.1, 1.0, 5)):\n",
    "    plt.figure()\n",
    "    plt.title(title)\n",
    "    if ylim is not None:\n",
    "        plt.ylim(*ylim)\n",
    "    plt.xlabel(\"Training examples\")\n",
    "    plt.ylabel(\"Score\")\n",
    "    train_sizes, train_scores, test_scores = learning_curve(\n",
    "        estimator, X, y, cv=cv, n_jobs=n_jobs, train_sizes=train_sizes)\n",
    "    train_scores_mean = np.mean(train_scores, axis=1)\n",
    "    train_scores_std = np.std(train_scores, axis=1)\n",
    "    test_scores_mean = np.mean(test_scores, axis=1)\n",
    "    test_scores_std = np.std(test_scores, axis=1)\n",
    "    plt.grid()\n",
    "\n",
    "    plt.fill_between(train_sizes, train_scores_mean - train_scores_std,\n",
    "                     train_scores_mean + train_scores_std, alpha=0.1,\n",
    "                     color=\"r\")\n",
    "    plt.fill_between(train_sizes, test_scores_mean - test_scores_std,\n",
    "                     test_scores_mean + test_scores_std, alpha=0.1, color=\"g\")\n",
    "    plt.plot(train_sizes, train_scores_mean, 'o-', color=\"r\",\n",
    "             label=\"Training score\")\n",
    "    plt.plot(train_sizes, test_scores_mean, 'o-', color=\"g\",\n",
    "             label=\"Cross-validation score\")\n",
    "\n",
    "    plt.legend(loc=\"best\")\n",
    "    return plt"
   ]
  },
  {
   "cell_type": "code",
   "execution_count": 3,
   "metadata": {},
   "outputs": [
    {
     "data": {
      "text/html": [
       "<div>\n",
       "<style>\n",
       "    .dataframe thead tr:only-child th {\n",
       "        text-align: right;\n",
       "    }\n",
       "\n",
       "    .dataframe thead th {\n",
       "        text-align: left;\n",
       "    }\n",
       "\n",
       "    .dataframe tbody tr th {\n",
       "        vertical-align: top;\n",
       "    }\n",
       "</style>\n",
       "<table border=\"1\" class=\"dataframe\">\n",
       "  <thead>\n",
       "    <tr style=\"text-align: right;\">\n",
       "      <th></th>\n",
       "      <th>-1</th>\n",
       "      <th>223</th>\n",
       "      <th>2</th>\n",
       "      <th>2.1</th>\n",
       "      <th>0</th>\n",
       "      <th>0.1</th>\n",
       "      <th>0.2</th>\n",
       "      <th>0.3</th>\n",
       "      <th>0.4</th>\n",
       "      <th>0.5</th>\n",
       "      <th>...</th>\n",
       "      <th>0.93</th>\n",
       "      <th>0.94</th>\n",
       "      <th>0.95</th>\n",
       "      <th>0.96</th>\n",
       "      <th>0.97</th>\n",
       "      <th>0.98</th>\n",
       "      <th>0.99</th>\n",
       "      <th>0.100</th>\n",
       "      <th>0.101</th>\n",
       "      <th>0.102</th>\n",
       "    </tr>\n",
       "  </thead>\n",
       "  <tbody>\n",
       "    <tr>\n",
       "      <th>0</th>\n",
       "      <td>1</td>\n",
       "      <td>152</td>\n",
       "      <td>2</td>\n",
       "      <td>2</td>\n",
       "      <td>0</td>\n",
       "      <td>0</td>\n",
       "      <td>0</td>\n",
       "      <td>1</td>\n",
       "      <td>0</td>\n",
       "      <td>-1</td>\n",
       "      <td>...</td>\n",
       "      <td>0</td>\n",
       "      <td>0</td>\n",
       "      <td>0</td>\n",
       "      <td>0</td>\n",
       "      <td>0</td>\n",
       "      <td>0</td>\n",
       "      <td>0</td>\n",
       "      <td>0</td>\n",
       "      <td>0</td>\n",
       "      <td>0</td>\n",
       "    </tr>\n",
       "    <tr>\n",
       "      <th>1</th>\n",
       "      <td>1</td>\n",
       "      <td>131</td>\n",
       "      <td>2</td>\n",
       "      <td>2</td>\n",
       "      <td>0</td>\n",
       "      <td>0</td>\n",
       "      <td>0</td>\n",
       "      <td>1</td>\n",
       "      <td>0</td>\n",
       "      <td>-1</td>\n",
       "      <td>...</td>\n",
       "      <td>0</td>\n",
       "      <td>0</td>\n",
       "      <td>0</td>\n",
       "      <td>0</td>\n",
       "      <td>0</td>\n",
       "      <td>0</td>\n",
       "      <td>0</td>\n",
       "      <td>0</td>\n",
       "      <td>0</td>\n",
       "      <td>0</td>\n",
       "    </tr>\n",
       "    <tr>\n",
       "      <th>2</th>\n",
       "      <td>1</td>\n",
       "      <td>154</td>\n",
       "      <td>2</td>\n",
       "      <td>2</td>\n",
       "      <td>0</td>\n",
       "      <td>0</td>\n",
       "      <td>0</td>\n",
       "      <td>0</td>\n",
       "      <td>0</td>\n",
       "      <td>0</td>\n",
       "      <td>...</td>\n",
       "      <td>-1</td>\n",
       "      <td>0</td>\n",
       "      <td>0</td>\n",
       "      <td>0</td>\n",
       "      <td>0</td>\n",
       "      <td>0</td>\n",
       "      <td>0</td>\n",
       "      <td>0</td>\n",
       "      <td>0</td>\n",
       "      <td>0</td>\n",
       "    </tr>\n",
       "    <tr>\n",
       "      <th>3</th>\n",
       "      <td>-1</td>\n",
       "      <td>171</td>\n",
       "      <td>2</td>\n",
       "      <td>3</td>\n",
       "      <td>0</td>\n",
       "      <td>0</td>\n",
       "      <td>0</td>\n",
       "      <td>0</td>\n",
       "      <td>0</td>\n",
       "      <td>-1</td>\n",
       "      <td>...</td>\n",
       "      <td>0</td>\n",
       "      <td>0</td>\n",
       "      <td>0</td>\n",
       "      <td>0</td>\n",
       "      <td>0</td>\n",
       "      <td>0</td>\n",
       "      <td>0</td>\n",
       "      <td>0</td>\n",
       "      <td>0</td>\n",
       "      <td>0</td>\n",
       "    </tr>\n",
       "    <tr>\n",
       "      <th>4</th>\n",
       "      <td>1</td>\n",
       "      <td>122</td>\n",
       "      <td>2</td>\n",
       "      <td>3</td>\n",
       "      <td>0</td>\n",
       "      <td>1</td>\n",
       "      <td>0</td>\n",
       "      <td>0</td>\n",
       "      <td>0</td>\n",
       "      <td>0</td>\n",
       "      <td>...</td>\n",
       "      <td>1</td>\n",
       "      <td>0</td>\n",
       "      <td>0</td>\n",
       "      <td>0</td>\n",
       "      <td>0</td>\n",
       "      <td>0</td>\n",
       "      <td>0</td>\n",
       "      <td>0</td>\n",
       "      <td>0</td>\n",
       "      <td>-1</td>\n",
       "    </tr>\n",
       "  </tbody>\n",
       "</table>\n",
       "<p>5 rows × 117 columns</p>\n",
       "</div>"
      ],
      "text/plain": [
       "   -1  223  2  2.1  0  0.1  0.2  0.3  0.4  0.5  ...    0.93  0.94  0.95  0.96  \\\n",
       "0   1  152  2    2  0    0    0    1    0   -1  ...       0     0     0     0   \n",
       "1   1  131  2    2  0    0    0    1    0   -1  ...       0     0     0     0   \n",
       "2   1  154  2    2  0    0    0    0    0    0  ...      -1     0     0     0   \n",
       "3  -1  171  2    3  0    0    0    0    0   -1  ...       0     0     0     0   \n",
       "4   1  122  2    3  0    1    0    0    0    0  ...       1     0     0     0   \n",
       "\n",
       "   0.97  0.98  0.99  0.100  0.101  0.102  \n",
       "0     0     0     0      0      0      0  \n",
       "1     0     0     0      0      0      0  \n",
       "2     0     0     0      0      0      0  \n",
       "3     0     0     0      0      0      0  \n",
       "4     0     0     0      0      0     -1  \n",
       "\n",
       "[5 rows x 117 columns]"
      ]
     },
     "execution_count": 3,
     "metadata": {},
     "output_type": "execute_result"
    }
   ],
   "source": [
    "trainSet = pd.read_csv('dota2Train.csv')\n",
    "testSet = pd.read_csv('dota2Test.csv')\n",
    "\n",
    "x = trainSet.drop('-1', 1)\n",
    "y = trainSet['-1']\n",
    "testX = testSet.drop('-1', 1)\n",
    "testY = testSet['-1']\n",
    "\n",
    "trainSet.head()\n",
    "\n",
    "# pd.get_dummies(trainSet)"
   ]
  },
  {
   "cell_type": "code",
   "execution_count": 5,
   "metadata": {},
   "outputs": [
    {
     "name": "stdout",
     "output_type": "stream",
     "text": [
      " 1    48782\n",
      "-1    43867\n",
      "Name: -1, dtype: int64\n"
     ]
    }
   ],
   "source": [
    "print y.value_counts()"
   ]
  },
  {
   "cell_type": "code",
   "execution_count": 5,
   "metadata": {},
   "outputs": [],
   "source": [
    "dt = DecisionTreeClassifier()\n",
    "\n",
    "# cv = ShuffleSplit(n_splits=100, test_size=0.2, random_state=0)\n",
    "\n",
    "# plot_learning_curve(dt, \"Decision Tree\", x, y, ylim=(0.0, 1.01), cv=cv, n_jobs=4)"
   ]
  },
  {
   "cell_type": "code",
   "execution_count": 9,
   "metadata": {},
   "outputs": [
    {
     "data": {
      "text/plain": [
       "DecisionTreeClassifier(class_weight=None, criterion='gini', max_depth=None,\n",
       "            max_features=None, max_leaf_nodes=None,\n",
       "            min_impurity_decrease=0.0, min_impurity_split=None,\n",
       "            min_samples_leaf=1, min_samples_split=2,\n",
       "            min_weight_fraction_leaf=0.0, presort=False, random_state=None,\n",
       "            splitter='best')"
      ]
     },
     "execution_count": 9,
     "metadata": {},
     "output_type": "execute_result"
    }
   ],
   "source": [
    "dt.fit(x, y)"
   ]
  },
  {
   "cell_type": "code",
   "execution_count": 10,
   "metadata": {},
   "outputs": [
    {
     "name": "stdout",
     "output_type": "stream",
     "text": [
      "             precision    recall  f1-score   support\n",
      "\n",
      "         -1       0.49      0.50      0.50      4791\n",
      "          1       0.55      0.54      0.55      5502\n",
      "\n",
      "avg / total       0.52      0.52      0.52     10293\n",
      "\n"
     ]
    }
   ],
   "source": [
    "dtPred = dt.predict(testX)\n",
    "print metrics.classification_report(testY, dtPred)"
   ]
  },
  {
   "cell_type": "code",
   "execution_count": 13,
   "metadata": {},
   "outputs": [
    {
     "data": {
      "text/plain": [
       "<module 'matplotlib.pyplot' from '/Users/kristiansuhartono/python-env/lib/python2.7/site-packages/matplotlib/pyplot.pyc'>"
      ]
     },
     "execution_count": 13,
     "metadata": {},
     "output_type": "execute_result"
    },
    {
     "name": "stderr",
     "output_type": "stream",
     "text": [
      "/Users/kristiansuhartono/python-env/lib/python2.7/site-packages/matplotlib/collections.py:590: FutureWarning: elementwise comparison failed; returning scalar instead, but in the future will perform elementwise comparison\n",
      "  if self._edgecolors == str('face'):\n"
     ]
    },
    {
     "data": {
      "image/png": "[encoded data removed]",
      "text/plain": [
       "<matplotlib.figure.Figure at 0x109bd7810>"
      ]
     },
     "metadata": {},
     "output_type": "display_data"
    }
   ],
   "source": [
    "cv = ShuffleSplit(n_splits=10, test_size=0.2, random_state=0)\n",
    "dt = DecisionTreeClassifier()\n",
    "plot_learning_curve(dt, \"Decision Tree\", x, y, (0.4, 1.01), cv=cv, n_jobs=4)"
   ]
  },
  {
   "cell_type": "code",
   "execution_count": 123,
   "metadata": {},
   "outputs": [
    {
     "data": {
      "text/plain": [
       "MLPClassifier(activation='relu', alpha=0.0001, batch_size='auto', beta_1=0.9,\n",
       "       beta_2=0.999, early_stopping=False, epsilon=1e-08,\n",
       "       hidden_layer_sizes=(100,), learning_rate='constant',\n",
       "       learning_rate_init=0.001, max_iter=200, momentum=0.9,\n",
       "       nesterovs_momentum=True, power_t=0.5, random_state=None,\n",
       "       shuffle=True, solver='adam', tol=0.0001, validation_fraction=0.1,\n",
       "       verbose=False, warm_start=False)"
      ]
     },
     "execution_count": 123,
     "metadata": {},
     "output_type": "execute_result"
    }
   ],
   "source": [
    "mlp = MLPClassifier()\n",
    "mlp.fit(x, y)"
   ]
  },
  {
   "cell_type": "code",
   "execution_count": 16,
   "metadata": {},
   "outputs": [
    {
     "data": {
      "text/plain": [
       "<module 'matplotlib.pyplot' from '/Users/kristiansuhartono/python-env/lib/python2.7/site-packages/matplotlib/pyplot.pyc'>"
      ]
     },
     "execution_count": 16,
     "metadata": {},
     "output_type": "execute_result"
    },
    {
     "data": {
      "image/png": "[encoded data removed]",
      "text/plain": [
       "<matplotlib.figure.Figure at 0x10eb9db90>"
      ]
     },
     "metadata": {},
     "output_type": "display_data"
    }
   ],
   "source": [
    "cv = ShuffleSplit(n_splits=10, test_size=0.2, random_state=0)\n",
    "mlp = MLPClassifier()\n",
    "plot_learning_curve(mlp, \"MLP\", x, y, (0.5, 0.65), cv=cv, n_jobs=4)"
   ]
  },
  {
   "cell_type": "code",
   "execution_count": 4,
   "metadata": {},
   "outputs": [
    {
     "name": "stdout",
     "output_type": "stream",
     "text": [
      "Fitting 10 folds for each of 9 candidates, totalling 90 fits\n",
      "[CV] hidden_layer_sizes=(100,) .......................................\n",
      "[CV] hidden_layer_sizes=(100,) .......................................\n",
      "[CV] hidden_layer_sizes=(100,) .......................................\n",
      "[CV] hidden_layer_sizes=(100,) .......................................\n",
      "[CV] .. hidden_layer_sizes=(100,), score=0.598057204533, total=  13.5s\n",
      "[CV] hidden_layer_sizes=(100,) .......................................\n",
      "[CV] .. hidden_layer_sizes=(100,), score=0.602104695089, total=  23.3s\n",
      "[CV] hidden_layer_sizes=(100,) .......................................\n",
      "[CV] .. hidden_layer_sizes=(100,), score=0.603885590934, total=  28.1s\n",
      "[CV] hidden_layer_sizes=(100,) .......................................\n",
      "[CV] .. hidden_layer_sizes=(100,), score=0.596330275229, total=  28.6s\n",
      "[CV] hidden_layer_sizes=(100,) .......................................\n",
      "[CV] .. hidden_layer_sizes=(100,), score=0.605504587156, total=  19.2s\n"
     ]
    },
    {
     "name": "stderr",
     "output_type": "stream",
     "text": [
      "[Parallel(n_jobs=4)]: Done   5 tasks      | elapsed:   36.9s\n"
     ]
    },
    {
     "name": "stdout",
     "output_type": "stream",
     "text": [
      "[CV] hidden_layer_sizes=(100,) .......................................\n",
      "[CV] .. hidden_layer_sizes=(100,), score=0.586616297895, total=  18.5s\n",
      "[CV] hidden_layer_sizes=(100,) .......................................\n",
      "[CV] .. hidden_layer_sizes=(100,), score=0.583864004317, total=  12.4s\n",
      "[CV] .. hidden_layer_sizes=(100,), score=0.600971397733, total=  16.2s\n",
      "[CV] hidden_layer_sizes=(200,) .......................................\n",
      "[CV] hidden_layer_sizes=(200,) .......................................\n",
      "[CV] ... hidden_layer_sizes=(100,), score=0.59276848354, total=  15.0s\n",
      "[CV] hidden_layer_sizes=(200,) .......................................\n",
      "[CV] .. hidden_layer_sizes=(100,), score=0.595790609822, total=  20.0s\n",
      "[CV] hidden_layer_sizes=(200,) .......................................\n"
     ]
    },
    {
     "name": "stderr",
     "output_type": "stream",
     "text": [
      "[Parallel(n_jobs=4)]: Done  10 tasks      | elapsed:  1.1min\n"
     ]
    },
    {
     "name": "stdout",
     "output_type": "stream",
     "text": [
      "[CV] .. hidden_layer_sizes=(200,), score=0.603939557474, total=  21.9s\n",
      "[CV] hidden_layer_sizes=(200,) .......................................\n",
      "[CV] .. hidden_layer_sizes=(200,), score=0.603291958985, total=  14.7s\n",
      "[CV] hidden_layer_sizes=(200,) .......................................\n",
      "[CV] .. hidden_layer_sizes=(200,), score=0.601726929304, total=  40.7s\n",
      "[CV] hidden_layer_sizes=(200,) .......................................\n",
      "[CV] .. hidden_layer_sizes=(200,), score=0.593739881274, total=  51.9s\n",
      "[CV] hidden_layer_sizes=(200,) .......................................\n",
      "[CV] .. hidden_layer_sizes=(200,), score=0.590987587696, total=  24.8s\n",
      "[CV] hidden_layer_sizes=(200,) .......................................\n",
      "[CV] .. hidden_layer_sizes=(200,), score=0.600215866163, total=  21.0s\n",
      "[CV] hidden_layer_sizes=(200,) .......................................\n",
      "[CV] .. hidden_layer_sizes=(200,), score=0.600377765785, total=  52.4s\n",
      "[CV] hidden_layer_sizes=(300,) .......................................\n"
     ]
    },
    {
     "name": "stderr",
     "output_type": "stream",
     "text": [
      "[Parallel(n_jobs=4)]: Done  17 tasks      | elapsed:  2.0min\n"
     ]
    },
    {
     "name": "stdout",
     "output_type": "stream",
     "text": [
      "[CV] .. hidden_layer_sizes=(200,), score=0.589314624933, total=  20.6s\n",
      "[CV] hidden_layer_sizes=(300,) .......................................\n",
      "[CV] .. hidden_layer_sizes=(200,), score=0.601133297356, total=  18.2s\n",
      "[CV] hidden_layer_sizes=(300,) .......................................\n",
      "[CV] .. hidden_layer_sizes=(200,), score=0.597625472207, total=  42.3s\n",
      "[CV] hidden_layer_sizes=(300,) .......................................\n",
      "[CV] .. hidden_layer_sizes=(300,), score=0.596600107933, total=  30.2s\n",
      "[CV] hidden_layer_sizes=(300,) .......................................\n",
      "[CV] .. hidden_layer_sizes=(300,), score=0.599082568807, total=  45.2s\n",
      "[CV] hidden_layer_sizes=(300,) .......................................\n",
      "[CV] .. hidden_layer_sizes=(300,), score=0.588235294118, total=  48.8s\n",
      "[CV] hidden_layer_sizes=(300,) .......................................\n",
      "[CV] .. hidden_layer_sizes=(300,), score=0.599622234215, total=  41.5s\n",
      "[CV] hidden_layer_sizes=(300,) .......................................\n"
     ]
    },
    {
     "name": "stderr",
     "output_type": "stream",
     "text": [
      "[Parallel(n_jobs=4)]: Done  24 tasks      | elapsed:  3.4min\n"
     ]
    },
    {
     "name": "stdout",
     "output_type": "stream",
     "text": [
      "[CV] .. hidden_layer_sizes=(300,), score=0.592606583918, total=  29.9s\n",
      "[CV] hidden_layer_sizes=(300,) .......................................\n",
      "[CV] .. hidden_layer_sizes=(300,), score=0.604047490556, total=  34.0s\n",
      "[CV] .. hidden_layer_sizes=(300,), score=0.598488936859, total=  30.0s\n",
      "[CV] hidden_layer_sizes=(300,) .......................................\n",
      "[CV] hidden_layer_sizes=(400,) .......................................\n",
      "[CV] .. hidden_layer_sizes=(300,), score=0.598434970318, total=  27.8s\n",
      "[CV] hidden_layer_sizes=(400,) .......................................\n",
      "[CV] .. hidden_layer_sizes=(300,), score=0.595304910955, total=  30.3s\n",
      "[CV] hidden_layer_sizes=(400,) .......................................\n",
      "[CV] .. hidden_layer_sizes=(300,), score=0.598974635726, total=  31.2s\n",
      "[CV] hidden_layer_sizes=(400,) .......................................\n",
      "[CV] .. hidden_layer_sizes=(400,), score=0.597247706422, total=  34.8s\n",
      "[CV] hidden_layer_sizes=(400,) .......................................\n",
      "[CV] .. hidden_layer_sizes=(400,), score=0.602050728548, total=  34.3s\n",
      "[CV] hidden_layer_sizes=(400,) .......................................\n",
      "[CV] .. hidden_layer_sizes=(400,), score=0.590016189962, total=  39.6s\n",
      "[CV] hidden_layer_sizes=(400,) .......................................\n"
     ]
    },
    {
     "name": "stderr",
     "output_type": "stream",
     "text": [
      "[Parallel(n_jobs=4)]: Done  33 tasks      | elapsed:  4.8min\n"
     ]
    },
    {
     "name": "stdout",
     "output_type": "stream",
     "text": [
      "[CV] .. hidden_layer_sizes=(400,), score=0.589422558014, total=  55.5s\n",
      "[CV] hidden_layer_sizes=(400,) .......................................\n",
      "[CV] .. hidden_layer_sizes=(400,), score=0.606260118726, total=  59.3s\n",
      "[CV] hidden_layer_sizes=(400,) .......................................\n",
      "[CV] .. hidden_layer_sizes=(400,), score=0.601834862385, total=  33.0s\n",
      "[CV] hidden_layer_sizes=(400,) .......................................\n",
      "[CV] .. hidden_layer_sizes=(400,), score=0.592174851592, total=  54.1s\n",
      "[CV] hidden_layer_sizes=(500,) .......................................\n",
      "[CV] .... hidden_layer_sizes=(400,), score=0.5970858068, total=  33.6s\n",
      "[CV] hidden_layer_sizes=(500,) .......................................\n",
      "[CV] .. hidden_layer_sizes=(400,), score=0.590879654614, total= 1.1min\n",
      "[CV] hidden_layer_sizes=(500,) .......................................\n",
      "[CV] .. hidden_layer_sizes=(500,), score=0.591527253103, total=  45.4s\n",
      "[CV] hidden_layer_sizes=(500,) .......................................\n",
      "[CV] .. hidden_layer_sizes=(500,), score=0.580194279547, total=  59.7s\n",
      "[CV] hidden_layer_sizes=(500,) .......................................\n",
      "[CV] .. hidden_layer_sizes=(400,), score=0.601565029682, total= 1.3min\n",
      "[CV] hidden_layer_sizes=(500,) .......................................\n"
     ]
    },
    {
     "name": "stderr",
     "output_type": "stream",
     "text": [
      "[Parallel(n_jobs=4)]: Done  42 tasks      | elapsed:  6.7min\n"
     ]
    },
    {
     "name": "stdout",
     "output_type": "stream",
     "text": [
      "[CV] .. hidden_layer_sizes=(500,), score=0.590501888829, total=  56.7s\n",
      "[CV] hidden_layer_sizes=(500,) .......................................\n",
      "[CV] .. hidden_layer_sizes=(500,), score=0.585914732866, total=  37.2s\n",
      "[CV] hidden_layer_sizes=(500,) .......................................\n",
      "[CV] .. hidden_layer_sizes=(500,), score=0.598704803022, total=  51.6s\n",
      "[CV] hidden_layer_sizes=(500,) .......................................\n",
      "[CV] .. hidden_layer_sizes=(500,), score=0.579492714517, total= 1.4min\n",
      "[CV] hidden_layer_sizes=(500,) .......................................\n",
      "[CV] .. hidden_layer_sizes=(500,), score=0.598434970318, total=  32.4s\n",
      "[CV] hidden_layer_sizes=(600,) .......................................\n",
      "[CV] .. hidden_layer_sizes=(500,), score=0.596114409066, total=  49.5s\n",
      "[CV] hidden_layer_sizes=(600,) .......................................\n",
      "[CV] ... hidden_layer_sizes=(500,), score=0.59347004857, total= 1.0min\n",
      "[CV] hidden_layer_sizes=(600,) .......................................\n",
      "[CV] .. hidden_layer_sizes=(600,), score=0.586832164058, total= 1.1min\n",
      "[CV] hidden_layer_sizes=(600,) .......................................\n",
      "[CV] .. hidden_layer_sizes=(600,), score=0.601672962763, total=  37.7s\n",
      "[CV] hidden_layer_sizes=(600,) .......................................\n",
      "[CV] .. hidden_layer_sizes=(600,), score=0.602050728548, total=  49.2s\n",
      "[CV] hidden_layer_sizes=(600,) .......................................\n",
      "[CV] .. hidden_layer_sizes=(600,), score=0.606637884512, total= 1.1min\n",
      "[CV] hidden_layer_sizes=(600,) .......................................\n"
     ]
    },
    {
     "name": "stderr",
     "output_type": "stream",
     "text": [
      "[Parallel(n_jobs=4)]: Done  53 tasks      | elapsed:  9.7min\n"
     ]
    },
    {
     "name": "stdout",
     "output_type": "stream",
     "text": [
      "[CV] .. hidden_layer_sizes=(500,), score=0.600863464652, total= 2.8min\n",
      "[CV] hidden_layer_sizes=(600,) .......................................\n",
      "[CV] .. hidden_layer_sizes=(600,), score=0.606368051808, total= 1.6min\n",
      "[CV] hidden_layer_sizes=(600,) .......................................\n",
      "[CV] ... hidden_layer_sizes=(600,), score=0.59131138694, total=  55.4s\n",
      "[CV] hidden_layer_sizes=(600,) .......................................\n",
      "[CV] .. hidden_layer_sizes=(600,), score=0.576956287102, total= 1.5min\n",
      "[CV] hidden_layer_sizes=(700,) .......................................\n",
      "[CV] .. hidden_layer_sizes=(600,), score=0.589206691851, total=  43.4s\n",
      "[CV] hidden_layer_sizes=(700,) .......................................\n",
      "[CV] .. hidden_layer_sizes=(600,), score=0.600269832704, total= 1.1min\n",
      "[CV] hidden_layer_sizes=(700,) .......................................\n",
      "[CV] .. hidden_layer_sizes=(600,), score=0.592120885051, total= 1.2min\n",
      "[CV] hidden_layer_sizes=(700,) .......................................\n",
      "[CV] .. hidden_layer_sizes=(700,), score=0.602590393956, total= 1.0min\n",
      "[CV] hidden_layer_sizes=(700,) .......................................\n",
      "[CV] .. hidden_layer_sizes=(700,), score=0.596654074474, total= 1.6min\n",
      "[CV] hidden_layer_sizes=(700,) .......................................\n",
      "[CV] .. hidden_layer_sizes=(700,), score=0.573772261198, total= 1.6min\n",
      "[CV] hidden_layer_sizes=(700,) .......................................\n",
      "[CV] .. hidden_layer_sizes=(700,), score=0.591473286562, total=  51.5s\n",
      "[CV] hidden_layer_sizes=(700,) .......................................\n"
     ]
    },
    {
     "name": "stderr",
     "output_type": "stream",
     "text": [
      "[Parallel(n_jobs=4)]: Done  64 tasks      | elapsed: 13.4min\n"
     ]
    },
    {
     "name": "stdout",
     "output_type": "stream",
     "text": [
      "[CV] .. hidden_layer_sizes=(700,), score=0.601726929304, total= 1.9min\n",
      "[CV] hidden_layer_sizes=(700,) .......................................\n",
      "[CV] .. hidden_layer_sizes=(700,), score=0.597301672963, total= 1.0min\n",
      "[CV] hidden_layer_sizes=(700,) .......................................\n",
      "[CV] .. hidden_layer_sizes=(700,), score=0.591851052348, total= 1.5min\n",
      "[CV] hidden_layer_sizes=(800,) .......................................\n",
      "[CV] .. hidden_layer_sizes=(700,), score=0.578467350243, total=  55.9s\n",
      "[CV] hidden_layer_sizes=(800,) .......................................\n",
      "[CV] .. hidden_layer_sizes=(700,), score=0.596977873718, total= 2.0min\n",
      "[CV] hidden_layer_sizes=(800,) .......................................\n",
      "[CV] .. hidden_layer_sizes=(700,), score=0.569185105235, total=  59.0s\n",
      "[CV] hidden_layer_sizes=(800,) .......................................\n",
      "[CV] .. hidden_layer_sizes=(800,), score=0.596492174852, total=  57.7s\n",
      "[CV] hidden_layer_sizes=(800,) .......................................\n",
      "[CV] .. hidden_layer_sizes=(800,), score=0.602752293578, total=  47.4s\n",
      "[CV] hidden_layer_sizes=(800,) .......................................\n",
      "[CV] .. hidden_layer_sizes=(800,), score=0.598165137615, total= 1.4min\n",
      "[CV] hidden_layer_sizes=(800,) .......................................\n",
      "[CV] .. hidden_layer_sizes=(800,), score=0.606368051808, total= 1.7min\n",
      "[CV] hidden_layer_sizes=(800,) .......................................\n",
      "[CV] .. hidden_layer_sizes=(800,), score=0.592660550459, total= 1.7min\n",
      "[CV] hidden_layer_sizes=(800,) .......................................\n",
      "[CV] .. hidden_layer_sizes=(800,), score=0.588774959525, total= 2.0min\n",
      "[CV] hidden_layer_sizes=(800,) .......................................\n",
      "[CV] .. hidden_layer_sizes=(800,), score=0.595790609822, total= 1.2min\n",
      "[CV] hidden_layer_sizes=(900,) .......................................\n"
     ]
    },
    {
     "name": "stderr",
     "output_type": "stream",
     "text": [
      "[Parallel(n_jobs=4)]: Done  77 tasks      | elapsed: 18.5min\n"
     ]
    },
    {
     "name": "stdout",
     "output_type": "stream",
     "text": [
      "[CV] .. hidden_layer_sizes=(800,), score=0.574150026983, total= 1.1min\n",
      "[CV] hidden_layer_sizes=(900,) .......................................\n",
      "[CV] .. hidden_layer_sizes=(800,), score=0.591905018888, total= 1.6min\n",
      "[CV] hidden_layer_sizes=(900,) .......................................\n",
      "[CV] .. hidden_layer_sizes=(800,), score=0.601295196978, total= 2.2min\n",
      "[CV] hidden_layer_sizes=(900,) .......................................\n",
      "[CV] .. hidden_layer_sizes=(900,), score=0.583864004317, total= 1.2min\n",
      "[CV] hidden_layer_sizes=(900,) .......................................\n",
      "[CV] .. hidden_layer_sizes=(900,), score=0.576038855909, total= 1.4min\n",
      "[CV] hidden_layer_sizes=(900,) .......................................\n",
      "[CV] .. hidden_layer_sizes=(900,), score=0.598327037237, total= 1.1min\n",
      "[CV] hidden_layer_sizes=(900,) .......................................\n",
      "[CV] .. hidden_layer_sizes=(900,), score=0.597355639504, total= 2.1min\n",
      "[CV] hidden_layer_sizes=(900,) .......................................\n",
      "[CV] .. hidden_layer_sizes=(900,), score=0.600431732326, total= 2.6min\n",
      "[CV] hidden_layer_sizes=(900,) .......................................\n",
      "[CV] .. hidden_layer_sizes=(900,), score=0.592228818133, total= 1.9min\n",
      "[CV] hidden_layer_sizes=(900,) .......................................\n",
      "[CV] .. hidden_layer_sizes=(900,), score=0.598327037237, total= 1.5min\n",
      "[CV] .. hidden_layer_sizes=(900,), score=0.593955747437, total= 1.7min\n",
      "[CV] .. hidden_layer_sizes=(900,), score=0.601295196978, total= 2.2min\n",
      "[CV] .. hidden_layer_sizes=(900,), score=0.590447922288, total= 1.1min\n"
     ]
    },
    {
     "name": "stderr",
     "output_type": "stream",
     "text": [
      "[Parallel(n_jobs=4)]: Done  90 out of  90 | elapsed: 23.8min finished\n"
     ]
    },
    {
     "data": {
      "text/plain": [
       "GridSearchCV(cv=ShuffleSplit(n_splits=10, random_state=0, test_size=0.2, train_size=None),\n",
       "       error_score='raise',\n",
       "       estimator=MLPClassifier(activation='logistic', alpha=0.0001, batch_size='auto',\n",
       "       beta_1=0.9, beta_2=0.999, early_stopping=False, epsilon=1e-08,\n",
       "       hidden_layer_sizes=(100,), learning_rate='adaptive',\n",
       "       learning_rate_init=0.001, max_iter=3800, momentum=0.9,\n",
       "       nesterovs_momentum=True, power_t=0.5, random_state=None,\n",
       "       shuffle=True, solver='adam', tol=0.0001, validation_fraction=0.1,\n",
       "       verbose=False, warm_start=False),\n",
       "       fit_params=None, iid=True, n_jobs=4,\n",
       "       param_grid={'hidden_layer_sizes': ((100,), (200,), (300,), (400,), (500,), (600,), (700,), (800,), (900,))},\n",
       "       pre_dispatch='2*n_jobs', refit=True, return_train_score='warn',\n",
       "       scoring='accuracy', verbose=10)"
      ]
     },
     "execution_count": 4,
     "metadata": {},
     "output_type": "execute_result"
    }
   ],
   "source": [
    "# Code here is the algorithm tuning zone\n",
    "\n",
    "mlp = MLPClassifier(max_iter = 3800, activation='logistic', learning_rate='adaptive', hidden_layer_sizes=(200,))\n",
    "cv = ShuffleSplit(n_splits=10, test_size=0.2, random_state=0)\n",
    "# parameters = {'activation':('identity', 'logistic', 'tanh', 'relu'), 'learning_rate' :('constant', 'invscaling', 'adaptive')}\n",
    "# parameters = {'max_iter': (np.arange(1000, 11000, 1000))}\n",
    "# parameters = {'hidden_layer_sizes' : ((100,), (200,), (300,), (400,), (500,), (600,),(700,),(800,),(900,))}\n",
    "mlpGS = GridSearchCV(mlp, parameters, cv = cv, scoring='accuracy', verbose=10, n_jobs=4)\n",
    "mlpGS.fit(x, y)"
   ]
  },
  {
   "cell_type": "code",
   "execution_count": 6,
   "metadata": {},
   "outputs": [
    {
     "name": "stdout",
     "output_type": "stream",
     "text": [
      "0.598235294118\n",
      "(200,)\n"
     ]
    }
   ],
   "source": [
    "print(mlpGS.best_score_)\n",
    "print(mlpGS.best_estimator_.hidden_layer_sizes)"
   ]
  },
  {
   "cell_type": "code",
   "execution_count": 10,
   "metadata": {},
   "outputs": [
    {
     "name": "stdout",
     "output_type": "stream",
     "text": [
      "             precision    recall  f1-score   support\n",
      "\n",
      "         -1       0.59      0.41      0.49      4791\n",
      "          1       0.60      0.76      0.67      5502\n",
      "\n",
      "avg / total       0.60      0.60      0.58     10293\n",
      "\n"
     ]
    }
   ],
   "source": [
    "mlp = MLPClassifier(max_iter = 3800, activation='logistic', learning_rate='adaptive', hidden_layer_sizes=(200,))\n",
    "mlp.fit(x, y)\n",
    "mlpPred = mlp.predict(testX)\n",
    "print metrics.classification_report(testY, mlpPred)"
   ]
  },
  {
   "cell_type": "code",
   "execution_count": 124,
   "metadata": {},
   "outputs": [
    {
     "name": "stdout",
     "output_type": "stream",
     "text": [
      "             precision    recall  f1-score   support\n",
      "\n",
      "         -1       0.59      0.41      0.49      4791\n",
      "          1       0.60      0.76      0.67      5502\n",
      "\n",
      "avg / total       0.60      0.60      0.58     10293\n",
      "\n"
     ]
    }
   ],
   "source": [
    "mlpPred = mlp.predict(testX)\n",
    "print metrics.classification_report(testY, mlpPred)"
   ]
  },
  {
   "cell_type": "code",
   "execution_count": 120,
   "metadata": {},
   "outputs": [
    {
     "data": {
      "text/plain": [
       "AdaBoostClassifier(algorithm='SAMME.R', base_estimator=None,\n",
       "          learning_rate=1.0, n_estimators=50, random_state=None)"
      ]
     },
     "execution_count": 120,
     "metadata": {},
     "output_type": "execute_result"
    }
   ],
   "source": [
    "ada = AdaBoostClassifier()\n",
    "ada.fit(x, y)"
   ]
  },
  {
   "cell_type": "code",
   "execution_count": 122,
   "metadata": {},
   "outputs": [
    {
     "name": "stdout",
     "output_type": "stream",
     "text": [
      "             precision    recall  f1-score   support\n",
      "\n",
      "         -1       0.56      0.49      0.52      4791\n",
      "          1       0.60      0.67      0.63      5502\n",
      "\n",
      "avg / total       0.58      0.59      0.58     10293\n",
      "\n"
     ]
    }
   ],
   "source": [
    "adaPred = ada.predict(testX)\n",
    "print metrics.classification_report(testY, adaPred)"
   ]
  },
  {
   "cell_type": "code",
   "execution_count": null,
   "metadata": {},
   "outputs": [],
   "source": [
    "svc = SVC()\n",
    "svc.fit(x,y)"
   ]
  },
  {
   "cell_type": "code",
   "execution_count": null,
   "metadata": {},
   "outputs": [],
   "source": [
    "svcPred = svc.predict(testX)\n",
    "print metrics.classification_report(testY, svcPred)"
   ]
  },
  {
   "cell_type": "code",
   "execution_count": 131,
   "metadata": {},
   "outputs": [
    {
     "data": {
      "text/plain": [
       "KNeighborsClassifier(algorithm='auto', leaf_size=30, metric='minkowski',\n",
       "           metric_params=None, n_jobs=1, n_neighbors=5, p=2,\n",
       "           weights='uniform')"
      ]
     },
     "execution_count": 131,
     "metadata": {},
     "output_type": "execute_result"
    }
   ],
   "source": [
    "knn = KNeighborsClassifier()\n",
    "knn.fit(x,y)"
   ]
  },
  {
   "cell_type": "code",
   "execution_count": null,
   "metadata": {},
   "outputs": [
    {
     "name": "stdout",
     "output_type": "stream",
     "text": [
      "Fitting 3 folds for each of 9 candidates, totalling 27 fits\n",
      "[CV] n_neighbors=50 ..................................................\n",
      "[CV] n_neighbors=50 ..................................................\n",
      "[CV] n_neighbors=50 ..................................................\n",
      "[CV] n_neighbors=100 .................................................\n",
      "[CV] ............. n_neighbors=50, score=0.546249325418, total= 1.9min\n",
      "[CV] n_neighbors=100 .................................................\n",
      "[CV] .............. n_neighbors=50, score=0.53982730707, total= 1.9min\n",
      "[CV] n_neighbors=100 .................................................\n",
      "[CV] ............. n_neighbors=50, score=0.547598488937, total= 1.9min\n",
      "[CV] n_neighbors=150 .................................................\n",
      "[CV] ............ n_neighbors=100, score=0.557204533189, total= 2.0min\n",
      "[CV] n_neighbors=150 .................................................\n",
      "[CV] ............ n_neighbors=100, score=0.548947652455, total= 2.0min\n",
      "[CV] n_neighbors=150 .................................................\n"
     ]
    },
    {
     "name": "stderr",
     "output_type": "stream",
     "text": [
      "[Parallel(n_jobs=-1)]: Done   5 tasks      | elapsed: 19.0min\n"
     ]
    },
    {
     "name": "stdout",
     "output_type": "stream",
     "text": [
      "[CV] ............ n_neighbors=100, score=0.553426875337, total= 2.0min\n",
      "[CV] n_neighbors=200 .................................................\n",
      "[CV] ............ n_neighbors=150, score=0.556610901241, total= 2.0min\n",
      "[CV] n_neighbors=200 .................................................\n",
      "[CV] ............ n_neighbors=150, score=0.551592012952, total= 2.0min\n",
      "[CV] n_neighbors=200 .................................................\n"
     ]
    }
   ],
   "source": [
    "# Code here is the algorithm tuning zone will be commented out takes a long time to run\n",
    "\n",
    "knn = KNeighborsClassifier(leaf_size = 80)\n",
    "cv = ShuffleSplit(n_splits=5, test_size=0.2, random_state=0)\n",
    "parameters = {'n_neighbors': (np.arange(50, 500, 50))} \n",
    "# parameters = {'leaf_size': (np.arange(10, 100, 10))}\n",
    "knnGS = GridSearchCV(knn, parameters, cv = cv, scoring='accuracy', verbose=10, n_jobs=-1)\n",
    "knnGS.fit(x, y)"
   ]
  },
  {
   "cell_type": "code",
   "execution_count": 11,
   "metadata": {},
   "outputs": [
    {
     "data": {
      "text/plain": [
       "<matplotlib.legend.Legend at 0x100b44690>"
      ]
     },
     "execution_count": 11,
     "metadata": {},
     "output_type": "execute_result"
    },
    {
     "data": {
      "image/png": "[encoded data removed]",
      "text/plain": [
       "<matplotlib.figure.Figure at 0x107277050>"
      ]
     },
     "metadata": {},
     "output_type": "display_data"
    }
   ],
   "source": [
    "# Graph drawing section, code changed everytime when i need a new graph, will be commented\n",
    "plt.figure()\n",
    "plt.title(\"KNN leaf size Dota2 Dataset\")\n",
    "plt.xlabel(\"Number of n neighbors\")\n",
    "plt.ylabel(\"Score\")\n",
    "\n",
    "plt.grid()\n",
    "\n",
    "plt.plot(knnGS.param_grid['n_neighbors'], knnGS.cv_results_['mean_test_score'], 'o-', color=\"r\",\n",
    "         label=\"TrainingScore\" )\n",
    "plt.plot(knnGS.param_grid['n_neighbors'], knnGS.cv_results_['mean_train_score'], 'o-', color=\"g\",\n",
    "         label=\"Cross Validation Score\")\n",
    "plt.legend(loc=\"best\")"
   ]
  },
  {
   "cell_type": "code",
   "execution_count": 14,
   "metadata": {},
   "outputs": [
    {
     "name": "stdout",
     "output_type": "stream",
     "text": [
      "0.559201295197\n",
      "190\n",
      "[ 10  20  30  40  50  60  70  80  90 100 110 120 130 140 150 160 170 180\n",
      " 190]\n",
      "[ 0.52301133  0.53271452  0.53811117  0.54233135  0.54616298  0.54868861\n",
      "  0.54895845  0.55099838  0.55321101  0.55297356  0.55420399  0.55594172\n",
      "  0.55583378  0.55587696  0.55572585  0.55748516  0.55861846  0.55781975\n",
      "  0.5592013 ]\n",
      "[ 0.64424237  0.61575844  0.60492451  0.59786829  0.59394757  0.59033716\n",
      "  0.58847529  0.58620327  0.58557455  0.58349141  0.58239588  0.58159986\n",
      "  0.58034242  0.57958148  0.57868563  0.57855611  0.57787882  0.57814056\n",
      "  0.5779139 ]\n"
     ]
    }
   ],
   "source": [
    "# Printouts -- TO BE REMOVED\n",
    "print(knnGS.best_score_)\n",
    "print(knnGS.best_estimator_.n_neighbors)\n",
    "print knnGS.param_grid['n_neighbors']\n",
    "print(knnGS.cv_results_['mean_test_score'])\n",
    "print(knnGS.cv_results_['mean_train_score'])"
   ]
  },
  {
   "cell_type": "code",
   "execution_count": 7,
   "metadata": {},
   "outputs": [],
   "source": [
    "nnParam = [50,60,70,80,90,100,110,120,130,140]\n",
    "nnScore = [ 0.54756611, 0.54765246 ,0.5503184  ,0.55109552,  0.55184026, 0.5529088 ,0.55357798 ,0.5556395, 0.55722612, 0.55671883]\n",
    "nnTrain = [0, 0, 0, 0, 0, 0.58380172, 0.58243365, 0.58160256, 0.5803775, 0.57954101]\n",
    "lsParam = [10, 20, 30, 40, 50, 60, 70, 80, 90]\n",
    "lsScore = [0.1, 0.2, 0.3, 0.4, 0.5, 0.6, 0.7, 0.7, 0.7]\n",
    "lsScore = [ 0.52411225 , 0.52422018,  0.52422018 , 0.523864  ,  0.523864, 0.523864, 0.523864,0.52431732,0.52431732]\n",
    "lsTrain = [ 0.70109419, 0.70096197, 0.70096197, 0.70094578, 0.70094578, 0.70094578, 0.70094578, 0.70111307, 0.70111307]"
   ]
  },
  {
   "cell_type": "code",
   "execution_count": 8,
   "metadata": {},
   "outputs": [
    {
     "data": {
      "text/plain": [
       "[<matplotlib.lines.Line2D at 0x10725a790>]"
      ]
     },
     "execution_count": 8,
     "metadata": {},
     "output_type": "execute_result"
    },
    {
     "data": {
      "image/png": "[encoded data removed]",
      "text/plain": [
       "<matplotlib.figure.Figure at 0x100b2b950>"
      ]
     },
     "metadata": {},
     "output_type": "display_data"
    }
   ],
   "source": [
    "plt.figure()\n",
    "plt.title(\"KNN leaf size Dota2 Dataset\")\n",
    "plt.xlabel(\"Number of leaves\")\n",
    "plt.ylabel(\"Cross-validation score\")\n",
    "\n",
    "plt.grid()\n",
    "\n",
    "# plt.plot(lsParam, lsScore, 'o-', color=\"r\")\n",
    "plt.plot(lsParam, lsTrain, 'o-', color=\"g\")"
   ]
  },
  {
   "cell_type": "code",
   "execution_count": 132,
   "metadata": {},
   "outputs": [
    {
     "name": "stdout",
     "output_type": "stream",
     "text": [
      "             precision    recall  f1-score   support\n",
      "\n",
      "         -1       0.49      0.48      0.49      4791\n",
      "          1       0.56      0.57      0.56      5502\n",
      "\n",
      "avg / total       0.53      0.53      0.53     10293\n",
      "\n"
     ]
    }
   ],
   "source": [
    "knnPred = knn.predict(testX)\n",
    "print metrics.classification_report(testY, knnPred)"
   ]
  },
  {
   "cell_type": "code",
   "execution_count": null,
   "metadata": {},
   "outputs": [],
   "source": []
  }
 ],
 "metadata": {
  "kernelspec": {
   "display_name": "Python 2",
   "language": "python",
   "name": "python2"
  },
  "language_info": {
   "codemirror_mode": {
    "name": "ipython",
    "version": 2
   },
   "file_extension": ".py",
   "mimetype": "text/x-python",
   "name": "python",
   "nbconvert_exporter": "python",
   "pygments_lexer": "ipython2",
   "version": "2.7.10"
  }
 },
 "nbformat": 4,
 "nbformat_minor": 2
}
