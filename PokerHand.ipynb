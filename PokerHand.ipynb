{
 "cells": [
  {
   "cell_type": "code",
   "execution_count": 1,
   "metadata": {},
   "outputs": [],
   "source": [
    "import numpy as np\n",
    "import pandas as pd\n",
    "import sklearn.metrics as metrics\n",
    "%matplotlib inline\n",
    "import matplotlib.pyplot as plt\n",
    "\n",
    "from sklearn.tree import DecisionTreeClassifier\n",
    "from sklearn.neural_network import MLPClassifier\n",
    "from sklearn.ensemble import AdaBoostClassifier\n",
    "from sklearn.svm import SVC\n",
    "from sklearn.neighbors import KNeighborsClassifier\n",
    "\n",
    "from sklearn.model_selection import learning_curve\n",
    "from sklearn.model_selection import ShuffleSplit\n",
    "from sklearn.model_selection import GridSearchCV\n",
    "from sklearn.model_selection import train_test_split\n",
    "from sklearn.metrics import accuracy_score"
   ]
  },
  {
   "cell_type": "code",
   "execution_count": 2,
   "metadata": {},
   "outputs": [],
   "source": [
    "# Taken from sklearn docs \n",
    "# http://scikit-learn.org/stable/auto_examples/model_selection/plot_learning_curve.html\n",
    "def plot_learning_curve(estimator, title, X, y, ylim=None, cv=None,\n",
    "                        n_jobs=1, train_sizes=np.linspace(.1, 1.0, 5)):\n",
    "    plt.figure()\n",
    "    plt.title(title)\n",
    "    if ylim is not None:\n",
    "        plt.ylim(*ylim)\n",
    "    plt.xlabel(\"Training examples\")\n",
    "    plt.ylabel(\"Score\")\n",
    "    train_sizes, train_scores, test_scores = learning_curve(\n",
    "        estimator, X, y, cv=cv, n_jobs=n_jobs, train_sizes=train_sizes)\n",
    "    train_scores_mean = np.mean(train_scores, axis=1)\n",
    "    train_scores_std = np.std(train_scores, axis=1)\n",
    "    test_scores_mean = np.mean(test_scores, axis=1)\n",
    "    test_scores_std = np.std(test_scores, axis=1)\n",
    "    plt.grid()\n",
    "\n",
    "    plt.fill_between(train_sizes, train_scores_mean - train_scores_std,\n",
    "                     train_scores_mean + train_scores_std, alpha=0.1,\n",
    "                     color=\"r\")\n",
    "    plt.fill_between(train_sizes, test_scores_mean - test_scores_std,\n",
    "                     test_scores_mean + test_scores_std, alpha=0.1, color=\"g\")\n",
    "    plt.plot(train_sizes, train_scores_mean, 'o-', color=\"r\",\n",
    "             label=\"Training score\")\n",
    "    plt.plot(train_sizes, test_scores_mean, 'o-', color=\"g\",\n",
    "             label=\"Cross-validation score\")\n",
    "\n",
    "    plt.legend(loc=\"best\")\n",
    "    return plt"
   ]
  },
  {
   "cell_type": "code",
   "execution_count": 3,
   "metadata": {},
   "outputs": [],
   "source": [
    "def prune(decisiontree, min_samples_leaf = 1):\n",
    "    if decisiontree.min_samples_leaf >= min_samples_leaf:\n",
    "        raise Exception('Tree already more pruned')\n",
    "    else:\n",
    "        decisiontree.min_samples_leaf = min_samples_leaf\n",
    "        tree = decisiontree.tree_\n",
    "        for i in range(tree.node_count):\n",
    "            n_samples = tree.n_node_samples[i]\n",
    "            if n_samples <= min_samples_leaf:\n",
    "                tree.children_left[i]=-1\n",
    "                tree.children_right[i]=-1"
   ]
  },
  {
   "cell_type": "code",
   "execution_count": 4,
   "metadata": {},
   "outputs": [],
   "source": [
    "#Importing the training dataset\n",
    "trainSet  = pd.read_csv('train.csv')\n",
    "#Encoding the dataset \n",
    "trainingEncoded = pd.get_dummies(trainSet)\n",
    "x = trainingEncoded.drop(['hand'], axis=1)\n",
    "y = trainingEncoded['hand']\n",
    "#Splitting the datasets to independent training and test splits for later use (randomly)\n",
    "xTrain, xVal, yTrain, yVal = train_test_split(x, \n",
    "                                              y,\n",
    "                                              test_size=.1)"
   ]
  },
  {
   "cell_type": "code",
   "execution_count": 63,
   "metadata": {},
   "outputs": [
    {
     "name": "stdout",
     "output_type": "stream",
     "text": [
      "Fitting 10 folds for each of 10 candidates, totalling 100 fits\n",
      "[CV] min_samples_leaf=1 ..............................................\n",
      "[CV] min_samples_leaf=1 ..............................................\n",
      "[CV] ......... min_samples_leaf=1, score=0.531319413594, total=   0.1s\n",
      "[CV] min_samples_leaf=1 ..............................................\n",
      "[CV] ......... min_samples_leaf=1, score=0.542869835629, total=   0.1s\n",
      "[CV] min_samples_leaf=1 ..............................................\n",
      "[CV] min_samples_leaf=1 ..............................................\n",
      "[CV] ......... min_samples_leaf=1, score=0.548200799645, total=   0.1s\n",
      "[CV] min_samples_leaf=1 ..............................................\n",
      "[CV] ......... min_samples_leaf=1, score=0.554864504665, total=   0.1s\n"
     ]
    },
    {
     "name": "stderr",
     "output_type": "stream",
     "text": [
      "[Parallel(n_jobs=-1)]: Batch computation too fast (0.1707s.) Setting batch_size=2.\n"
     ]
    },
    {
     "name": "stdout",
     "output_type": "stream",
     "text": [
      "[CV] ......... min_samples_leaf=1, score=0.545535317637, total=   0.1s\n",
      "[CV] min_samples_leaf=1 ..............................................\n",
      "[CV] ......... min_samples_leaf=1, score=0.536206130609, total=   0.1s\n",
      "[CV] min_samples_leaf=1 ..............................................\n",
      "[CV] min_samples_leaf=1 ..............................................\n",
      "[CV] ......... min_samples_leaf=1, score=0.511550422035, total=   0.1s\n"
     ]
    },
    {
     "name": "stderr",
     "output_type": "stream",
     "text": [
      "[Parallel(n_jobs=-1)]: Done   5 tasks      | elapsed:    0.4s\n"
     ]
    },
    {
     "name": "stdout",
     "output_type": "stream",
     "text": [
      "[CV] ......... min_samples_leaf=1, score=0.562194580187, total=   0.1s\n",
      "[CV] min_samples_leaf=1 ..............................................\n",
      "[CV] ......... min_samples_leaf=1, score=0.554420257663, total=   0.2s\n",
      "[CV] min_samples_leaf=2 ..............................................\n",
      "[CV] min_samples_leaf=2 ..............................................\n",
      "[CV] ......... min_samples_leaf=2, score=0.531319413594, total=   0.1s\n",
      "[CV] min_samples_leaf=2 ..............................................\n",
      "[CV] min_samples_leaf=2 ..............................................\n",
      "[CV] ......... min_samples_leaf=1, score=0.564637938694, total=   0.2s\n",
      "[CV] ......... min_samples_leaf=2, score=0.548200799645, total=   0.1s\n",
      "[CV] min_samples_leaf=2 ..............................................\n",
      "[CV] min_samples_leaf=2 ..............................................\n",
      "[CV] ......... min_samples_leaf=2, score=0.545535317637, total=   0.1s\n",
      "[CV] min_samples_leaf=2 ..............................................\n",
      "[CV] ......... min_samples_leaf=2, score=0.542869835629, total=   0.1s\n",
      "[CV] min_samples_leaf=2 ..............................................\n",
      "[CV] ......... min_samples_leaf=2, score=0.554864504665, total=   0.1s\n",
      "[CV] ......... min_samples_leaf=2, score=0.511550422035, total=   0.1s\n",
      "[CV] min_samples_leaf=2 ..............................................\n",
      "[CV] min_samples_leaf=3 ..............................................\n",
      "[CV] ......... min_samples_leaf=2, score=0.536206130609, total=   0.1s\n",
      "[CV] min_samples_leaf=3 ..............................................\n",
      "[CV] ......... min_samples_leaf=2, score=0.562194580187, total=   0.2s\n",
      "[CV] min_samples_leaf=2 ..............................................\n"
     ]
    },
    {
     "name": "stderr",
     "output_type": "stream",
     "text": [
      "[Parallel(n_jobs=-1)]: Done  12 tasks      | elapsed:    0.9s\n"
     ]
    },
    {
     "name": "stdout",
     "output_type": "stream",
     "text": [
      "[CV] ......... min_samples_leaf=3, score=0.531319413594, total=   0.2s\n",
      "[CV] min_samples_leaf=3 ..............................................\n",
      "[CV] ......... min_samples_leaf=2, score=0.554420257663, total=   0.2s\n",
      "[CV] ......... min_samples_leaf=2, score=0.563749444691, total=   0.1s\n",
      "[CV] ......... min_samples_leaf=3, score=0.548422923145, total=   0.2s\n",
      "[CV] min_samples_leaf=3 ..............................................\n",
      "[CV] min_samples_leaf=3 ..............................................\n",
      "[CV] min_samples_leaf=3 ..............................................\n",
      "[CV] ......... min_samples_leaf=3, score=0.542869835629, total=   0.1s\n",
      "[CV] ......... min_samples_leaf=3, score=0.545535317637, total=   0.1s\n",
      "[CV] min_samples_leaf=3 ..............................................\n",
      "[CV] min_samples_leaf=3 ..............................................\n",
      "[CV] ......... min_samples_leaf=3, score=0.554864504665, total=   0.2s\n",
      "[CV] ......... min_samples_leaf=3, score=0.511550422035, total=   0.2s\n",
      "[CV] min_samples_leaf=4 ..............................................\n",
      "[CV] min_samples_leaf=3 ..............................................\n",
      "[CV] ......... min_samples_leaf=3, score=0.562194580187, total=   0.2s\n",
      "[CV] min_samples_leaf=3 ..............................................\n",
      "[CV] ......... min_samples_leaf=3, score=0.536206130609, total=   0.2s\n",
      "[CV] min_samples_leaf=4 ..............................................\n",
      "[CV] ......... min_samples_leaf=4, score=0.531319413594, total=   0.2s\n",
      "[CV] min_samples_leaf=4 ..............................................\n",
      "[CV] ......... min_samples_leaf=3, score=0.554420257663, total=   0.2s\n",
      "[CV] min_samples_leaf=4 ..............................................\n",
      "[CV] ......... min_samples_leaf=3, score=0.563749444691, total=   0.2s\n",
      "[CV] min_samples_leaf=4 ..............................................\n",
      "[CV] ......... min_samples_leaf=4, score=0.548422923145, total=   0.2s\n",
      "[CV] min_samples_leaf=4 ..............................................\n"
     ]
    },
    {
     "name": "stderr",
     "output_type": "stream",
     "text": [
      "[Parallel(n_jobs=-1)]: Done  26 tasks      | elapsed:    1.6s\n"
     ]
    },
    {
     "name": "stdout",
     "output_type": "stream",
     "text": [
      "[CV] ......... min_samples_leaf=4, score=0.542869835629, total=   0.1s\n",
      "[CV] min_samples_leaf=4 ..............................................\n",
      "[CV] ......... min_samples_leaf=4, score=0.544868947135, total=   0.2s\n",
      "[CV] min_samples_leaf=4 ..............................................\n",
      "[CV] ......... min_samples_leaf=4, score=0.511550422035, total=   0.1s\n",
      "[CV] min_samples_leaf=4 ..............................................\n",
      "[CV] ......... min_samples_leaf=4, score=0.554864504665, total=   0.1s\n",
      "[CV] min_samples_leaf=5 ..............................................\n",
      "[CV] ......... min_samples_leaf=4, score=0.562194580187, total=   0.1s\n",
      "[CV] ......... min_samples_leaf=4, score=0.536206130609, total=   0.1s\n",
      "[CV] min_samples_leaf=4 ..............................................\n",
      "[CV] min_samples_leaf=5 ..............................................\n",
      "[CV] ......... min_samples_leaf=4, score=0.554420257663, total=   0.2s\n",
      "[CV] min_samples_leaf=5 ..............................................\n",
      "[CV] ......... min_samples_leaf=4, score=0.563749444691, total=   0.1s\n",
      "[CV] ......... min_samples_leaf=5, score=0.531319413594, total=   0.2s\n",
      "[CV] min_samples_leaf=5 ..............................................\n",
      "[CV] min_samples_leaf=5 ..............................................\n",
      "[CV] ......... min_samples_leaf=5, score=0.548200799645, total=   0.2s\n",
      "[CV] min_samples_leaf=5 ..............................................\n",
      "[CV] ......... min_samples_leaf=5, score=0.544868947135, total=   0.1s\n",
      "[CV] min_samples_leaf=5 ..............................................\n",
      "[CV] ......... min_samples_leaf=5, score=0.542869835629, total=   0.1s\n",
      "[CV] min_samples_leaf=5 ..............................................\n",
      "[CV] ......... min_samples_leaf=5, score=0.511550422035, total=   0.1s\n",
      "[CV] min_samples_leaf=5 ..............................................\n"
     ]
    },
    {
     "name": "stderr",
     "output_type": "stream",
     "text": [
      "[Parallel(n_jobs=-1)]: Done  40 tasks      | elapsed:    2.2s\n"
     ]
    },
    {
     "name": "stdout",
     "output_type": "stream",
     "text": [
      "[CV] ......... min_samples_leaf=5, score=0.554864504665, total=   0.1s\n",
      "[CV] min_samples_leaf=6 ..............................................\n",
      "[CV] ......... min_samples_leaf=5, score=0.536206130609, total=   0.1s\n",
      "[CV] ......... min_samples_leaf=5, score=0.562194580187, total=   0.1s\n",
      "[CV] min_samples_leaf=5 ..............................................\n",
      "[CV] min_samples_leaf=6 ..............................................\n",
      "[CV] ......... min_samples_leaf=5, score=0.554420257663, total=   0.2s\n",
      "[CV] ......... min_samples_leaf=6, score=0.531319413594, total=   0.1s\n",
      "[CV] min_samples_leaf=6 ..............................................\n",
      "[CV] ......... min_samples_leaf=5, score=0.564637938694, total=   0.1s\n",
      "[CV] min_samples_leaf=6 ..............................................\n",
      "[CV] min_samples_leaf=6 ..............................................\n",
      "[CV] ......... min_samples_leaf=6, score=0.548422923145, total=   0.1s\n",
      "[CV] min_samples_leaf=6 ..............................................\n",
      "[CV] ......... min_samples_leaf=6, score=0.542869835629, total=   0.1s\n",
      "[CV] min_samples_leaf=6 ..............................................\n",
      "[CV] ......... min_samples_leaf=6, score=0.544868947135, total=   0.1s\n",
      "[CV] min_samples_leaf=6 ..............................................\n",
      "[CV] ......... min_samples_leaf=6, score=0.511550422035, total=   0.2s\n",
      "[CV] ......... min_samples_leaf=6, score=0.554864504665, total=   0.1s\n",
      "[CV] min_samples_leaf=6 ..............................................\n",
      "[CV] min_samples_leaf=7 ..............................................\n",
      "[CV] ......... min_samples_leaf=6, score=0.562194580187, total=   0.1s\n",
      "[CV] min_samples_leaf=6 ..............................................\n",
      "[CV] ......... min_samples_leaf=6, score=0.535984007108, total=   0.1s\n",
      "[CV] ......... min_samples_leaf=6, score=0.554420257663, total=   0.1s\n",
      "[CV] min_samples_leaf=7 ..............................................\n",
      "[CV] ......... min_samples_leaf=7, score=0.531319413594, total=   0.1s\n",
      "[CV] min_samples_leaf=7 ..............................................\n",
      "[CV] ......... min_samples_leaf=6, score=0.564637938694, total=   0.1s\n",
      "[CV] min_samples_leaf=7 ..............................................\n",
      "[CV] min_samples_leaf=7 ..............................................\n",
      "[CV] ......... min_samples_leaf=7, score=0.548422923145, total=   0.1s\n",
      "[CV] min_samples_leaf=7 ..............................................\n",
      "[CV] ......... min_samples_leaf=7, score=0.542869835629, total=   0.1s\n",
      "[CV] ......... min_samples_leaf=7, score=0.544646823634, total=   0.1s\n",
      "[CV] min_samples_leaf=7 ..............................................\n",
      "[CV] min_samples_leaf=7 ..............................................\n"
     ]
    },
    {
     "name": "stderr",
     "output_type": "stream",
     "text": [
      "[Parallel(n_jobs=-1)]: Done  58 tasks      | elapsed:    3.0s\n"
     ]
    },
    {
     "name": "stdout",
     "output_type": "stream",
     "text": [
      "[CV] ......... min_samples_leaf=7, score=0.511550422035, total=   0.1s\n",
      "[CV] min_samples_leaf=7 ..............................................\n",
      "[CV] ......... min_samples_leaf=7, score=0.554864504665, total=   0.1s\n",
      "[CV] min_samples_leaf=8 ..............................................\n",
      "[CV] ......... min_samples_leaf=7, score=0.562194580187, total=   0.1s\n",
      "[CV] min_samples_leaf=7 ..............................................\n",
      "[CV] ......... min_samples_leaf=7, score=0.535984007108, total=   0.1s\n",
      "[CV] min_samples_leaf=8 ..............................................\n",
      "[CV] ......... min_samples_leaf=7, score=0.554420257663, total=   0.1s\n",
      "[CV] min_samples_leaf=8 ..............................................\n",
      "[CV] ......... min_samples_leaf=7, score=0.563083074189, total=   0.2s\n",
      "[CV] ......... min_samples_leaf=8, score=0.531319413594, total=   0.2s\n",
      "[CV] min_samples_leaf=8 ..............................................\n",
      "[CV] min_samples_leaf=8 ..............................................\n",
      "[CV] ......... min_samples_leaf=8, score=0.548200799645, total=   0.2s\n",
      "[CV] min_samples_leaf=8 ..............................................\n",
      "[CV] ......... min_samples_leaf=8, score=0.544646823634, total=   0.1s\n",
      "[CV] ......... min_samples_leaf=8, score=0.542869835629, total=   0.1s\n",
      "[CV] min_samples_leaf=8 ..............................................\n",
      "[CV] min_samples_leaf=8 ..............................................\n",
      "[CV] ......... min_samples_leaf=8, score=0.511994669036, total=   0.1s\n",
      "[CV] min_samples_leaf=8 ..............................................\n",
      "[CV] ......... min_samples_leaf=8, score=0.554864504665, total=   0.1s\n",
      "[CV] min_samples_leaf=9 ..............................................\n",
      "[CV] ......... min_samples_leaf=8, score=0.535539760107, total=   0.1s\n",
      "[CV] ......... min_samples_leaf=8, score=0.562194580187, total=   0.1s\n",
      "[CV] min_samples_leaf=9 ..............................................\n",
      "[CV] min_samples_leaf=8 ..............................................\n",
      "[CV] ......... min_samples_leaf=9, score=0.531319413594, total=   0.1s\n",
      "[CV] min_samples_leaf=9 ..............................................\n",
      "[CV] ......... min_samples_leaf=8, score=0.554420257663, total=   0.2s\n",
      "[CV] min_samples_leaf=9 ..............................................\n",
      "[CV] ......... min_samples_leaf=9, score=0.548200799645, total=   0.1s\n",
      "[CV] min_samples_leaf=9 ..............................................\n",
      "[CV] ......... min_samples_leaf=8, score=0.563083074189, total=   0.1s\n",
      "[CV] min_samples_leaf=9 ..............................................\n"
     ]
    },
    {
     "name": "stderr",
     "output_type": "stream",
     "text": [
      "[Parallel(n_jobs=-1)]: Done  76 tasks      | elapsed:    3.7s\n"
     ]
    },
    {
     "name": "stdout",
     "output_type": "stream",
     "text": [
      "[CV] ......... min_samples_leaf=9, score=0.542869835629, total=   0.1s\n",
      "[CV] min_samples_leaf=9 ..............................................\n",
      "[CV] ......... min_samples_leaf=9, score=0.544424700133, total=   0.1s\n",
      "[CV] min_samples_leaf=9 ..............................................\n",
      "[CV] ......... min_samples_leaf=9, score=0.554864504665, total=   0.2s\n",
      "[CV] ......... min_samples_leaf=9, score=0.511994669036, total=   0.1s\n",
      "[CV] min_samples_leaf=9 ..............................................\n",
      "[CV] min_samples_leaf=10 .............................................\n",
      "[CV] ......... min_samples_leaf=9, score=0.562194580187, total=   0.2s\n",
      "[CV] min_samples_leaf=9 ..............................................\n",
      "[CV] ......... min_samples_leaf=9, score=0.535539760107, total=   0.2s\n",
      "[CV] min_samples_leaf=10 .............................................\n",
      "[CV] ........ min_samples_leaf=10, score=0.531319413594, total=   0.1s\n",
      "[CV] min_samples_leaf=10 .............................................\n",
      "[CV] ......... min_samples_leaf=9, score=0.554420257663, total=   0.1s\n",
      "[CV] ......... min_samples_leaf=9, score=0.563083074189, total=   0.1s\n",
      "[CV] min_samples_leaf=10 .............................................\n",
      "[CV] min_samples_leaf=10 .............................................\n",
      "[CV] ........ min_samples_leaf=10, score=0.548200799645, total=   0.1s\n",
      "[CV] min_samples_leaf=10 .............................................\n",
      "[CV] ........ min_samples_leaf=10, score=0.542869835629, total=   0.1s\n",
      "[CV] ........ min_samples_leaf=10, score=0.545091070635, total=   0.1s\n",
      "[CV] min_samples_leaf=10 .............................................\n",
      "[CV] ........ min_samples_leaf=10, score=0.512438916037, total=   0.1s\n",
      "[CV] min_samples_leaf=10 .............................................\n",
      "[CV] min_samples_leaf=10 .............................................\n",
      "[CV] ........ min_samples_leaf=10, score=0.554864504665, total=   0.1s\n",
      "[CV] ........ min_samples_leaf=10, score=0.535539760107, total=   0.1s\n",
      "[CV] ........ min_samples_leaf=10, score=0.562194580187, total=   0.1s\n",
      "[CV] min_samples_leaf=10 .............................................\n",
      "[CV] ........ min_samples_leaf=10, score=0.555086628165, total=   0.1s\n",
      "[CV] ........ min_samples_leaf=10, score=0.563083074189, total=   0.1s\n"
     ]
    },
    {
     "name": "stderr",
     "output_type": "stream",
     "text": [
      "[Parallel(n_jobs=-1)]: Done 100 out of 100 | elapsed:    4.6s finished\n"
     ]
    },
    {
     "data": {
      "text/plain": [
       "GridSearchCV(cv=ShuffleSplit(n_splits=10, random_state=0, test_size=0.2, train_size=None),\n",
       "       error_score='raise',\n",
       "       estimator=DecisionTreeClassifier(class_weight=None, criterion='gini', max_depth=None,\n",
       "            max_features=None, max_leaf_nodes=None,\n",
       "            min_impurity_decrease=0.0, min_impurity_split=None,\n",
       "            min_samples_leaf=1, min_samples_split=120,\n",
       "            min_weight_fraction_leaf=0.0, presort=False, random_state=None,\n",
       "            splitter='best'),\n",
       "       fit_params=None, iid=True, n_jobs=-1,\n",
       "       param_grid={'min_samples_leaf': array([ 1,  2,  3,  4,  5,  6,  7,  8,  9, 10])},\n",
       "       pre_dispatch='2*n_jobs', refit=True, return_train_score='warn',\n",
       "       scoring='accuracy', verbose=10)"
      ]
     },
     "execution_count": 63,
     "metadata": {},
     "output_type": "execute_result"
    }
   ],
   "source": [
    "# Decision Tree Zone\n",
    "dt = DecisionTreeClassifier(splitter='best', min_samples_split = 120, min_samples_leaf = 1)\n",
    "cv = ShuffleSplit(n_splits=10, test_size=0.2, random_state=0)\n",
    "# parameters = {'splitter':('best', 'random')}\n",
    "# parameters = {'presort':(True, False)}\n",
    "# parameters = {'min_impurity_decrease': (np.arange(0.0, 1.01, 0.1))}\n",
    "# parameters = {'min_samples_split': (np.arange(10, 210, 10))}\n",
    "# parameters = {'min_samples_leaf': (np.arange(1, 11))}\n",
    "dtGS = GridSearchCV(dt, parameters, cv = cv, scoring='accuracy', verbose=10, n_jobs=-1)\n",
    "dtGS.fit(xTrain, yTrain)"
   ]
  },
  {
   "cell_type": "code",
   "execution_count": 64,
   "metadata": {},
   "outputs": [
    {
     "name": "stdout",
     "output_type": "stream",
     "text": [
      "0.545179920036\n",
      "1\n",
      "[ 0.54517992  0.54509107  0.54511328  0.54504665  0.54511328  0.54511328\n",
      "  0.54493558  0.54491337  0.54489116  0.54506886]\n",
      "[ 0.60206031  0.60206031  0.60206031  0.60204365  0.60204365  0.6020381\n",
      "  0.60198256  0.60192703  0.60185483  0.6018826 ]\n"
     ]
    }
   ],
   "source": [
    "print(dtGS.best_score_)\n",
    "print(dtGS.best_estimator_.min_samples_leaf)\n",
    "print dtGS.cv_results_['mean_test_score']\n",
    "print dtGS.cv_results_['mean_train_score']"
   ]
  },
  {
   "cell_type": "code",
   "execution_count": 65,
   "metadata": {},
   "outputs": [
    {
     "data": {
      "text/plain": [
       "<matplotlib.legend.Legend at 0x113805410>"
      ]
     },
     "execution_count": 65,
     "metadata": {},
     "output_type": "execute_result"
    },
    {
     "data": {
      "image/png": "[encoded data removed]",
      "text/plain": [
       "<matplotlib.figure.Figure at 0x112bd7d10>"
      ]
     },
     "metadata": {},
     "output_type": "display_data"
    }
   ],
   "source": [
    "# Graph drawing section, code changed everytime when i need a new graph, will be commented\n",
    "plt.figure()\n",
    "plt.title(\"Decision Tree Min Samples Leaf Decrease\")\n",
    "plt.xlabel(\"min_samples_leaf\")\n",
    "plt.ylabel(\"Score\")\n",
    "\n",
    "plt.grid()\n",
    "\n",
    "plt.plot(dtGS.param_grid['min_samples_leaf'], dtGS.cv_results_['mean_test_score'], 'o-', color=\"r\",\n",
    "         label=\"Cross Validation Score\" )\n",
    "plt.plot(dtGS.param_grid['min_samples_leaf'], dtGS.cv_results_['mean_train_score'], 'o-', color=\"g\",\n",
    "         label=\"Training Score\")\n",
    "plt.legend(loc=\"best\")"
   ]
  },
  {
   "cell_type": "code",
   "execution_count": 68,
   "metadata": {},
   "outputs": [
    {
     "name": "stdout",
     "output_type": "stream",
     "text": [
      "0.570571771291\n",
      "380\n"
     ]
    }
   ],
   "source": [
    "# Pruning evaluator\n",
    "testScoreArray = []\n",
    "trainScoreArray = []\n",
    "bestScore = 0.0\n",
    "index = -1\n",
    "for i in range(10, 2010, 10):\n",
    "    dt = DecisionTreeClassifier(splitter='best', min_samples_split = 120, min_samples_leaf = 1)\n",
    "    dt.fit(xTrain, yTrain)\n",
    "    prune(dt, i)\n",
    "    \n",
    "    trainDtPred = dt.predict(xTrain)\n",
    "    trainDtPred = pd.DataFrame(data=trainDtPred, columns=['hand'])\n",
    "    trainAcc = accuracy_score(yTrain, trainDtPred)\n",
    "    \n",
    "    testDtPred = dt.predict(xVal)\n",
    "    testDtPred = pd.DataFrame(data=testDtPred, columns=['hand'])\n",
    "    testAcc = accuracy_score(yVal, testDtPred)\n",
    "    \n",
    "    if testAcc > bestScore:\n",
    "        index = i\n",
    "        bestScore = testAcc\n",
    "    trainScoreArray.append(trainAcc)\n",
    "    testScoreArray.append(testAcc)\n",
    "print bestScore\n",
    "print index"
   ]
  },
  {
   "cell_type": "code",
   "execution_count": 71,
   "metadata": {},
   "outputs": [
    {
     "data": {
      "text/plain": [
       "<matplotlib.legend.Legend at 0x1137aa6d0>"
      ]
     },
     "execution_count": 71,
     "metadata": {},
     "output_type": "execute_result"
    },
    {
     "data": {
      "image/png": "[encoded data removed]",
      "text/plain": [
       "<matplotlib.figure.Figure at 0x1147bced0>"
      ]
     },
     "metadata": {},
     "output_type": "display_data"
    }
   ],
   "source": [
    "# Pruning Grapher\n",
    "plt.figure()\n",
    "plt.title(\"Decision Tree Pruning Comparison\")\n",
    "plt.xlabel(\"Min Samples Leaf\")\n",
    "plt.ylabel(\"Score\")\n",
    "# plt.ylim(*(0.55, 1.02))\n",
    "\n",
    "plt.grid()\n",
    "\n",
    "plt.plot(np.arange(10, 2010, 10), testScoreArray, 'o-', color=\"r\", label = \"Testing Score\")\n",
    "plt.plot(np.arange(10, 2010, 10), trainScoreArray, 'o-', color=\"g\", label = \"Training Score\")\n",
    "plt.legend(loc=\"best\")"
   ]
  },
  {
   "cell_type": "code",
   "execution_count": 116,
   "metadata": {},
   "outputs": [
    {
     "data": {
      "text/plain": [
       "<matplotlib.legend.Legend at 0x113eb8d50>"
      ]
     },
     "execution_count": 116,
     "metadata": {},
     "output_type": "execute_result"
    },
    {
     "data": {
      "image/png": "[encoded data removed]",
      "text/plain": [
       "<matplotlib.figure.Figure at 0x11581fe90>"
      ]
     },
     "metadata": {},
     "output_type": "display_data"
    }
   ],
   "source": [
    "# dt = DecisionTreeClassifier(splitter='best', min_samples_split = 120, min_samples_leaf = 1)\n",
    "# dt.fit(xTrain, yTrain)\n",
    "# prune(dt, 380)\n",
    "\n",
    "# xTrain, xVal, yTrain, yVal = train_test_split(x, \n",
    "#                                               y,\n",
    "#                                               test_size=.1)\n",
    "\n",
    "sampleNum = []\n",
    "trainScoreArr = []\n",
    "testScoreArr = []\n",
    "index = -1\n",
    "bestScore = 0\n",
    "\n",
    "for i in range (1, 5):\n",
    "    xTrainRound = xTrain\n",
    "    yTrainRound = yTrain\n",
    "    if i < 5:\n",
    "        xTrainRound, throwaway1, yTrainRound, throwaway2 = train_test_split(xTrain, yTrain, test_size=i/5.0)\n",
    "    \n",
    "    dt = DecisionTreeClassifier(splitter='best', min_samples_split = 120, min_samples_leaf = 1)\n",
    "    dt.fit(xTrainRound, yTrainRound)\n",
    "    prune(dt, 380)\n",
    "    \n",
    "    trainPredRes = dt.predict(xTrainRound)\n",
    "    trainPredRes = pd.DataFrame(data=trainPredRes, columns=['hand'])\n",
    "    trainAcc = accuracy_score(yTrainRound, trainPredRes)\n",
    "    \n",
    "    testPredRes = dt.predict(xVal)\n",
    "    testPredRes = pd.DataFrame(data=testPredRes, columns=['hand'])\n",
    "    testAcc = accuracy_score(yVal, testPredRes)\n",
    "    \n",
    "    if testAcc > bestScore:\n",
    "        index = i\n",
    "        bestScore = testAcc\n",
    "    trainScoreArr.append(trainAcc)\n",
    "    testScoreArr.append(testAcc)\n",
    "    sampleNum.append(22509 * i / 5.0)\n",
    "    \n",
    "\n",
    "plt.figure()\n",
    "plt.title(\"Decision Tree Train Test Error\")\n",
    "plt.xlabel(\"Num of Samples\")\n",
    "plt.ylabel(\"Accuracy Score\")\n",
    "# plt.ylim(*(0.55, 1.02))\n",
    "\n",
    "plt.grid()\n",
    "\n",
    "plt.plot(sampleNum, testScoreArr, 'o-', color=\"r\", label = \"Testing Score\")\n",
    "plt.plot(sampleNum, trainScoreArr, 'o-', color=\"g\", label = \"Training Score\")\n",
    "plt.legend(loc=\"best\")"
   ]
  },
  {
   "cell_type": "code",
   "execution_count": 72,
   "metadata": {},
   "outputs": [
    {
     "name": "stdout",
     "output_type": "stream",
     "text": [
      "0    1784\n",
      "1     717\n",
      "Name: hand, dtype: int64\n",
      "             precision    recall  f1-score   support\n",
      "\n",
      "          0       0.58      0.82      0.68      1252\n",
      "          1       0.56      0.37      0.45      1075\n",
      "          2       0.00      0.00      0.00       104\n",
      "          3       0.00      0.00      0.00        49\n",
      "          4       0.00      0.00      0.00         8\n",
      "          5       0.00      0.00      0.00         3\n",
      "          6       0.00      0.00      0.00         6\n",
      "          7       0.00      0.00      0.00         2\n",
      "          8       0.00      0.00      0.00         1\n",
      "          9       0.00      0.00      0.00         1\n",
      "\n",
      "avg / total       0.53      0.57      0.53      2501\n",
      "\n"
     ]
    }
   ],
   "source": [
    "dt = DecisionTreeClassifier(splitter='best', min_samples_split = 120, min_samples_leaf = 1)\n",
    "dt.fit(xTrain, yTrain)\n",
    "prune(dt, 380)\n",
    "dtPred = dt.predict(xVal)\n",
    "\n",
    "#Labelling the result\n",
    "dtPred = pd.DataFrame(data=dtPred, columns=['hand'])\n",
    "\n",
    "#Printing test metrics\n",
    "print dtPred.hand.value_counts()\n",
    "print metrics.classification_report(yVal, dtPred)"
   ]
  },
  {
   "cell_type": "code",
   "execution_count": 6,
   "metadata": {},
   "outputs": [
    {
     "name": "stdout",
     "output_type": "stream",
     "text": [
      "0    1180\n",
      "1    1076\n",
      "2     152\n",
      "3      64\n",
      "4      12\n",
      "5      11\n",
      "6       5\n",
      "9       1\n",
      "Name: hand, dtype: int64\n",
      "             precision    recall  f1-score   support\n",
      "\n",
      "          0       0.60      0.57      0.59      1252\n",
      "          1       0.49      0.49      0.49      1075\n",
      "          2       0.08      0.12      0.09       104\n",
      "          3       0.03      0.04      0.04        49\n",
      "          4       0.08      0.12      0.10         8\n",
      "          5       0.00      0.00      0.00         3\n",
      "          6       0.00      0.00      0.00         6\n",
      "          7       0.00      0.00      0.00         2\n",
      "          8       0.00      0.00      0.00         1\n",
      "          9       0.00      0.00      0.00         1\n",
      "\n",
      "avg / total       0.52      0.50      0.51      2501\n",
      "\n"
     ]
    },
    {
     "name": "stderr",
     "output_type": "stream",
     "text": [
      "/Users/kristiansuhartono/python-env/lib/python2.7/site-packages/sklearn/metrics/classification.py:1135: UndefinedMetricWarning: Precision and F-score are ill-defined and being set to 0.0 in labels with no predicted samples.\n",
      "  'precision', 'predicted', average, warn_for)\n"
     ]
    }
   ],
   "source": [
    "dt = DecisionTreeClassifier()\n",
    "dt.fit(xTrain, yTrain)\n",
    "dtPred = dt.predict(xVal)\n",
    "\n",
    "#Labelling the result\n",
    "dtPred = pd.DataFrame(data=dtPred, columns=['hand'])\n",
    "\n",
    "#Printing test metrics\n",
    "print dtPred.hand.value_counts()\n",
    "print metrics.classification_report(yVal, dtPred)"
   ]
  },
  {
   "cell_type": "code",
   "execution_count": 5,
   "metadata": {},
   "outputs": [
    {
     "name": "stdout",
     "output_type": "stream",
     "text": [
      "Fitting 10 folds for each of 9 candidates, totalling 90 fits\n",
      "[CV] alpha=0.0001 ....................................................\n",
      "[CV] alpha=0.0001 ....................................................\n",
      "[CV] alpha=0.0001 ....................................................\n",
      "[CV] alpha=0.0001 ....................................................\n",
      "[CV] ............... alpha=0.0001, score=0.535984007108, total=  37.9s\n",
      "[CV] alpha=0.0001 ....................................................\n",
      "[CV] ............... alpha=0.0001, score=0.601066192803, total=  40.9s\n",
      "[CV] alpha=0.0001 ....................................................\n",
      "[CV] ............... alpha=0.0001, score=0.587072412261, total=  43.4s\n",
      "[CV] alpha=0.0001 ....................................................\n",
      "[CV] ............... alpha=0.0001, score=0.599511328299, total=  44.9s\n",
      "[CV] alpha=0.0001 ....................................................\n",
      "[CV] ............... alpha=0.0001, score=0.555975122168, total=  12.5s\n",
      "[CV] alpha=0.0001 ....................................................\n"
     ]
    },
    {
     "name": "stderr",
     "output_type": "stream",
     "text": [
      "[Parallel(n_jobs=-1)]: Done   5 tasks      | elapsed:   51.3s\n"
     ]
    },
    {
     "name": "stdout",
     "output_type": "stream",
     "text": [
      "[CV] ............... alpha=0.0001, score=0.573078631719, total=  14.9s\n",
      "[CV] alpha=0.0001 ....................................................\n",
      "[CV] ............... alpha=0.0001, score=0.555308751666, total=  17.1s\n",
      "[CV] alpha=0.0002 ....................................................\n",
      "[CV] ............... alpha=0.0001, score=0.617725455353, total=  45.1s\n",
      "[CV] alpha=0.0002 ....................................................\n",
      "[CV] ................ alpha=0.0001, score=0.63660595291, total=  53.2s\n",
      "[CV] alpha=0.0002 ....................................................\n",
      "[CV] ............... alpha=0.0002, score=0.543758329631, total=   9.1s\n",
      "[CV] alpha=0.0002 ....................................................\n"
     ]
    },
    {
     "name": "stderr",
     "output_type": "stream",
     "text": [
      "[Parallel(n_jobs=-1)]: Done  10 tasks      | elapsed:  1.8min\n"
     ]
    },
    {
     "name": "stdout",
     "output_type": "stream",
     "text": [
      "[CV] ............... alpha=0.0002, score=0.604842292315, total=  32.6s\n",
      "[CV] alpha=0.0002 ....................................................\n",
      "[CV] ............... alpha=0.0001, score=0.589515770769, total= 1.3min\n",
      "[CV] alpha=0.0002 ....................................................\n",
      "[CV] ............... alpha=0.0002, score=0.614393602843, total=  45.5s\n",
      "[CV] alpha=0.0002 ....................................................\n",
      "[CV] ............... alpha=0.0002, score=0.561972456686, total=  34.8s\n",
      "[CV] alpha=0.0002 ....................................................\n",
      "[CV] ............... alpha=0.0002, score=0.576854731231, total=  44.9s\n",
      "[CV] alpha=0.0002 ....................................................\n",
      "[CV] ............... alpha=0.0002, score=0.585517547757, total=  48.6s\n",
      "[CV] alpha=0.0002 ....................................................\n",
      "[CV] ............... alpha=0.0002, score=0.597290093292, total=  27.1s\n",
      "[CV] alpha=0.0003 ....................................................\n"
     ]
    },
    {
     "name": "stderr",
     "output_type": "stream",
     "text": [
      "[Parallel(n_jobs=-1)]: Done  17 tasks      | elapsed:  2.8min\n"
     ]
    },
    {
     "name": "stdout",
     "output_type": "stream",
     "text": [
      "[CV] ............... alpha=0.0002, score=0.579520213239, total=  27.7s\n",
      "[CV] alpha=0.0003 ....................................................\n",
      "[CV] ............... alpha=0.0002, score=0.591070635273, total=  44.4s\n",
      "[CV] alpha=0.0003 ....................................................\n",
      "[CV] ............... alpha=0.0002, score=0.619502443359, total=  56.7s\n",
      "[CV] alpha=0.0003 ....................................................\n",
      "[CV] ............... alpha=0.0003, score=0.620613060862, total=  50.6s\n",
      "[CV] alpha=0.0003 ....................................................\n",
      "[CV] ............... alpha=0.0003, score=0.642603287428, total= 1.3min\n",
      "[CV] alpha=0.0003 ....................................................\n",
      "[CV] ............... alpha=0.0003, score=0.605508662817, total=  50.5s\n",
      "[CV] alpha=0.0003 ....................................................\n",
      "[CV] ............... alpha=0.0003, score=0.589071523767, total=  25.4s\n",
      "[CV] alpha=0.0003 ....................................................\n"
     ]
    },
    {
     "name": "stderr",
     "output_type": "stream",
     "text": [
      "[Parallel(n_jobs=-1)]: Done  24 tasks      | elapsed:  4.4min\n"
     ]
    },
    {
     "name": "stdout",
     "output_type": "stream",
     "text": [
      "[CV] ............... alpha=0.0003, score=0.605508662817, total=  45.4s\n",
      "[CV] alpha=0.0003 ....................................................\n",
      "[CV] ............... alpha=0.0003, score=0.654820079964, total= 1.5min\n",
      "[CV] alpha=0.0003 ....................................................\n",
      "[CV] ............... alpha=0.0003, score=0.602843180809, total= 1.4min\n",
      "[CV] alpha=0.0004 ....................................................\n",
      "[CV] ............... alpha=0.0003, score=0.585517547757, total=  43.9s\n",
      "[CV] alpha=0.0004 ....................................................\n",
      "[CV] ............... alpha=0.0003, score=0.648378498445, total= 1.6min\n",
      "[CV] alpha=0.0004 ....................................................\n",
      "[CV] ............... alpha=0.0003, score=0.571079520213, total= 1.2min\n",
      "[CV] alpha=0.0004 ....................................................\n",
      "[CV] ............... alpha=0.0004, score=0.558862727677, total=  21.8s\n",
      "[CV] alpha=0.0004 ....................................................\n",
      "[CV] ............... alpha=0.0004, score=0.611950244336, total=  43.1s\n",
      "[CV] alpha=0.0004 ....................................................\n",
      "[CV] ............... alpha=0.0004, score=0.599067081297, total=  30.6s\n",
      "[CV] alpha=0.0004 ....................................................\n"
     ]
    },
    {
     "name": "stderr",
     "output_type": "stream",
     "text": [
      "[Parallel(n_jobs=-1)]: Done  33 tasks      | elapsed:  6.8min\n"
     ]
    },
    {
     "name": "stdout",
     "output_type": "stream",
     "text": [
      "[CV] ............... alpha=0.0004, score=0.616170590849, total=  42.7s\n",
      "[CV] alpha=0.0004 ....................................................\n",
      "[CV] ............... alpha=0.0004, score=0.610839626833, total= 1.1min\n",
      "[CV] alpha=0.0004 ....................................................\n",
      "[CV] ............... alpha=0.0004, score=0.643713904931, total= 1.2min\n",
      "[CV] alpha=0.0004 ....................................................\n",
      "[CV] ............... alpha=0.0004, score=0.593958240782, total=  23.0s\n",
      "[CV] alpha=0.0005 ....................................................\n",
      "[CV] ................ alpha=0.0004, score=0.56996890271, total=  46.5s\n",
      "[CV] alpha=0.0005 ....................................................\n",
      "[CV] ............... alpha=0.0005, score=0.620613060862, total=  35.7s\n",
      "[CV] alpha=0.0005 ....................................................\n",
      "[CV] ............... alpha=0.0004, score=0.611950244336, total=  40.7s\n",
      "[CV] alpha=0.0005 ....................................................\n",
      "[CV] ............... alpha=0.0004, score=0.599067081297, total=  40.7s\n",
      "[CV] alpha=0.0005 ....................................................\n",
      "[CV] ............... alpha=0.0005, score=0.607729897823, total=  30.8s\n",
      "[CV] alpha=0.0005 ....................................................\n"
     ]
    },
    {
     "name": "stderr",
     "output_type": "stream",
     "text": [
      "[Parallel(n_jobs=-1)]: Done  42 tasks      | elapsed:  8.1min\n"
     ]
    },
    {
     "name": "stdout",
     "output_type": "stream",
     "text": [
      "[CV] ............... alpha=0.0005, score=0.569524655709, total=  21.1s\n",
      "[CV] alpha=0.0005 ....................................................\n",
      "[CV] ............... alpha=0.0005, score=0.595735228787, total=  40.4s\n",
      "[CV] alpha=0.0005 ....................................................\n",
      "[CV] ............... alpha=0.0005, score=0.588627276766, total=  44.4s\n",
      "[CV] alpha=0.0005 ....................................................\n",
      "[CV] ............... alpha=0.0005, score=0.589737894269, total=  29.2s\n",
      "[CV] alpha=0.0005 ....................................................\n",
      "[CV] ............... alpha=0.0005, score=0.551310528654, total=  14.9s\n",
      "[CV] alpha=0.0006 ....................................................\n",
      "[CV] ............... alpha=0.0005, score=0.605508662817, total=  46.7s\n",
      "[CV] alpha=0.0006 ....................................................\n",
      "[CV] ............... alpha=0.0005, score=0.619280319858, total=  47.4s\n",
      "[CV] alpha=0.0006 ....................................................\n",
      "[CV] ............... alpha=0.0005, score=0.659706796979, total= 1.2min\n",
      "[CV] alpha=0.0006 ....................................................\n",
      "[CV] ............... alpha=0.0006, score=0.622167925367, total=  39.1s\n",
      "[CV] alpha=0.0006 ....................................................\n",
      "[CV] ............... alpha=0.0006, score=0.602176810307, total=  29.8s\n",
      "[CV] alpha=0.0006 ....................................................\n",
      "[CV] ............... alpha=0.0006, score=0.581297201244, total=  26.1s\n",
      "[CV] alpha=0.0006 ....................................................\n"
     ]
    },
    {
     "name": "stderr",
     "output_type": "stream",
     "text": [
      "[Parallel(n_jobs=-1)]: Done  53 tasks      | elapsed:  9.9min\n"
     ]
    },
    {
     "name": "stdout",
     "output_type": "stream",
     "text": [
      "[CV] ............... alpha=0.0006, score=0.619502443359, total=  44.7s\n",
      "[CV] alpha=0.0006 ....................................................\n",
      "[CV] ............... alpha=0.0006, score=0.590404264771, total=  28.2s\n",
      "[CV] alpha=0.0006 ....................................................\n",
      "[CV] ............... alpha=0.0006, score=0.631274988894, total= 1.2min\n",
      "[CV] alpha=0.0006 ....................................................\n",
      "[CV] ............... alpha=0.0006, score=0.634384717903, total= 1.1min\n",
      "[CV] alpha=0.0007 ....................................................\n",
      "[CV] ............... alpha=0.0006, score=0.600621945802, total=  46.3s\n",
      "[CV] alpha=0.0007 ....................................................\n",
      "[CV] ................ alpha=0.0006, score=0.63682807641, total= 1.3min\n",
      "[CV] alpha=0.0007 ....................................................\n",
      "[CV] ............... alpha=0.0006, score=0.607285650822, total= 1.0min\n",
      "[CV] alpha=0.0007 ....................................................\n",
      "[CV] ............... alpha=0.0007, score=0.616170590849, total=  48.8s\n",
      "[CV] alpha=0.0007 ....................................................\n",
      "[CV] ............... alpha=0.0007, score=0.625277654376, total= 1.0min\n",
      "[CV] alpha=0.0007 ....................................................\n",
      "[CV] ............... alpha=0.0007, score=0.592847623279, total=  42.8s\n",
      "[CV] alpha=0.0007 ....................................................\n",
      "[CV] ............... alpha=0.0007, score=0.589515770769, total=  28.8s\n",
      "[CV] alpha=0.0007 ....................................................\n"
     ]
    },
    {
     "name": "stderr",
     "output_type": "stream",
     "text": [
      "[Parallel(n_jobs=-1)]: Done  64 tasks      | elapsed: 12.3min\n"
     ]
    },
    {
     "name": "stdout",
     "output_type": "stream",
     "text": [
      "[CV] ................ alpha=0.0007, score=0.58329631275, total=  42.6s\n",
      "[CV] alpha=0.0007 ....................................................\n",
      "[CV] ............... alpha=0.0007, score=0.612394491337, total=  42.7s\n",
      "[CV] alpha=0.0007 ....................................................\n",
      "[CV] ................ alpha=0.0007, score=0.62994224789, total= 1.1min\n",
      "[CV] alpha=0.0008 ....................................................\n",
      "[CV] ............... alpha=0.0007, score=0.619280319858, total= 1.1min\n",
      "[CV] alpha=0.0008 ....................................................\n",
      "[CV] ............... alpha=0.0008, score=0.580852954243, total=  34.1s\n",
      "[CV] alpha=0.0008 ....................................................\n",
      "[CV] ............... alpha=0.0007, score=0.618613949356, total= 1.0min\n",
      "[CV] alpha=0.0008 ....................................................\n",
      "[CV] ............... alpha=0.0008, score=0.600399822301, total=  35.1s\n",
      "[CV] alpha=0.0008 ....................................................\n",
      "[CV] ............... alpha=0.0007, score=0.611505997335, total= 1.3min\n",
      "[CV] alpha=0.0008 ....................................................\n",
      "[CV] ............... alpha=0.0008, score=0.616170590849, total=  50.6s\n",
      "[CV] alpha=0.0008 ....................................................\n",
      "[CV] ................ alpha=0.0008, score=0.61994669036, total=  46.7s\n",
      "[CV] alpha=0.0008 ....................................................\n",
      "[CV] ............... alpha=0.0008, score=0.615948467348, total=  48.5s\n",
      "[CV] alpha=0.0008 ....................................................\n",
      "[CV] ............... alpha=0.0008, score=0.637050199911, total=  56.6s\n",
      "[CV] alpha=0.0008 ....................................................\n",
      "[CV] ............... alpha=0.0008, score=0.597734340293, total=  33.7s\n",
      "[CV] alpha=0.0009 ....................................................\n"
     ]
    },
    {
     "name": "stderr",
     "output_type": "stream",
     "text": [
      "[Parallel(n_jobs=-1)]: Done  77 tasks      | elapsed: 15.4min\n"
     ]
    },
    {
     "name": "stdout",
     "output_type": "stream",
     "text": [
      "[CV] ............... alpha=0.0008, score=0.652154597956, total= 1.5min\n",
      "[CV] alpha=0.0009 ....................................................\n",
      "[CV] ............... alpha=0.0008, score=0.598844957797, total= 1.0min\n",
      "[CV] alpha=0.0009 ....................................................\n",
      "[CV] ............... alpha=0.0009, score=0.639049311417, total= 1.3min\n",
      "[CV] alpha=0.0009 ....................................................\n",
      "[CV] ............... alpha=0.0009, score=0.629720124389, total= 1.0min\n",
      "[CV] alpha=0.0009 ....................................................\n",
      "[CV] ............... alpha=0.0009, score=0.642603287428, total= 1.2min\n",
      "[CV] alpha=0.0009 ....................................................\n",
      "[CV] ............... alpha=0.0008, score=0.652154597956, total= 1.7min\n",
      "[CV] alpha=0.0009 ....................................................\n",
      "[CV] ............... alpha=0.0009, score=0.545535317637, total=  26.9s\n",
      "[CV] alpha=0.0009 ....................................................\n",
      "[CV] ................ alpha=0.0009, score=0.58996001777, total=  25.2s\n",
      "[CV] alpha=0.0009 ....................................................\n",
      "[CV] ............... alpha=0.0009, score=0.602176810307, total=  43.3s\n",
      "[CV] alpha=0.0009 ....................................................\n",
      "[CV] ............... alpha=0.0009, score=0.574189249223, total=  57.9s\n",
      "[CV] ............... alpha=0.0009, score=0.604398045313, total=  33.4s\n",
      "[CV] ............... alpha=0.0009, score=0.592181252777, total=  33.3s\n",
      "[CV] ............... alpha=0.0009, score=0.605952909818, total=  39.2s\n"
     ]
    },
    {
     "name": "stderr",
     "output_type": "stream",
     "text": [
      "[Parallel(n_jobs=-1)]: Done  90 out of  90 | elapsed: 18.2min finished\n"
     ]
    },
    {
     "data": {
      "text/plain": [
       "GridSearchCV(cv=ShuffleSplit(n_splits=10, random_state=0, test_size=0.2, train_size=None),\n",
       "       error_score='raise',\n",
       "       estimator=MLPClassifier(activation='relu', alpha=0.0001, batch_size='auto', beta_1=0.9,\n",
       "       beta_2=0.999, early_stopping=False, epsilon=1e-08,\n",
       "       hidden_layer_sizes=(500,), learning_rate='constant',\n",
       "       learning_rate_init=0.001, max_iter=300, momentum=0.9,\n",
       "       nesterovs_momentum=True, power_t=0.5, random_state=None,\n",
       "       shuffle=True, solver='adam', tol=0.0001, validation_fraction=0.1,\n",
       "       verbose=False, warm_start=False),\n",
       "       fit_params=None, iid=True, n_jobs=-1,\n",
       "       param_grid={'alpha': array([ 0.0001,  0.0002,  0.0003,  0.0004,  0.0005,  0.0006,  0.0007,\n",
       "        0.0008,  0.0009])},\n",
       "       pre_dispatch='2*n_jobs', refit=True, return_train_score='warn',\n",
       "       scoring='accuracy', verbose=10)"
      ]
     },
     "execution_count": 5,
     "metadata": {},
     "output_type": "execute_result"
    }
   ],
   "source": [
    "# Code here is the algorithm tuning zone for the MLP\n",
    "# Don't run if not needed, the commented out parameters are the ones I tuned\n",
    "# These take hours to run\n",
    "\n",
    "mlp = MLPClassifier(max_iter = 300, hidden_layer_sizes = (500,), learning_rate=\"constant\", activation='relu', alpha =0.0008)\n",
    "cv = ShuffleSplit(n_splits=10, test_size=0.2, random_state=0)\n",
    "# parameters = {'activation':('identity', 'logistic', 'tanh', 'relu')}\n",
    "# parameters = {'learning_rate' :('constant', 'invscaling', 'adaptive')}\n",
    "# parameters = {'max_iter': (np.arange(100, 1100, 100))}\n",
    "# parameters = {'hidden_layer_sizes' : ((100,), (200,), (300,), (400,), (500,), (600,),(700,),(800,),(900,))}\n",
    "# parameters = {'alpha': (np.arange(0.0001, 0.001, 0.0001))}\n",
    "mlpGS = GridSearchCV(mlp, parameters, cv = cv, scoring='accuracy', verbose=10, n_jobs=-1)\n",
    "mlpGS.fit(xTrain, yTrain)"
   ]
  },
  {
   "cell_type": "code",
   "execution_count": 6,
   "metadata": {},
   "outputs": [
    {
     "name": "stdout",
     "output_type": "stream",
     "text": [
      "0.617125721901\n",
      "0.0008\n"
     ]
    }
   ],
   "source": [
    "# Printing out best estimators for each variable, I change these manually everytime\n",
    "print(mlpGS.best_score_)\n",
    "print(mlpGS.best_estimator_.alpha)"
   ]
  },
  {
   "cell_type": "code",
   "execution_count": 7,
   "metadata": {},
   "outputs": [
    {
     "name": "stderr",
     "output_type": "stream",
     "text": [
      "/Users/kristiansuhartono/python-env/lib/python2.7/site-packages/sklearn/utils/deprecation.py:122: FutureWarning: You are accessing a training score ('mean_train_score'), which will not be available by default any more in 0.21. If you need training scores, please set return_train_score=True\n",
      "  warnings.warn(*warn_args, **warn_kwargs)\n"
     ]
    },
    {
     "data": {
      "text/plain": [
       "<matplotlib.legend.Legend at 0x10710b210>"
      ]
     },
     "execution_count": 7,
     "metadata": {},
     "output_type": "execute_result"
    },
    {
     "data": {
      "image/png": "[encoded data removed]",
      "text/plain": [
       "<matplotlib.figure.Figure at 0x106a8a7d0>"
      ]
     },
     "metadata": {},
     "output_type": "display_data"
    }
   ],
   "source": [
    "# Graph drawing section, code changed everytime when i need a new graph, will be commented\n",
    "plt.figure()\n",
    "plt.title(\"MLPClassifier Alpha\")\n",
    "plt.xlabel(\"alpha\")\n",
    "plt.ylabel(\"Score\")\n",
    "\n",
    "plt.grid()\n",
    "\n",
    "plt.plot(mlpGS.param_grid['alpha'], mlpGS.cv_results_['mean_test_score'], 'o-', color=\"r\",\n",
    "         label=\"Cross Validation Score\" )\n",
    "plt.plot(mlpGS.param_grid['alpha'], mlpGS.cv_results_['mean_train_score'], 'o-', color=\"g\",\n",
    "         label=\"Training Score\")\n",
    "plt.legend(loc=\"best\")"
   ]
  },
  {
   "cell_type": "code",
   "execution_count": 6,
   "metadata": {},
   "outputs": [
    {
     "data": {
      "text/plain": [
       "<module 'matplotlib.pyplot' from '/Users/kristiansuhartono/python-env/lib/python2.7/site-packages/matplotlib/pyplot.pyc'>"
      ]
     },
     "execution_count": 6,
     "metadata": {},
     "output_type": "execute_result"
    },
    {
     "data": {
      "image/png": "[encoded data removed]",
      "text/plain": [
       "<matplotlib.figure.Figure at 0x10a99d290>"
      ]
     },
     "metadata": {},
     "output_type": "display_data"
    }
   ],
   "source": [
    "# Learning curve plotter\n",
    "mlp = MLPClassifier(max_iter = 300, hidden_layer_sizes = (500,), learning_rate=\"constant\", activation='relu', alpha =0.0008)\n",
    "cv = ShuffleSplit(n_splits=10, test_size=0.2, random_state=0)\n",
    "plot_learning_curve(mlp, \"MLP\", xTrain, yTrain, (0.44, 0.73), cv=cv, n_jobs=2)"
   ]
  },
  {
   "cell_type": "code",
   "execution_count": 123,
   "metadata": {},
   "outputs": [
    {
     "data": {
      "text/plain": [
       "<matplotlib.legend.Legend at 0x11510e2d0>"
      ]
     },
     "execution_count": 123,
     "metadata": {},
     "output_type": "execute_result"
    },
    {
     "data": {
      "image/png": "[encoded data removed]",
      "text/plain": [
       "<matplotlib.figure.Figure at 0x1155fe690>"
      ]
     },
     "metadata": {},
     "output_type": "display_data"
    }
   ],
   "source": [
    "sampleNum = []\n",
    "trainScoreArr = []\n",
    "testScoreArr = []\n",
    "index = -1\n",
    "bestScore = 0\n",
    "\n",
    "for i in range (1, 5):\n",
    "    xTrainRound = xTrain\n",
    "    yTrainRound = yTrain\n",
    "    if i < 5:\n",
    "        xTrainRound, throwaway1, yTrainRound, throwaway2 = train_test_split(xTrain, yTrain, test_size=i/5.0)\n",
    "    \n",
    "    \n",
    "    mlp = MLPClassifier(max_iter = 300, hidden_layer_sizes = (500,), learning_rate=\"constant\", activation='relu', alpha =0.0008)\n",
    "    mlp.fit(xTrainRound, yTrainRound)\n",
    "    \n",
    "    trainPredRes = mlp.predict(xTrainRound)\n",
    "    trainPredRes = pd.DataFrame(data=trainPredRes, columns=['hand'])\n",
    "    trainAcc = accuracy_score(yTrainRound, trainPredRes)\n",
    "    \n",
    "    testPredRes = mlp.predict(xVal)\n",
    "    testPredRes = pd.DataFrame(data=testPredRes, columns=['hand'])\n",
    "    testAcc = accuracy_score(yVal, testPredRes)\n",
    "    \n",
    "    if testAcc > bestScore:\n",
    "        index = i\n",
    "        bestScore = testAcc\n",
    "    trainScoreArr.append(trainAcc)\n",
    "    testScoreArr.append(testAcc)\n",
    "    sampleNum.append(22509 * i / 5.0)\n",
    "    \n",
    "\n",
    "plt.figure()\n",
    "plt.title(\"Neural Net Train Test Error\")\n",
    "plt.xlabel(\"Num of Samples\")\n",
    "plt.ylabel(\"Accuracy Score\")\n",
    "plt.ylim(*(0.5, 0.7))\n",
    "\n",
    "plt.grid()\n",
    "\n",
    "plt.plot(sampleNum, testScoreArr, 'o-', color=\"r\", label = \"Testing Score\")\n",
    "plt.plot(sampleNum, trainScoreArr, 'o-', color=\"g\", label = \"Training Score\")\n",
    "plt.legend(loc=\"best\")\n"
   ]
  },
  {
   "cell_type": "code",
   "execution_count": 26,
   "metadata": {},
   "outputs": [
    {
     "name": "stdout",
     "output_type": "stream",
     "text": [
      "0    1513\n",
      "1     979\n",
      "2       5\n",
      "3       3\n",
      "7       1\n",
      "Name: hand, dtype: int64\n",
      "             precision    recall  f1-score   support\n",
      "\n",
      "          0       0.67      0.82      0.74      1239\n",
      "          1       0.59      0.55      0.57      1037\n",
      "          2       0.40      0.01      0.03       150\n",
      "          3       0.33      0.02      0.04        52\n",
      "          4       0.00      0.00      0.00        14\n",
      "          5       0.00      0.00      0.00         3\n",
      "          6       0.00      0.00      0.00         3\n",
      "          7       1.00      0.50      0.67         2\n",
      "          9       0.00      0.00      0.00         1\n",
      "\n",
      "avg / total       0.61      0.64      0.60      2501\n",
      "\n"
     ]
    }
   ],
   "source": [
    "# Actual fitting and prediction using the tuned values\n",
    "# mlp = MLPClassifier(max_iter = 300, hidden_layer_sizes = (500,), learning_rate=\"constant\", activation='relu', alpha =0.0008)\n",
    "mlp = MLPClassifier()\n",
    "mlp.fit(xTrain, yTrain)\n",
    "mlpPred = mlp.predict(xVal)\n",
    "\n",
    "#Labelling the result\n",
    "mlpPred = pd.DataFrame(data=mlpPred, columns=['hand'])\n",
    "\n",
    "#Printing test metrics\n",
    "print mlpPred.hand.value_counts()\n",
    "print metrics.classification_report(yVal, mlpPred)"
   ]
  },
  {
   "cell_type": "code",
   "execution_count": 84,
   "metadata": {},
   "outputs": [
    {
     "name": "stdout",
     "output_type": "stream",
     "text": [
      "Fitting 10 folds for each of 10 candidates, totalling 100 fits\n",
      "[CV] learning_rate=0.1 ...............................................\n",
      "[CV] learning_rate=0.1 ...............................................\n",
      "[CV] learning_rate=0.1 ...............................................\n",
      "[CV] learning_rate=0.1 ...............................................\n",
      "[CV] .......... learning_rate=0.1, score=0.569080408707, total= 5.8min\n",
      "[CV] .......... learning_rate=0.1, score=0.574855619725, total= 5.8min\n",
      "[CV] learning_rate=0.1 ...............................................\n",
      "[CV] learning_rate=0.1 ...............................................\n",
      "[CV] ........... learning_rate=0.1, score=0.57663260773, total= 5.9min\n",
      "[CV] learning_rate=0.1 ...............................................\n",
      "[CV] .......... learning_rate=0.1, score=0.577521101733, total= 5.9min\n",
      "[CV] learning_rate=0.1 ...............................................\n",
      "[CV] .......... learning_rate=0.1, score=0.595290981786, total= 5.8min\n",
      "[CV] learning_rate=0.1 ...............................................\n"
     ]
    },
    {
     "name": "stderr",
     "output_type": "stream",
     "text": [
      "[Parallel(n_jobs=-1)]: Done   5 tasks      | elapsed: 13.2min\n"
     ]
    },
    {
     "name": "stdout",
     "output_type": "stream",
     "text": [
      "[CV] .......... learning_rate=0.1, score=0.571523767215, total= 5.8min\n",
      "[CV] learning_rate=0.1 ...............................................\n",
      "[CV] .......... learning_rate=0.1, score=0.551976899156, total= 5.9min\n",
      "[CV] learning_rate=0.2 ...............................................\n",
      "[CV] .......... learning_rate=0.1, score=0.576188360729, total= 5.9min\n",
      "[CV] learning_rate=0.2 ...............................................\n",
      "[CV] .......... learning_rate=0.1, score=0.581297201244, total= 5.9min\n",
      "[CV] learning_rate=0.2 ...............................................\n",
      "[CV] .......... learning_rate=0.2, score=0.578853842737, total= 5.9min\n",
      "[CV] learning_rate=0.2 ...............................................\n"
     ]
    },
    {
     "name": "stderr",
     "output_type": "stream",
     "text": [
      "[Parallel(n_jobs=-1)]: Done  10 tasks      | elapsed: 19.9min\n"
     ]
    },
    {
     "name": "stdout",
     "output_type": "stream",
     "text": [
      "[CV] .......... learning_rate=0.1, score=0.575077743225, total= 6.0min\n",
      "[CV] learning_rate=0.2 ...............................................\n",
      "[CV] .......... learning_rate=0.2, score=0.583074189249, total= 6.0min\n",
      "[CV] learning_rate=0.2 ...............................................\n",
      "[CV] .......... learning_rate=0.2, score=0.577743225233, total= 5.8min\n",
      "[CV] learning_rate=0.2 ...............................................\n",
      "[CV] .......... learning_rate=0.2, score=0.581963571746, total= 6.0min\n",
      "[CV] learning_rate=0.2 ...............................................\n",
      "[CV] .......... learning_rate=0.2, score=0.559751221679, total= 6.0min\n",
      "[CV] learning_rate=0.2 ...............................................\n",
      "[CV] .......... learning_rate=0.2, score=0.592847623279, total= 5.9min\n",
      "[CV] learning_rate=0.2 ...............................................\n",
      "[CV] .......... learning_rate=0.2, score=0.579742336739, total= 5.9min\n",
      "[CV] learning_rate=0.3 ...............................................\n"
     ]
    },
    {
     "name": "stderr",
     "output_type": "stream",
     "text": [
      "[Parallel(n_jobs=-1)]: Done  17 tasks      | elapsed: 33.0min\n"
     ]
    },
    {
     "name": "stdout",
     "output_type": "stream",
     "text": [
      "[CV] .......... learning_rate=0.2, score=0.581519324745, total= 5.8min\n",
      "[CV] learning_rate=0.3 ...............................................\n",
      "[CV] .......... learning_rate=0.2, score=0.575744113727, total= 6.0min\n",
      "[CV] learning_rate=0.3 ...............................................\n",
      "[CV] ........... learning_rate=0.2, score=0.58662816526, total= 5.9min\n",
      "[CV] learning_rate=0.3 ...............................................\n",
      "[CV] .......... learning_rate=0.3, score=0.572190137717, total= 5.5min\n",
      "[CV] learning_rate=0.3 ...............................................\n",
      "[CV] .......... learning_rate=0.3, score=0.582852065749, total= 5.6min\n",
      "[CV] learning_rate=0.3 ...............................................\n",
      "[CV] .......... learning_rate=0.3, score=0.579075966237, total= 5.6min\n",
      "[CV] learning_rate=0.3 ...............................................\n",
      "[CV] .......... learning_rate=0.3, score=0.589071523767, total= 5.7min\n",
      "[CV] learning_rate=0.3 ...............................................\n"
     ]
    },
    {
     "name": "stderr",
     "output_type": "stream",
     "text": [
      "[Parallel(n_jobs=-1)]: Done  24 tasks      | elapsed: 39.5min\n"
     ]
    },
    {
     "name": "stdout",
     "output_type": "stream",
     "text": [
      "[CV] .......... learning_rate=0.3, score=0.581075077743, total= 5.6min\n",
      "[CV] learning_rate=0.3 ...............................................\n",
      "[CV] .......... learning_rate=0.3, score=0.599067081297, total= 5.5min\n",
      "[CV] learning_rate=0.3 ...............................................\n",
      "[CV] .......... learning_rate=0.3, score=0.595068858285, total= 5.5min\n",
      "[CV] learning_rate=0.4 ...............................................\n",
      "[CV] .......... learning_rate=0.3, score=0.576188360729, total= 5.6min\n",
      "[CV] learning_rate=0.4 ...............................................\n",
      "[CV] .......... learning_rate=0.3, score=0.584851177255, total= 5.5min\n",
      "[CV] learning_rate=0.4 ...............................................\n",
      "[CV] .......... learning_rate=0.3, score=0.587960906264, total= 5.4min\n",
      "[CV] learning_rate=0.4 ...............................................\n",
      "[CV] ........... learning_rate=0.4, score=0.57330075522, total= 5.4min\n",
      "[CV] learning_rate=0.4 ...............................................\n",
      "[CV] .......... learning_rate=0.4, score=0.589293647268, total= 5.5min\n",
      "[CV] learning_rate=0.4 ...............................................\n",
      "[CV] .......... learning_rate=0.4, score=0.579742336739, total= 5.5min\n",
      "[CV] learning_rate=0.4 ...............................................\n"
     ]
    },
    {
     "name": "stderr",
     "output_type": "stream",
     "text": [
      "[Parallel(n_jobs=-1)]: Done  33 tasks      | elapsed: 57.8min\n"
     ]
    },
    {
     "name": "stdout",
     "output_type": "stream",
     "text": [
      "[CV] .......... learning_rate=0.4, score=0.568414038205, total= 5.4min\n",
      "[CV] learning_rate=0.4 ...............................................\n",
      "[CV] .......... learning_rate=0.4, score=0.577076854731, total= 5.5min\n",
      "[CV] learning_rate=0.4 ...............................................\n",
      "[CV] .......... learning_rate=0.4, score=0.590182141271, total= 5.4min\n",
      "[CV] learning_rate=0.4 ...............................................\n",
      "[CV] .......... learning_rate=0.4, score=0.586183918259, total= 5.4min\n",
      "[CV] learning_rate=0.5 ...............................................\n",
      "[CV] .......... learning_rate=0.4, score=0.573967125722, total= 5.5min\n",
      "[CV] learning_rate=0.5 ...............................................\n",
      "[CV] .......... learning_rate=0.4, score=0.585295424256, total= 5.4min\n",
      "[CV] learning_rate=0.5 ...............................................\n",
      "[CV] ........... learning_rate=0.4, score=0.58662816526, total= 5.3min\n",
      "[CV] learning_rate=0.5 ...............................................\n",
      "[CV] .......... learning_rate=0.5, score=0.576854731231, total= 5.3min\n",
      "[CV] learning_rate=0.5 ...............................................\n",
      "[CV] .......... learning_rate=0.5, score=0.589293647268, total= 5.3min\n",
      "[CV] learning_rate=0.5 ...............................................\n"
     ]
    },
    {
     "name": "stderr",
     "output_type": "stream",
     "text": [
      "[Parallel(n_jobs=-1)]: Done  42 tasks      | elapsed: 69.9min\n"
     ]
    },
    {
     "name": "stdout",
     "output_type": "stream",
     "text": [
      "[CV] .......... learning_rate=0.5, score=0.570191026211, total= 5.3min\n",
      "[CV] learning_rate=0.5 ...............................................\n",
      "[CV] .......... learning_rate=0.5, score=0.584406930253, total= 5.4min\n",
      "[CV] learning_rate=0.5 ...............................................\n",
      "[CV] .......... learning_rate=0.5, score=0.575744113727, total= 5.4min\n",
      "[CV] learning_rate=0.5 ...............................................\n",
      "[CV] .......... learning_rate=0.5, score=0.591514882275, total= 5.3min\n",
      "[CV] learning_rate=0.5 ...............................................\n",
      "[CV] ........... learning_rate=0.5, score=0.59329187028, total= 5.4min\n",
      "[CV] learning_rate=0.6 ...............................................\n",
      "[CV] .......... learning_rate=0.5, score=0.575521990227, total= 5.4min\n",
      "[CV] learning_rate=0.6 ...............................................\n",
      "[CV] .......... learning_rate=0.5, score=0.575744113727, total= 5.3min\n",
      "[CV] learning_rate=0.6 ...............................................\n",
      "[CV] .......... learning_rate=0.5, score=0.589515770769, total= 5.3min\n",
      "[CV] learning_rate=0.6 ...............................................\n",
      "[CV] .......... learning_rate=0.6, score=0.578853842737, total= 5.2min\n",
      "[CV] learning_rate=0.6 ...............................................\n",
      "[CV] .......... learning_rate=0.6, score=0.588849400267, total= 5.3min\n",
      "[CV] learning_rate=0.6 ...............................................\n",
      "[CV] .......... learning_rate=0.6, score=0.574189249223, total= 5.1min\n",
      "[CV] learning_rate=0.6 ...............................................\n"
     ]
    },
    {
     "name": "stderr",
     "output_type": "stream",
     "text": [
      "[Parallel(n_jobs=-1)]: Done  53 tasks      | elapsed: 87.6min\n"
     ]
    },
    {
     "name": "stdout",
     "output_type": "stream",
     "text": [
      "[CV] .......... learning_rate=0.6, score=0.586850288761, total= 5.2min\n",
      "[CV] learning_rate=0.6 ...............................................\n",
      "[CV] .......... learning_rate=0.6, score=0.580852954243, total= 5.2min\n",
      "[CV] learning_rate=0.6 ...............................................\n",
      "[CV] .......... learning_rate=0.6, score=0.591070635273, total= 5.1min\n",
      "[CV] learning_rate=0.6 ...............................................\n",
      "[CV] ........... learning_rate=0.6, score=0.58662816526, total= 5.4min\n",
      "[CV] learning_rate=0.7 ...............................................\n",
      "[CV] .......... learning_rate=0.6, score=0.584184806753, total= 5.4min\n",
      "[CV] learning_rate=0.7 ...............................................\n",
      "[CV] .......... learning_rate=0.6, score=0.586183918259, total= 5.3min\n",
      "[CV] learning_rate=0.7 ...............................................\n",
      "[CV] .......... learning_rate=0.6, score=0.587960906264, total= 5.3min\n",
      "[CV] learning_rate=0.7 ...............................................\n",
      "[CV] .......... learning_rate=0.7, score=0.577298978232, total= 5.2min\n",
      "[CV] learning_rate=0.7 ...............................................\n",
      "[CV] .......... learning_rate=0.7, score=0.591959129276, total= 5.2min\n",
      "[CV] learning_rate=0.7 ...............................................\n",
      "[CV] .......... learning_rate=0.7, score=0.593958240782, total= 5.3min\n",
      "[CV] learning_rate=0.7 ...............................................\n",
      "[CV] .......... learning_rate=0.7, score=0.575521990227, total= 5.2min\n",
      "[CV] learning_rate=0.7 ...............................................\n"
     ]
    },
    {
     "name": "stderr",
     "output_type": "stream",
     "text": [
      "[Parallel(n_jobs=-1)]: Done  64 tasks      | elapsed: 99.9min\n"
     ]
    },
    {
     "name": "stdout",
     "output_type": "stream",
     "text": [
      "[CV] .......... learning_rate=0.7, score=0.577743225233, total= 5.5min\n",
      "[CV] learning_rate=0.7 ...............................................\n",
      "[CV] .......... learning_rate=0.7, score=0.588849400267, total= 5.4min\n",
      "[CV] learning_rate=0.7 ...............................................\n",
      "[CV] .......... learning_rate=0.7, score=0.589737894269, total= 5.5min\n",
      "[CV] learning_rate=0.8 ...............................................\n",
      "[CV] .......... learning_rate=0.7, score=0.584629053754, total= 5.5min\n",
      "[CV] learning_rate=0.8 ...............................................\n",
      "[CV] .......... learning_rate=0.7, score=0.583074189249, total= 5.6min\n",
      "[CV] learning_rate=0.8 ...............................................\n",
      "[CV] .......... learning_rate=0.7, score=0.592625499778, total= 5.7min\n",
      "[CV] learning_rate=0.8 ...............................................\n",
      "[CV] .......... learning_rate=0.8, score=0.565082185695, total= 5.6min\n",
      "[CV] learning_rate=0.8 ...............................................\n",
      "[CV] .......... learning_rate=0.8, score=0.592847623279, total= 5.7min\n",
      "[CV] learning_rate=0.8 ...............................................\n",
      "[CV] .......... learning_rate=0.8, score=0.564637938694, total= 5.7min\n",
      "[CV] learning_rate=0.8 ...............................................\n",
      "[CV] .......... learning_rate=0.8, score=0.581741448245, total= 5.7min\n",
      "[CV] learning_rate=0.8 ...............................................\n",
      "[CV] .......... learning_rate=0.8, score=0.577743225233, total= 5.8min\n",
      "[CV] learning_rate=0.8 ...............................................\n",
      "[CV] .......... learning_rate=0.8, score=0.590626388272, total= 5.8min\n",
      "[CV] learning_rate=0.8 ...............................................\n",
      "[CV] .......... learning_rate=0.8, score=0.578631719236, total= 5.7min\n",
      "[CV] learning_rate=0.9 ...............................................\n"
     ]
    },
    {
     "name": "stderr",
     "output_type": "stream",
     "text": [
      "[Parallel(n_jobs=-1)]: Done  77 tasks      | elapsed: 124.7min\n"
     ]
    },
    {
     "name": "stdout",
     "output_type": "stream",
     "text": [
      "[CV] .......... learning_rate=0.8, score=0.577965348734, total= 5.7min\n",
      "[CV] learning_rate=0.9 ...............................................\n",
      "[CV] .......... learning_rate=0.8, score=0.587738782763, total= 5.7min\n",
      "[CV] learning_rate=0.9 ...............................................\n",
      "[CV] .......... learning_rate=0.8, score=0.582629942248, total= 5.6min\n",
      "[CV] learning_rate=0.9 ...............................................\n",
      "[CV] .......... learning_rate=0.9, score=0.573078631719, total= 4.8min\n",
      "[CV] learning_rate=0.9 ...............................................\n",
      "[CV] .......... learning_rate=0.9, score=0.599733451799, total= 4.9min\n",
      "[CV] learning_rate=0.9 ...............................................\n",
      "[CV] .......... learning_rate=0.9, score=0.585739671257, total= 4.9min\n",
      "[CV] learning_rate=0.9 ...............................................\n",
      "[CV] .......... learning_rate=0.9, score=0.571301643714, total= 4.9min\n",
      "[CV] learning_rate=0.9 ...............................................\n",
      "[CV] .......... learning_rate=0.9, score=0.582629942248, total= 4.8min\n",
      "[CV] learning_rate=0.9 ...............................................\n",
      "[CV] .......... learning_rate=0.9, score=0.587738782763, total= 4.8min\n",
      "[CV] learning_rate=0.9 ...............................................\n",
      "[CV] .......... learning_rate=0.9, score=0.585739671257, total= 4.8min\n",
      "[CV] learning_rate=1.0 ...............................................\n",
      "[CV] .......... learning_rate=0.9, score=0.581519324745, total= 4.8min\n",
      "[CV] learning_rate=1.0 ...............................................\n",
      "[CV] .......... learning_rate=0.9, score=0.591737005775, total= 4.5min\n",
      "[CV] learning_rate=1.0 ...............................................\n",
      "[CV] .......... learning_rate=0.9, score=0.583518436251, total= 4.6min\n",
      "[CV] learning_rate=1.0 ...............................................\n"
     ]
    },
    {
     "name": "stderr",
     "output_type": "stream",
     "text": [
      "[Parallel(n_jobs=-1)]: Done  90 tasks      | elapsed: 140.9min\n"
     ]
    },
    {
     "name": "stdout",
     "output_type": "stream",
     "text": [
      "[CV] .......... learning_rate=1.0, score=0.569746779209, total= 4.5min\n",
      "[CV] learning_rate=1.0 ...............................................\n",
      "[CV] .......... learning_rate=1.0, score=0.592181252777, total= 4.6min\n",
      "[CV] learning_rate=1.0 ...............................................\n",
      "[CV] .......... learning_rate=1.0, score=0.585295424256, total= 4.5min\n",
      "[CV] learning_rate=1.0 ...............................................\n",
      "[CV] .......... learning_rate=1.0, score=0.570413149711, total= 4.5min\n",
      "[CV] learning_rate=1.0 ...............................................\n",
      "[CV] .......... learning_rate=1.0, score=0.578409595735, total= 4.5min\n",
      "[CV] learning_rate=1.0 ...............................................\n",
      "[CV] .......... learning_rate=1.0, score=0.591070635273, total= 4.6min\n",
      "[CV] learning_rate=1.0 ...............................................\n",
      "[CV] .......... learning_rate=1.0, score=0.585961794758, total= 5.4min\n",
      "[CV] .......... learning_rate=1.0, score=0.573967125722, total= 5.5min\n",
      "[CV] .......... learning_rate=1.0, score=0.584406930253, total= 5.5min\n",
      "[CV] .......... learning_rate=1.0, score=0.584629053754, total= 5.5min\n"
     ]
    },
    {
     "name": "stderr",
     "output_type": "stream",
     "text": [
      "[Parallel(n_jobs=-1)]: Done 100 out of 100 | elapsed: 152.4min finished\n"
     ]
    },
    {
     "data": {
      "text/plain": [
       "GridSearchCV(cv=ShuffleSplit(n_splits=10, random_state=0, test_size=0.2, train_size=None),\n",
       "       error_score='raise',\n",
       "       estimator=AdaBoostClassifier(algorithm='SAMME.R',\n",
       "          base_estimator=DecisionTreeClassifier(class_weight=None, criterion='gini', max_depth=None,\n",
       "            max_features=None, max_leaf_nodes=None,\n",
       "            min_impurity_decrease=0.0, min_impurity_split=None,\n",
       "            min_samples_leaf=1, min_samples_split=120,\n",
       "            min_weight_fraction_leaf=0.0, presort=False, random_state=None,\n",
       "            splitter='best'),\n",
       "          learning_rate=1.0, n_estimators=3900, random_state=None),\n",
       "       fit_params=None, iid=True, n_jobs=-1,\n",
       "       param_grid={'learning_rate': array([ 0.1,  0.2,  0.3,  0.4,  0.5,  0.6,  0.7,  0.8,  0.9,  1. ])},\n",
       "       pre_dispatch='2*n_jobs', refit=True, return_train_score='warn',\n",
       "       scoring='accuracy', verbose=10)"
      ]
     },
     "execution_count": 84,
     "metadata": {},
     "output_type": "execute_result"
    }
   ],
   "source": [
    "# Code here is the algorithm tuning zone for the MLP\n",
    "# Don't run if not needed, the commented out parameters are the ones I tuned\n",
    "# These take hours to run\n",
    "dt = DecisionTreeClassifier(splitter='best', min_samples_split = 120, min_samples_leaf = 1)\n",
    "dt.fit(xTrain, yTrain)\n",
    "prune(dt, 380)\n",
    "ada = AdaBoostClassifier(base_estimator = dt, n_estimators = 3900, learning_rate = 0.7)\n",
    "cv = ShuffleSplit(n_splits=10, test_size=0.2, random_state=0)\n",
    "# parameters = {'n_estimators':(np.arange(100, 4100, 100))}\n",
    "# parameters = {'learning_rate': np.arange(0.1, 1.1, 0.1)}\n",
    "adaGS = GridSearchCV(ada, parameters, cv = cv, scoring='accuracy', verbose=10, n_jobs=-1)\n",
    "adaGS.fit(xTrain, yTrain)"
   ]
  },
  {
   "cell_type": "code",
   "execution_count": 86,
   "metadata": {},
   "outputs": [
    {
     "data": {
      "text/plain": [
       "<matplotlib.legend.Legend at 0x11535b290>"
      ]
     },
     "execution_count": 86,
     "metadata": {},
     "output_type": "execute_result"
    },
    {
     "data": {
      "image/png": "[encoded data removed]",
      "text/plain": [
       "<matplotlib.figure.Figure at 0x115278650>"
      ]
     },
     "metadata": {},
     "output_type": "display_data"
    }
   ],
   "source": [
    "# Graph drawing section, code changed everytime when i need a new graph, will be commented\n",
    "plt.figure()\n",
    "plt.title(\"AdaBoosted D-Tree learning rate\")\n",
    "plt.xlabel(\"learning rate\")\n",
    "plt.ylabel(\"Score\")\n",
    "\n",
    "plt.grid()\n",
    "\n",
    "plt.plot(adaGS.param_grid['learning_rate'], adaGS.cv_results_['mean_test_score'], 'o-', color=\"r\",\n",
    "         label=\"Cross Validation Score\" )\n",
    "plt.plot(adaGS.param_grid['learning_rate'], adaGS.cv_results_['mean_train_score'], 'o-', color=\"g\",\n",
    "         label=\"Training Score\")\n",
    "plt.legend(loc=\"best\")"
   ]
  },
  {
   "cell_type": "code",
   "execution_count": 87,
   "metadata": {},
   "outputs": [
    {
     "name": "stdout",
     "output_type": "stream",
     "text": [
      "0.585539760107\n",
      "0.7\n",
      "[ 0.57494447  0.57978676  0.58474012  0.58100844  0.58220791  0.58456242\n",
      "  0.58553976  0.57996446  0.58427366  0.58160817]\n",
      "[ 0.72102516  0.7355695   0.74682623  0.75317377  0.75836064  0.76437497\n",
      "  0.76928417  0.77542067  0.78275671  0.78713278]\n"
     ]
    }
   ],
   "source": [
    "print(adaGS.best_score_)\n",
    "print(adaGS.best_estimator_.learning_rate)\n",
    "print adaGS.cv_results_['mean_test_score']\n",
    "print adaGS.cv_results_['mean_train_score']"
   ]
  },
  {
   "cell_type": "code",
   "execution_count": 92,
   "metadata": {},
   "outputs": [
    {
     "data": {
      "text/plain": [
       "AdaBoostClassifier(algorithm='SAMME.R',\n",
       "          base_estimator=DecisionTreeClassifier(class_weight=None, criterion='gini', max_depth=None,\n",
       "            max_features=None, max_leaf_nodes=None,\n",
       "            min_impurity_decrease=0.0, min_impurity_split=None,\n",
       "            min_samples_leaf=380, min_samples_split=120,\n",
       "            min_weight_fraction_leaf=0.0, presort=False, random_state=None,\n",
       "            splitter='best'),\n",
       "          learning_rate=0.7, n_estimators=3900, random_state=None)"
      ]
     },
     "execution_count": 92,
     "metadata": {},
     "output_type": "execute_result"
    }
   ],
   "source": [
    "dt = DecisionTreeClassifier(splitter='best', min_samples_split = 120, min_samples_leaf = 1)\n",
    "dt.fit(xTrain, yTrain)\n",
    "prune(dt, 380)\n",
    "ada = AdaBoostClassifier(base_estimator = dt, n_estimators = 3900, learning_rate = 0.7)\n",
    "ada.fit(xTrain, yTrain)"
   ]
  },
  {
   "cell_type": "code",
   "execution_count": 93,
   "metadata": {},
   "outputs": [
    {
     "name": "stdout",
     "output_type": "stream",
     "text": [
      "0    1233\n",
      "1    1003\n",
      "2     243\n",
      "3      22\n",
      "Name: hand, dtype: int64\n",
      "             precision    recall  f1-score   support\n",
      "\n",
      "          0       0.56      0.56      0.56      1252\n",
      "          1       0.46      0.43      0.45      1075\n",
      "          2       0.07      0.16      0.10       104\n",
      "          3       0.00      0.00      0.00        49\n",
      "          4       0.00      0.00      0.00         8\n",
      "          5       0.00      0.00      0.00         3\n",
      "          6       0.00      0.00      0.00         6\n",
      "          7       0.00      0.00      0.00         2\n",
      "          8       0.00      0.00      0.00         1\n",
      "          9       0.00      0.00      0.00         1\n",
      "\n",
      "avg / total       0.48      0.47      0.48      2501\n",
      "\n"
     ]
    }
   ],
   "source": [
    "adaPred= ada.predict(xVal)\n",
    "\n",
    "#Labelling the result\n",
    "adaPred = pd.DataFrame(data=adaPred, columns=['hand'])\n",
    "\n",
    "#Printing test metrics\n",
    "print adaPred.hand.value_counts()\n",
    "print metrics.classification_report(yVal, adaPred)"
   ]
  },
  {
   "cell_type": "code",
   "execution_count": 94,
   "metadata": {},
   "outputs": [
    {
     "data": {
      "text/plain": [
       "AdaBoostClassifier(algorithm='SAMME.R', base_estimator=None,\n",
       "          learning_rate=1.0, n_estimators=50, random_state=None)"
      ]
     },
     "execution_count": 94,
     "metadata": {},
     "output_type": "execute_result"
    }
   ],
   "source": [
    "dt = DecisionTreeClassifier(splitter='best', min_samples_split = 120, min_samples_leaf = 1)\n",
    "dt.fit(xTrain, yTrain)\n",
    "prune(dt, 380)\n",
    "ada = AdaBoostClassifier()\n",
    "ada.fit(xTrain, yTrain)"
   ]
  },
  {
   "cell_type": "code",
   "execution_count": 95,
   "metadata": {},
   "outputs": [
    {
     "name": "stdout",
     "output_type": "stream",
     "text": [
      "0    2297\n",
      "1     108\n",
      "8      96\n",
      "Name: hand, dtype: int64\n",
      "             precision    recall  f1-score   support\n",
      "\n",
      "          0       0.50      0.91      0.65      1252\n",
      "          1       0.45      0.05      0.08      1075\n",
      "          2       0.00      0.00      0.00       104\n",
      "          3       0.00      0.00      0.00        49\n",
      "          4       0.00      0.00      0.00         8\n",
      "          5       0.00      0.00      0.00         3\n",
      "          6       0.00      0.00      0.00         6\n",
      "          7       0.00      0.00      0.00         2\n",
      "          8       0.00      0.00      0.00         1\n",
      "          9       0.00      0.00      0.00         1\n",
      "\n",
      "avg / total       0.44      0.48      0.36      2501\n",
      "\n"
     ]
    }
   ],
   "source": [
    "adaPred= ada.predict(xVal)\n",
    "\n",
    "#Labelling the result\n",
    "adaPred = pd.DataFrame(data=adaPred, columns=['hand'])\n",
    "\n",
    "#Printing test metrics\n",
    "print adaPred.hand.value_counts()\n",
    "print metrics.classification_report(yVal, adaPred)"
   ]
  },
  {
   "cell_type": "code",
   "execution_count": 100,
   "metadata": {},
   "outputs": [
    {
     "name": "stderr",
     "output_type": "stream",
     "text": [
      "/Users/kristiansuhartono/python-env/lib/python2.7/site-packages/sklearn/model_selection/_split.py:605: Warning: The least populated class in y has only 1 members, which is too few. The minimum number of members in any class cannot be less than n_splits=3.\n",
      "  % (min_groups, self.n_splits)), Warning)\n"
     ]
    },
    {
     "data": {
      "text/plain": [
       "<matplotlib.legend.Legend at 0x113ade3d0>"
      ]
     },
     "execution_count": 100,
     "metadata": {},
     "output_type": "execute_result"
    },
    {
     "data": {
      "image/png": "[encoded data removed]",
      "text/plain": [
       "<matplotlib.figure.Figure at 0x114c97b50>"
      ]
     },
     "metadata": {},
     "output_type": "display_data"
    }
   ],
   "source": [
    "dt = DecisionTreeClassifier(splitter='best', min_samples_split = 120, min_samples_leaf = 1)\n",
    "dt.fit(xTrain, yTrain)\n",
    "prune(dt, 380)\n",
    "ada = AdaBoostClassifier(base_estimator = dt, n_estimators = 3900, learning_rate = 0.7)\n",
    "\n",
    "plt.figure()\n",
    "plt.title(\"Adaboost Classifier Train Test Error\")\n",
    "plt.xlabel(\"Training examples\")\n",
    "plt.ylabel(\"Score\")\n",
    "train_sizes, train_scores, test_scores = learning_curve(\n",
    "    ada, xVal, yVal, n_jobs=-1, train_sizes=np.linspace(.1, 1.0, 5))\n",
    "train_scores_mean = np.mean(train_scores, axis=1)\n",
    "train_scores_std = np.std(train_scores, axis=1)\n",
    "test_scores_mean = np.mean(test_scores, axis=1)\n",
    "test_scores_std = np.std(test_scores, axis=1)\n",
    "plt.grid()\n",
    "\n",
    "plt.fill_between(train_sizes, train_scores_mean - train_scores_std,\n",
    "                 train_scores_mean + train_scores_std, alpha=0.1,\n",
    "                 color=\"r\")\n",
    "plt.fill_between(train_sizes, test_scores_mean - test_scores_std,\n",
    "                 test_scores_mean + test_scores_std, alpha=0.1, color=\"g\")\n",
    "plt.plot(train_sizes, train_scores_mean, 'o-', color=\"r\",\n",
    "         label=\"Training score\")\n",
    "plt.plot(train_sizes, test_scores_mean, 'o-', color=\"g\",\n",
    "         label=\"Test Score score\")\n",
    "\n",
    "plt.legend(loc=\"best\")"
   ]
  },
  {
   "cell_type": "code",
   "execution_count": 122,
   "metadata": {},
   "outputs": [
    {
     "data": {
      "text/plain": [
       "<matplotlib.legend.Legend at 0x1159d9b50>"
      ]
     },
     "execution_count": 122,
     "metadata": {},
     "output_type": "execute_result"
    },
    {
     "data": {
      "image/png": "[encoded data removed]",
      "text/plain": [
       "<matplotlib.figure.Figure at 0x113768250>"
      ]
     },
     "metadata": {},
     "output_type": "display_data"
    }
   ],
   "source": [
    "sampleNum = []\n",
    "trainScoreArr = []\n",
    "testScoreArr = []\n",
    "index = -1\n",
    "bestScore = 0\n",
    "\n",
    "for i in range (1, 5):\n",
    "    xTrainRound = xTrain\n",
    "    yTrainRound = yTrain\n",
    "    if i < 5:\n",
    "        xTrainRound, throwaway1, yTrainRound, throwaway2 = train_test_split(xTrain, yTrain, test_size=i/5.0)\n",
    "    \n",
    "    dt = DecisionTreeClassifier(splitter='best', min_samples_split = 120, min_samples_leaf = 1)\n",
    "    dt.fit(xTrainRound, yTrainRound)\n",
    "    prune(dt, 380)\n",
    "    ada = AdaBoostClassifier(base_estimator = dt, n_estimators = 3900, learning_rate = 0.7)\n",
    "    ada.fit(xTrainRound, yTrainRound)\n",
    "    \n",
    "    trainPredRes = ada.predict(xTrainRound)\n",
    "    trainPredRes = pd.DataFrame(data=trainPredRes, columns=['hand'])\n",
    "    trainAcc = accuracy_score(yTrainRound, trainPredRes)\n",
    "    \n",
    "    testPredRes = ada.predict(xVal)\n",
    "    testPredRes = pd.DataFrame(data=testPredRes, columns=['hand'])\n",
    "    testAcc = accuracy_score(yVal, testPredRes)\n",
    "    \n",
    "    if testAcc > bestScore:\n",
    "        index = i\n",
    "        bestScore = testAcc\n",
    "    trainScoreArr.append(trainAcc)\n",
    "    testScoreArr.append(testAcc)\n",
    "    sampleNum.append(22509 * i / 5.0)\n",
    "    \n",
    "\n",
    "plt.figure()\n",
    "plt.title(\"Adaboosted DTree Train Test Error\")\n",
    "plt.xlabel(\"Num of Samples\")\n",
    "plt.ylabel(\"Accuracy Score\")\n",
    "# plt.ylim(*(0.55, 1.02))\n",
    "\n",
    "plt.grid()\n",
    "\n",
    "plt.plot(sampleNum, testScoreArr, 'o-', color=\"r\", label = \"Testing Score\")\n",
    "plt.plot(sampleNum, trainScoreArr, 'o-', color=\"g\", label = \"Training Score\")\n",
    "plt.legend(loc=\"best\")\n"
   ]
  },
  {
   "cell_type": "code",
   "execution_count": 14,
   "metadata": {},
   "outputs": [
    {
     "name": "stdout",
     "output_type": "stream",
     "text": [
      "Fitting 5 folds for each of 5 candidates, totalling 25 fits\n",
      "[CV] C=0.2 ...........................................................\n",
      "[CV] C=0.2 ...........................................................\n",
      "[CV] C=0.2 ...........................................................\n",
      "[CV] C=0.2 ...........................................................\n",
      "[CV] ...................... C=0.2, score=0.499555752999, total=  26.7s\n",
      "[CV] C=0.2 ...........................................................\n",
      "[CV] ...................... C=0.2, score=0.496223900489, total=  26.6s\n",
      "[CV] C=0.4 ...........................................................\n",
      "[CV] ...................... C=0.2, score=0.498667258996, total=  26.8s\n",
      "[CV] C=0.4 ...........................................................\n",
      "[CV] ...................... C=0.2, score=0.501999111506, total=  26.8s\n",
      "[CV] C=0.4 ...........................................................\n",
      "[CV] ...................... C=0.2, score=0.503776099511, total=  25.0s\n",
      "[CV] C=0.4 ...........................................................\n"
     ]
    },
    {
     "name": "stderr",
     "output_type": "stream",
     "text": [
      "[Parallel(n_jobs=-1)]: Done   5 tasks      | elapsed:  1.3min\n"
     ]
    },
    {
     "name": "stdout",
     "output_type": "stream",
     "text": [
      "[CV] ...................... C=0.4, score=0.498667258996, total=  33.6s\n",
      "[CV] C=0.4 ...........................................................\n",
      "[CV] ...................... C=0.4, score=0.499555752999, total=  34.1s\n",
      "[CV] C=0.6 ...........................................................\n",
      "[CV] ...................... C=0.4, score=0.496223900489, total=  33.9s\n",
      "[CV] C=0.6 ...........................................................\n",
      "[CV] ...................... C=0.4, score=0.501999111506, total=  35.2s\n",
      "[CV] C=0.6 ...........................................................\n",
      "[CV] ...................... C=0.4, score=0.503776099511, total=  33.7s\n",
      "[CV] C=0.6 ...........................................................\n"
     ]
    },
    {
     "name": "stderr",
     "output_type": "stream",
     "text": [
      "[Parallel(n_jobs=-1)]: Done  10 tasks      | elapsed:  2.2min\n"
     ]
    },
    {
     "name": "stdout",
     "output_type": "stream",
     "text": [
      "[CV] ...................... C=0.6, score=0.499555752999, total=  41.4s\n",
      "[CV] C=0.6 ...........................................................\n",
      "[CV] ...................... C=0.6, score=0.498667258996, total=  41.4s\n",
      "[CV] C=0.8 ...........................................................\n",
      "[CV] ...................... C=0.6, score=0.496223900489, total=  43.2s\n",
      "[CV] C=0.8 ...........................................................\n",
      "[CV] ...................... C=0.6, score=0.501999111506, total=  41.5s\n",
      "[CV] C=0.8 ...........................................................\n",
      "[CV] ...................... C=0.6, score=0.503776099511, total=  41.9s\n",
      "[CV] C=0.8 ...........................................................\n",
      "[CV] ...................... C=0.8, score=0.499555752999, total=  47.6s\n",
      "[CV] C=0.8 ...........................................................\n",
      "[CV] ...................... C=0.8, score=0.498667258996, total=  48.5s\n",
      "[CV] C=1.0 ...........................................................\n"
     ]
    },
    {
     "name": "stderr",
     "output_type": "stream",
     "text": [
      "[Parallel(n_jobs=-1)]: Done  17 tasks      | elapsed:  3.9min\n"
     ]
    },
    {
     "name": "stdout",
     "output_type": "stream",
     "text": [
      "[CV] ...................... C=0.8, score=0.496223900489, total=  48.5s\n",
      "[CV] C=1.0 ...........................................................\n",
      "[CV] ...................... C=0.8, score=0.501999111506, total=  48.1s\n",
      "[CV] C=1.0 ...........................................................\n",
      "[CV] ...................... C=0.8, score=0.503776099511, total=  49.4s\n",
      "[CV] C=1.0 ...........................................................\n",
      "[CV] ...................... C=1.0, score=0.499555752999, total=  55.3s\n",
      "[CV] C=1.0 ...........................................................\n"
     ]
    },
    {
     "name": "stderr",
     "output_type": "stream",
     "text": [
      "[Parallel(n_jobs=-1)]: Done  21 out of  25 | elapsed:  5.2min remaining:   59.0s\n"
     ]
    },
    {
     "name": "stdout",
     "output_type": "stream",
     "text": [
      "[CV] ...................... C=1.0, score=0.498667258996, total=  58.8s\n",
      "[CV] ...................... C=1.0, score=0.496223900489, total= 1.0min\n",
      "[CV] ...................... C=1.0, score=0.501999111506, total= 1.1min\n",
      "[CV] ...................... C=1.0, score=0.503776099511, total=  44.7s\n"
     ]
    },
    {
     "name": "stderr",
     "output_type": "stream",
     "text": [
      "[Parallel(n_jobs=-1)]: Done  25 out of  25 | elapsed:  6.0min finished\n"
     ]
    },
    {
     "data": {
      "text/plain": [
       "GridSearchCV(cv=ShuffleSplit(n_splits=5, random_state=0, test_size=0.2, train_size=None),\n",
       "       error_score='raise',\n",
       "       estimator=SVC(C=1.0, cache_size=200, class_weight=None, coef0=0.0,\n",
       "  decision_function_shape='ovr', degree=3, gamma='auto', kernel='linear',\n",
       "  max_iter=-1, probability=False, random_state=None, shrinking=True,\n",
       "  tol=0.001, verbose=False),\n",
       "       fit_params=None, iid=True, n_jobs=-1,\n",
       "       param_grid={'C': array([ 0.2,  0.4,  0.6,  0.8,  1. ])},\n",
       "       pre_dispatch='2*n_jobs', refit=True, return_train_score='warn',\n",
       "       scoring='accuracy', verbose=10)"
      ]
     },
     "execution_count": 14,
     "metadata": {},
     "output_type": "execute_result"
    }
   ],
   "source": [
    "# SVM section\n",
    "svc = SVC(kernel= 'linear', C = 0.2)\n",
    "cv = ShuffleSplit(n_splits=5, test_size=0.2, random_state=0)\n",
    "# parameters = {'kernel':('linear', 'poly', 'rbf', 'sigmod', 'precomputed')}\n",
    "parameters = {'C':(np.arange(0.2, 1.2, 0.2))}\n",
    "svcGS = GridSearchCV(svc, parameters, cv = cv, scoring='accuracy', verbose=10, n_jobs=-1)\n",
    "svcGS.fit(xTrain, yTrain)"
   ]
  },
  {
   "cell_type": "code",
   "execution_count": 15,
   "metadata": {},
   "outputs": [
    {
     "name": "stdout",
     "output_type": "stream",
     "text": [
      "0.5000444247\n",
      "0.2\n",
      "[ 0.50004442  0.50004442  0.50004442  0.50004442  0.50004442]\n",
      "[ 0.49996113  0.49996113  0.49996113  0.49996113  0.49996113]\n"
     ]
    }
   ],
   "source": [
    "# Printing out best estimators for each variable, I change these manually everytime\n",
    "print(svcGS.best_score_)\n",
    "print(svcGS.best_estimator_.C)\n",
    "print svcGS.cv_results_['mean_test_score']\n",
    "print svcGS.cv_results_['mean_train_score']"
   ]
  },
  {
   "cell_type": "code",
   "execution_count": 18,
   "metadata": {},
   "outputs": [
    {
     "data": {
      "text/plain": [
       "<matplotlib.legend.Legend at 0x10ed00f90>"
      ]
     },
     "execution_count": 18,
     "metadata": {},
     "output_type": "execute_result"
    },
    {
     "data": {
      "image/png": "[encoded data removed]",
      "text/plain": [
       "<matplotlib.figure.Figure at 0x10e507f90>"
      ]
     },
     "metadata": {},
     "output_type": "display_data"
    }
   ],
   "source": [
    "# Graph drawing section, code changed everytime when i need a new graph, will be commented\n",
    "plt.figure()\n",
    "plt.title(\"SVC C\")\n",
    "plt.xlabel(\"C\")\n",
    "plt.ylabel(\"Score\")\n",
    "# plt.ylim(*(0.55, 1.02))\n",
    "\n",
    "plt.grid()\n",
    "\n",
    "plt.plot(svcGS.param_grid['C'], svcGS.cv_results_['mean_test_score'], 'o-', color=\"r\",\n",
    "         label=\"Cross Validation Score\" )\n",
    "# plt.plot(svcGS.param_grid['C'], svcGS.cv_results_['mean_train_score'], 'o-', color=\"g\",\n",
    "#          label=\"Training Score\")\n",
    "plt.legend(loc=\"best\")"
   ]
  },
  {
   "cell_type": "code",
   "execution_count": 6,
   "metadata": {},
   "outputs": [
    {
     "name": "stdout",
     "output_type": "stream",
     "text": [
      "Linear Done\n",
      "RBF Done\n"
     ]
    },
    {
     "data": {
      "text/plain": [
       "<matplotlib.legend.Legend at 0x108777650>"
      ]
     },
     "execution_count": 6,
     "metadata": {},
     "output_type": "execute_result"
    },
    {
     "data": {
      "image/png": "[encoded data removed]",
      "text/plain": [
       "<matplotlib.figure.Figure at 0x101d87750>"
      ]
     },
     "metadata": {},
     "output_type": "display_data"
    }
   ],
   "source": [
    "sampleNum = []\n",
    "trainScoreArr1 = []\n",
    "testScoreArr1 = []\n",
    "trainScoreArr2 = []\n",
    "testScoreArr2 = []\n",
    "index = -1\n",
    "bestScore = 0\n",
    "\n",
    "for i in range (1, 5):\n",
    "    xTrainRound = xTrain\n",
    "    yTrainRound = yTrain\n",
    "    if i < 5:\n",
    "        xTrainRound, throwaway1, yTrainRound, throwaway2 = train_test_split(xTrain, yTrain, test_size=i/5.0)\n",
    "    \n",
    "    svc = SVC(kernel= 'linear', C = 0.2)\n",
    "    svc.fit(xTrainRound, yTrainRound)\n",
    "    \n",
    "    trainPredRes = svc.predict(xTrainRound)\n",
    "    trainPredRes = pd.DataFrame(data=trainPredRes, columns=['hand'])\n",
    "    trainAcc = accuracy_score(yTrainRound, trainPredRes)\n",
    "    \n",
    "    testPredRes = svc.predict(xVal)\n",
    "    testPredRes = pd.DataFrame(data=testPredRes, columns=['hand'])\n",
    "    testAcc = accuracy_score(yVal, testPredRes)\n",
    "    \n",
    "    if testAcc > bestScore:\n",
    "        index = i\n",
    "        bestScore = testAcc\n",
    "    trainScoreArr1.append(trainAcc)\n",
    "    testScoreArr1.append(testAcc)\n",
    "    sampleNum.append(22509 * i / 5.0)\n",
    "    \n",
    "print \"Linear Done\"\n",
    "for i in range (1, 5):\n",
    "    xTrainRound = xTrain\n",
    "    yTrainRound = yTrain\n",
    "    if i < 5:\n",
    "        xTrainRound, throwaway1, yTrainRound, throwaway2 = train_test_split(xTrain, yTrain, test_size=i/5.0)\n",
    "    \n",
    "    svc = SVC(kernel= 'rbf', C = 0.2)\n",
    "    svc.fit(xTrainRound, yTrainRound)\n",
    "    \n",
    "    trainPredRes = svc.predict(xTrainRound)\n",
    "    trainPredRes = pd.DataFrame(data=trainPredRes, columns=['hand'])\n",
    "    trainAcc = accuracy_score(yTrainRound, trainPredRes)\n",
    "    \n",
    "    testPredRes = svc.predict(xVal)\n",
    "    testPredRes = pd.DataFrame(data=testPredRes, columns=['hand'])\n",
    "    testAcc = accuracy_score(yVal, testPredRes)\n",
    "    \n",
    "    if testAcc > bestScore:\n",
    "        index = i\n",
    "        bestScore = testAcc\n",
    "    trainScoreArr2.append(trainAcc)\n",
    "    testScoreArr2.append(testAcc)\n",
    "    \n",
    "print \"RBF Done\"\n",
    "\n",
    "plt.figure()\n",
    "plt.title(\"SVC Train Test Error\")\n",
    "plt.xlabel(\"Num of Samples\")\n",
    "plt.ylabel(\"Accuracy Score\")\n",
    "# plt.ylim(*(0.55, 1.02))\n",
    "\n",
    "plt.grid()\n",
    "\n",
    "plt.plot(sampleNum, testScoreArr1, 'o-', color=\"r\", label = \"Test LIN\")\n",
    "plt.plot(sampleNum, trainScoreArr1, 'o-', color=\"g\", label = \"Train LIN\")\n",
    "plt.plot(sampleNum, testScoreArr2, 'o-', color=\"y\", label = \"Test RBF\")\n",
    "plt.plot(sampleNum, trainScoreArr2, 'o-', color=\"m\", label = \"Train RBF\")\n",
    "plt.legend(loc=\"best\")\n"
   ]
  },
  {
   "cell_type": "code",
   "execution_count": 5,
   "metadata": {},
   "outputs": [
    {
     "name": "stdout",
     "output_type": "stream",
     "text": [
      "Fitting 5 folds for each of 10 candidates, totalling 50 fits\n",
      "[CV] n_neighbors=1 ...................................................\n",
      "[CV] n_neighbors=1 ...................................................\n",
      "[CV] n_neighbors=1 ...................................................\n",
      "[CV] n_neighbors=1 ...................................................\n",
      "[CV] .............. n_neighbors=1, score=0.517547756553, total=   5.0s\n",
      "[CV] .............. n_neighbors=1, score=0.517547756553, total=   5.0s\n",
      "[CV] .............. n_neighbors=1, score=0.518214127055, total=   5.0s\n",
      "[CV] .............. n_neighbors=1, score=0.532430031097, total=   5.0s\n",
      "[CV] n_neighbors=1 ...................................................\n",
      "[CV] n_neighbors=2 ...................................................\n",
      "[CV] n_neighbors=2 ...................................................\n",
      "[CV] n_neighbors=2 ...................................................\n",
      "[CV] ............... n_neighbors=1, score=0.51332741004, total=   3.7s\n",
      "[CV] n_neighbors=2 ...................................................\n",
      "[CV] .............. n_neighbors=2, score=0.543980453132, total=   3.9s\n",
      "[CV] n_neighbors=2 ...................................................\n",
      "[CV] .............. n_neighbors=2, score=0.539315859618, total=   4.0s\n"
     ]
    },
    {
     "name": "stderr",
     "output_type": "stream",
     "text": [
      "[Parallel(n_jobs=-1)]: Done   5 tasks      | elapsed:  2.9min\n"
     ]
    },
    {
     "name": "stdout",
     "output_type": "stream",
     "text": [
      "[CV] n_neighbors=3 ...................................................\n",
      "[CV] .............. n_neighbors=2, score=0.531985784096, total=   4.0s\n",
      "[CV] n_neighbors=3 ...................................................\n",
      "[CV] .............. n_neighbors=2, score=0.540426477121, total=   5.2s\n",
      "[CV] n_neighbors=3 ...................................................\n",
      "[CV] .............. n_neighbors=2, score=0.525544202577, total=   5.3s\n",
      "[CV] n_neighbors=3 ...................................................\n",
      "[CV] .............. n_neighbors=3, score=0.533540648601, total=   5.3s\n",
      "[CV] .............. n_neighbors=3, score=0.534651266104, total=   5.2s\n",
      "[CV] n_neighbors=3 ...................................................\n"
     ]
    },
    {
     "name": "stderr",
     "output_type": "stream",
     "text": [
      "[Parallel(n_jobs=-1)]: Done  10 tasks      | elapsed:  4.5min\n"
     ]
    },
    {
     "name": "stdout",
     "output_type": "stream",
     "text": [
      "[CV] n_neighbors=4 ...................................................\n",
      "[CV] .............. n_neighbors=3, score=0.539315859618, total=   3.6s\n",
      "[CV] n_neighbors=4 ...................................................\n",
      "[CV] .............. n_neighbors=3, score=0.539315859618, total=   3.6s\n",
      "[CV] .............. n_neighbors=3, score=0.545313194136, total=   3.7s\n",
      "[CV] n_neighbors=4 ...................................................\n",
      "[CV] n_neighbors=4 ...................................................\n",
      "[CV] .............. n_neighbors=4, score=0.547312305642, total=   4.3s\n",
      "[CV] n_neighbors=4 ...................................................\n",
      "[CV] .............. n_neighbors=4, score=0.547756552643, total=   6.4s\n",
      "[CV] n_neighbors=5 ...................................................\n",
      "[CV] .............. n_neighbors=4, score=0.562860950689, total=   6.1s\n",
      "[CV] .............. n_neighbors=4, score=0.555308751666, total=   5.8s\n",
      "[CV] n_neighbors=5 ...................................................\n"
     ]
    },
    {
     "name": "stderr",
     "output_type": "stream",
     "text": [
      "[Parallel(n_jobs=-1)]: Done  17 tasks      | elapsed:  7.5min\n"
     ]
    },
    {
     "name": "stdout",
     "output_type": "stream",
     "text": [
      "[CV] n_neighbors=5 ...................................................\n",
      "[CV] .............. n_neighbors=4, score=0.546201688139, total=   5.5s\n",
      "[CV] n_neighbors=5 ...................................................\n",
      "[CV] ............... n_neighbors=5, score=0.54997778765, total=   6.2s\n",
      "[CV] n_neighbors=5 ...................................................\n",
      "[CV] .............. n_neighbors=5, score=0.562194580187, total=   6.0s\n",
      "[CV] n_neighbors=6 ...................................................\n",
      "[CV] .............. n_neighbors=5, score=0.551088405153, total=   6.3s\n",
      "[CV] n_neighbors=6 ...................................................\n",
      "[CV] .............. n_neighbors=5, score=0.553976010662, total=   7.3s\n",
      "[CV] n_neighbors=6 ...................................................\n"
     ]
    },
    {
     "name": "stderr",
     "output_type": "stream",
     "text": [
      "[Parallel(n_jobs=-1)]: Done  24 tasks      | elapsed:  9.1min\n"
     ]
    },
    {
     "name": "stdout",
     "output_type": "stream",
     "text": [
      "[CV] ............... n_neighbors=5, score=0.55664149267, total=   6.7s\n",
      "[CV] n_neighbors=6 ...................................................\n",
      "[CV] .............. n_neighbors=6, score=0.555530875167, total=   6.6s\n",
      "[CV] n_neighbors=6 ...................................................\n",
      "[CV] .............. n_neighbors=6, score=0.556419369169, total=   6.1s\n",
      "[CV] n_neighbors=7 ...................................................\n",
      "[CV] .............. n_neighbors=6, score=0.572412261217, total=   6.1s\n",
      "[CV] n_neighbors=7 ...................................................\n",
      "[CV] .............. n_neighbors=6, score=0.560639715682, total=   5.9s\n",
      "[CV] n_neighbors=7 ...................................................\n",
      "[CV] .............. n_neighbors=6, score=0.562194580187, total=   5.9s\n",
      "[CV] n_neighbors=7 ...................................................\n",
      "[CV] .............. n_neighbors=7, score=0.560195468681, total=   6.0s\n",
      "[CV] n_neighbors=7 ...................................................\n",
      "[CV] .............. n_neighbors=7, score=0.565304309196, total=   4.5s\n",
      "[CV] n_neighbors=8 ...................................................\n",
      "[CV] .............. n_neighbors=7, score=0.569524655709, total=   6.7s\n",
      "[CV] n_neighbors=8 ...................................................\n"
     ]
    },
    {
     "name": "stderr",
     "output_type": "stream",
     "text": [
      "[Parallel(n_jobs=-1)]: Done  33 tasks      | elapsed: 13.4min\n"
     ]
    },
    {
     "name": "stdout",
     "output_type": "stream",
     "text": [
      "[CV] .............. n_neighbors=7, score=0.567525544203, total=   6.7s\n",
      "[CV] .............. n_neighbors=7, score=0.565082185695, total=   6.5s\n",
      "[CV] n_neighbors=8 ...................................................\n",
      "[CV] n_neighbors=8 ...................................................\n",
      "[CV] .............. n_neighbors=8, score=0.560639715682, total=   6.9s\n",
      "[CV] n_neighbors=8 ...................................................\n",
      "[CV] .............. n_neighbors=8, score=0.569080408707, total=   6.6s\n",
      "[CV] n_neighbors=9 ...................................................\n",
      "[CV] .............. n_neighbors=8, score=0.579075966237, total=   6.8s\n",
      "[CV] .............. n_neighbors=8, score=0.563749444691, total=   6.3s\n",
      "[CV] n_neighbors=9 ...................................................\n",
      "[CV] n_neighbors=9 ...................................................\n",
      "[CV] .............. n_neighbors=8, score=0.573967125722, total=   7.3s\n",
      "[CV] n_neighbors=9 ...................................................\n",
      "[CV] .............. n_neighbors=9, score=0.563971568192, total=   5.9s\n",
      "[CV] n_neighbors=9 ...................................................\n",
      "[CV] .............. n_neighbors=9, score=0.572412261217, total=   6.0s\n",
      "[CV] n_neighbors=10 ..................................................\n",
      "[CV] .............. n_neighbors=9, score=0.569524655709, total=   6.0s\n"
     ]
    },
    {
     "name": "stderr",
     "output_type": "stream",
     "text": [
      "[Parallel(n_jobs=-1)]: Done  42 tasks      | elapsed: 16.3min\n"
     ]
    },
    {
     "name": "stdout",
     "output_type": "stream",
     "text": [
      "[CV] n_neighbors=10 ..................................................\n",
      "[CV] .............. n_neighbors=9, score=0.570857396713, total=   5.3s\n",
      "[CV] n_neighbors=10 ..................................................\n",
      "[CV] .............. n_neighbors=9, score=0.570413149711, total=  10.0s\n",
      "[CV] n_neighbors=10 ..................................................\n",
      "[CV] ............. n_neighbors=10, score=0.571968014216, total=   9.3s\n",
      "[CV] n_neighbors=10 ..................................................\n",
      "[CV] ............. n_neighbors=10, score=0.574855619725, total=   9.9s\n",
      "[CV] ............. n_neighbors=10, score=0.581963571746, total=   7.5s\n",
      "[CV] ............. n_neighbors=10, score=0.574855619725, total=   3.6s\n",
      "[CV] ............. n_neighbors=10, score=0.574633496224, total=   3.4s\n"
     ]
    },
    {
     "name": "stderr",
     "output_type": "stream",
     "text": [
      "[Parallel(n_jobs=-1)]: Done  50 out of  50 | elapsed: 18.6min finished\n"
     ]
    },
    {
     "data": {
      "text/plain": [
       "GridSearchCV(cv=ShuffleSplit(n_splits=5, random_state=0, test_size=0.2, train_size=None),\n",
       "       error_score='raise',\n",
       "       estimator=KNeighborsClassifier(algorithm='brute', leaf_size=30, metric='minkowski',\n",
       "           metric_params=None, n_jobs=1, n_neighbors=50, p=1,\n",
       "           weights='distance'),\n",
       "       fit_params=None, iid=True, n_jobs=-1,\n",
       "       param_grid={'n_neighbors': array([ 1,  2,  3,  4,  5,  6,  7,  8,  9, 10])},\n",
       "       pre_dispatch='2*n_jobs', refit=True, return_train_score='warn',\n",
       "       scoring='accuracy', verbose=10)"
      ]
     },
     "execution_count": 5,
     "metadata": {},
     "output_type": "execute_result"
    }
   ],
   "source": [
    "# Code here is the algorithm tuning zone for KNN\n",
    "# Don't run if not needed, the commented out parameters are the ones I tuned\n",
    "# These take hours to run\n",
    "\n",
    "#distance didn't have much difference in test score, but had perfect train\n",
    "knn = KNeighborsClassifier(algorithm='brute', weights= 'distance', n_neighbors= 10, p=1)\n",
    "cv = ShuffleSplit(n_splits=5, test_size=0.2, random_state=0)\n",
    "# parameters = {'algorithm':('ball_tree', 'kd_tree', 'brute')}\n",
    "# parameters = {'weights':('uniform', 'distance')}\n",
    "parameters = {'n_neighbors' : (np.arange(1, 11))}\n",
    "# parameters = {'p': (np.arange(1, 4))}\n",
    "knnGS = GridSearchCV(knn, parameters, cv = cv, scoring='accuracy', verbose=10, n_jobs=-1)\n",
    "knnGS.fit(xTrain, yTrain)"
   ]
  },
  {
   "cell_type": "code",
   "execution_count": 6,
   "metadata": {},
   "outputs": [
    {
     "name": "stdout",
     "output_type": "stream",
     "text": [
      "0.575655264327\n",
      "10\n",
      "[ 0.51981342  0.53625056  0.53842737  0.55188805  0.55477566  0.56143936\n",
      "  0.56552643  0.56930253  0.56943581  0.57565526]\n",
      "[ 1.  1.  1.  1.  1.  1.  1.  1.  1.  1.]\n"
     ]
    },
    {
     "name": "stderr",
     "output_type": "stream",
     "text": [
      "/Users/kristiansuhartono/python-env/lib/python2.7/site-packages/sklearn/utils/deprecation.py:122: FutureWarning: You are accessing a training score ('mean_train_score'), which will not be available by default any more in 0.21. If you need training scores, please set return_train_score=True\n",
      "  warnings.warn(*warn_args, **warn_kwargs)\n"
     ]
    }
   ],
   "source": [
    "# Printing out best estimators for each variable, I change these manually everytime\n",
    "print(knnGS.best_score_)\n",
    "print(knnGS.best_estimator_.n_neighbors)\n",
    "print knnGS.cv_results_['mean_test_score']\n",
    "print knnGS.cv_results_['mean_train_score']"
   ]
  },
  {
   "cell_type": "code",
   "execution_count": 8,
   "metadata": {},
   "outputs": [
    {
     "data": {
      "text/plain": [
       "<matplotlib.legend.Legend at 0x10d212e90>"
      ]
     },
     "execution_count": 8,
     "metadata": {},
     "output_type": "execute_result"
    },
    {
     "data": {
      "image/png": "[encoded data removed]",
      "text/plain": [
       "<matplotlib.figure.Figure at 0x10d212d90>"
      ]
     },
     "metadata": {},
     "output_type": "display_data"
    }
   ],
   "source": [
    "# Graph drawing section, code changed everytime when i need a new graph, will be commented\n",
    "plt.figure()\n",
    "plt.title(\"KNN n_neighbors\")\n",
    "plt.xlabel(\"n_neighbors\")\n",
    "plt.ylabel(\"Score\")\n",
    "# plt.ylim(*(0.55, 1.02))\n",
    "\n",
    "plt.grid()\n",
    "\n",
    "plt.plot(knnGS.param_grid['n_neighbors'], knnGS.cv_results_['mean_test_score'], 'o-', color=\"r\",\n",
    "         label=\"Cross Validation Score\" )\n",
    "# plt.plot(knnGS.param_grid['n_neighbors'], knnGS.cv_results_['mean_train_score'], 'o-', color=\"g\",\n",
    "#          label=\"Training Score\")\n",
    "plt.legend(loc=\"best\")"
   ]
  },
  {
   "cell_type": "code",
   "execution_count": 23,
   "metadata": {},
   "outputs": [
    {
     "data": {
      "text/plain": [
       "<module 'matplotlib.pyplot' from '/Users/kristiansuhartono/python-env/lib/python2.7/site-packages/matplotlib/pyplot.pyc'>"
      ]
     },
     "execution_count": 23,
     "metadata": {},
     "output_type": "execute_result"
    },
    {
     "name": "stderr",
     "output_type": "stream",
     "text": [
      "/Users/kristiansuhartono/python-env/lib/python2.7/site-packages/matplotlib/collections.py:590: FutureWarning: elementwise comparison failed; returning scalar instead, but in the future will perform elementwise comparison\n",
      "  if self._edgecolors == str('face'):\n"
     ]
    },
    {
     "data": {
      "image/png": "[encoded data removed]",
      "text/plain": [
       "<matplotlib.figure.Figure at 0x113bb3150>"
      ]
     },
     "metadata": {},
     "output_type": "display_data"
    }
   ],
   "source": [
    "knn = KNeighborsClassifier(algorithm='brute', weights= 'distance', n_neighbors= 10, p=1)\n",
    "cv = ShuffleSplit(n_splits=5, test_size=0.2, random_state=0)\n",
    "plot_learning_curve(knn, \"KNN Poker\", xTrain, yTrain, (0.45, 1.01), cv = cv, n_jobs = -1)"
   ]
  },
  {
   "cell_type": "code",
   "execution_count": 25,
   "metadata": {},
   "outputs": [
    {
     "name": "stdout",
     "output_type": "stream",
     "text": [
      "0    1461\n",
      "1    1019\n",
      "2      16\n",
      "3       5\n",
      "Name: hand, dtype: int64\n",
      "             precision    recall  f1-score   support\n",
      "\n",
      "          0       0.60      0.70      0.64      1239\n",
      "          1       0.50      0.49      0.50      1037\n",
      "          2       0.38      0.04      0.07       150\n",
      "          3       0.00      0.00      0.00        52\n",
      "          4       0.00      0.00      0.00        14\n",
      "          5       0.00      0.00      0.00         3\n",
      "          6       0.00      0.00      0.00         3\n",
      "          7       0.00      0.00      0.00         2\n",
      "          9       0.00      0.00      0.00         1\n",
      "\n",
      "avg / total       0.53      0.55      0.53      2501\n",
      "\n"
     ]
    }
   ],
   "source": [
    "# knn = KNeighborsClassifier(algorithm='brute', weights= 'distance', n_neighbors= 50, p=1)\n",
    "knn = KNeighborsClassifier()\n",
    "knn.fit(xTrain, yTrain)\n",
    "knnPred = knn.predict(xVal)\n",
    "\n",
    "#Labelling the result\n",
    "knnPred = pd.DataFrame(data=knnPred, columns=['hand'])\n",
    "\n",
    "#Printing test metrics\n",
    "print knnPred.hand.value_counts()\n",
    "print metrics.classification_report(yVal, knnPred)"
   ]
  },
  {
   "cell_type": "code",
   "execution_count": 12,
   "metadata": {},
   "outputs": [
    {
     "data": {
      "text/plain": [
       "<matplotlib.legend.Legend at 0x10e640e90>"
      ]
     },
     "execution_count": 12,
     "metadata": {},
     "output_type": "execute_result"
    },
    {
     "data": {
      "image/png": "[encoded data removed]",
      "text/plain": [
       "<matplotlib.figure.Figure at 0x10e42f9d0>"
      ]
     },
     "metadata": {},
     "output_type": "display_data"
    }
   ],
   "source": [
    "sampleNum = []\n",
    "trainScoreArr = []\n",
    "testScoreArr = []\n",
    "index = -1\n",
    "bestScore = 0\n",
    "\n",
    "for i in range (1, 5):\n",
    "    xTrainRound = xTrain\n",
    "    yTrainRound = yTrain\n",
    "    if i < 5:\n",
    "        xTrainRound, throwaway1, yTrainRound, throwaway2 = train_test_split(xTrain, yTrain, test_size=i/5.0)\n",
    "    \n",
    "    knn = KNeighborsClassifier(algorithm='brute', weights= 'distance', n_neighbors= 10, p=1)\n",
    "    knn.fit(xTrainRound, yTrainRound)\n",
    "    \n",
    "    trainPredRes = knn.predict(xTrainRound)\n",
    "    trainPredRes = pd.DataFrame(data=trainPredRes, columns=['hand'])\n",
    "    trainAcc = accuracy_score(yTrainRound, trainPredRes)\n",
    "    \n",
    "    testPredRes = knn.predict(xVal)\n",
    "    testPredRes = pd.DataFrame(data=testPredRes, columns=['hand'])\n",
    "    testAcc = accuracy_score(yVal, testPredRes)\n",
    "    \n",
    "    if testAcc > bestScore:\n",
    "        index = i\n",
    "        bestScore = testAcc\n",
    "    trainScoreArr.append(trainAcc)\n",
    "    testScoreArr.append(testAcc)\n",
    "    sampleNum.append(22509 * i / 5.0)\n",
    "    \n",
    "\n",
    "plt.figure()\n",
    "plt.title(\"KNN Train Test Error\")\n",
    "plt.xlabel(\"Num of Samples\")\n",
    "plt.ylabel(\"Accuracy Score\")\n",
    "# plt.ylim(*(0.55, 1.02))\n",
    "\n",
    "plt.grid()\n",
    "\n",
    "plt.plot(sampleNum, testScoreArr, 'o-', color=\"r\", label = \"Testing Score\")\n",
    "# plt.plot(sampleNum, trainScoreArr, 'o-', color=\"g\", label = \"Training Score\")\n",
    "plt.legend(loc=\"best\")\n"
   ]
  },
  {
   "cell_type": "code",
   "execution_count": null,
   "metadata": {},
   "outputs": [],
   "source": []
  }
 ],
 "metadata": {
  "kernelspec": {
   "display_name": "Python 2",
   "language": "python",
   "name": "python2"
  },
  "language_info": {
   "codemirror_mode": {
    "name": "ipython",
    "version": 2
   },
   "file_extension": ".py",
   "mimetype": "text/x-python",
   "name": "python",
   "nbconvert_exporter": "python",
   "pygments_lexer": "ipython2",
   "version": "2.7.10"
  }
 },
 "nbformat": 4,
 "nbformat_minor": 2
}
