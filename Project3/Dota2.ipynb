{
 "cells": [
  {
   "cell_type": "code",
   "execution_count": 7,
   "metadata": {},
   "outputs": [],
   "source": [
    "\n",
    "from time import time\n",
    "\n",
    "import numpy as np\n",
    "import pandas as pd\n",
    "import sklearn.metrics as metrics\n",
    "%matplotlib inline\n",
    "import matplotlib.pyplot as plt\n",
    "\n",
    "from sklearn.model_selection import learning_curve\n",
    "from sklearn.model_selection import ShuffleSplit\n",
    "from sklearn.model_selection import GridSearchCV\n",
    "from sklearn.model_selection import train_test_split\n",
    "from sklearn.metrics import accuracy_score\n",
    "from sklearn.decomposition import PCA\n",
    "from sklearn.decomposition import FastICA\n",
    "from sklearn.random_projection import GaussianRandomProjection\n",
    "\n",
    "from sklearn.cluster import KMeans"
   ]
  },
  {
   "cell_type": "code",
   "execution_count": 8,
   "metadata": {},
   "outputs": [],
   "source": [
    "def bench_k_means(estimator, name, data):\n",
    "    t0 = time()\n",
    "    estimator.fit(data)\n",
    "    print('%-9s\\t%.2fs\\t%i\\t%.3f\\t%.3f\\t%.3f\\t%.3f\\t%.3f'\n",
    "          % (name, (time() - t0), estimator.inertia_,\n",
    "             metrics.homogeneity_score(labels, estimator.labels_),\n",
    "             metrics.completeness_score(labels, estimator.labels_),\n",
    "             metrics.v_measure_score(labels, estimator.labels_),\n",
    "             metrics.adjusted_rand_score(labels, estimator.labels_),\n",
    "             metrics.adjusted_mutual_info_score(labels,  estimator.labels_)))\n",
    "#              metrics.silhouette_score(data, estimator.labels_,\n",
    "#                                       metric='euclidean',\n",
    "#                                       sample_size=sample_size)))"
   ]
  },
  {
   "cell_type": "code",
   "execution_count": 10,
   "metadata": {},
   "outputs": [
    {
     "name": "stdout",
     "output_type": "stream",
     "text": [
      "92649\n",
      "116\n",
      "2\n"
     ]
    }
   ],
   "source": [
    "trainSet = pd.read_csv('dota2Train.csv')\n",
    "testSet = pd.read_csv('dota2Test.csv')\n",
    "\n",
    "x = trainSet.drop('-1', 1)\n",
    "y = trainSet['-1']\n",
    "testX = testSet.drop('-1', 1)\n",
    "testY = testSet['-1']\n",
    "\n",
    "np.random.seed(42)\n",
    "\n",
    "n_samples, n_features = x.shape\n",
    "n_classes = len(np.unique(y))\n",
    "labels = y\n",
    "sample_size = n_samples * 0.16\n",
    "print n_samples\n",
    "print n_features\n",
    "print n_classes"
   ]
  },
  {
   "cell_type": "code",
   "execution_count": 12,
   "metadata": {},
   "outputs": [
    {
     "name": "stdout",
     "output_type": "stream",
     "text": [
      "n_digits: 2, \t n_samples 92649, \t n_features 116\n",
      "__________________________________________________________________________________\n",
      "init\t\ttime\tinertia\thomo\tcompl\tv-meas\tARI\tAMI\tsilhouette\n",
      "k-means++\t2.36s\t21770909\t0.000\t0.000\t0.000\t-0.000\t-0.000\n",
      "random   \t2.81s\t21770909\t0.000\t0.000\t0.000\t-0.000\t-0.000\n",
      "PCA-based\t0.52s\t21770909\t0.000\t0.000\t0.000\t-0.000\t-0.000\n",
      "ICA-based\t0.48s\t21770909\t0.000\t0.000\t0.000\t-0.000\t-0.000\n",
      "RP-based \t0.44s\t21770909\t0.000\t0.000\t0.000\t-0.000\t-0.000\n",
      "__________________________________________________________________________________\n"
     ]
    }
   ],
   "source": [
    "print(\"n_digits: %d, \\t n_samples %d, \\t n_features %d\"\n",
    "      % (n_classes, n_samples, n_features))\n",
    "print(82 * '_')\n",
    "print('init\\t\\ttime\\tinertia\\thomo\\tcompl\\tv-meas\\tARI\\tAMI\\tsilhouette')\n",
    "bench_k_means(KMeans(init='k-means++', n_clusters=n_classes, n_init=10, max_iter = 10000),\n",
    "              name=\"k-means++\", data=x)\n",
    "\n",
    "bench_k_means(KMeans(init='random', n_clusters=n_classes, n_init=10, max_iter = 10000),\n",
    "              name=\"random\", data=x)\n",
    "pca = PCA(n_components=n_classes).fit(x)\n",
    "bench_k_means(KMeans(init=pca.components_, n_clusters=n_classes, n_init=1, max_iter = 10000),\n",
    "              name=\"PCA-based\",\n",
    "              data=x)\n",
    "ica = FastICA(n_components=n_classes).fit(x)\n",
    "bench_k_means(KMeans(init=ica.components_, n_clusters=n_classes, n_init=1, max_iter = 10000),\n",
    "              name=\"ICA-based\",\n",
    "              data=x)\n",
    "rp = GaussianRandomProjection(n_components=n_classes).fit(x)\n",
    "bench_k_means(KMeans(init=rp.components_, n_clusters=n_classes, n_init=1, max_iter = 10000),\n",
    "              name=\"RP-based\",\n",
    "              data=x)\n",
    "print(82 * '_')"
   ]
  },
  {
   "cell_type": "code",
   "execution_count": null,
   "metadata": {},
   "outputs": [],
   "source": []
  },
  {
   "cell_type": "code",
   "execution_count": null,
   "metadata": {},
   "outputs": [],
   "source": []
  }
 ],
 "metadata": {
  "kernelspec": {
   "display_name": "Python 2",
   "language": "python",
   "name": "python2"
  },
  "language_info": {
   "codemirror_mode": {
    "name": "ipython",
    "version": 2
   },
   "file_extension": ".py",
   "mimetype": "text/x-python",
   "name": "python",
   "nbconvert_exporter": "python",
   "pygments_lexer": "ipython2",
   "version": "2.7.10"
  }
 },
 "nbformat": 4,
 "nbformat_minor": 2
}
