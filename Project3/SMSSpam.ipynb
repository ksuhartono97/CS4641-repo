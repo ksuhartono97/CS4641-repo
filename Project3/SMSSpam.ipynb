{
 "cells": [
  {
   "cell_type": "code",
   "execution_count": 7,
   "metadata": {},
   "outputs": [],
   "source": [
    "from time import time\n",
    "\n",
    "import numpy as np\n",
    "import pandas as pd\n",
    "import sklearn.metrics as metrics\n",
    "%matplotlib inline\n",
    "import matplotlib.pyplot as plt\n",
    "import nltk\n",
    "\n",
    "from sklearn.metrics import confusion_matrix\n",
    "\n",
    "from sklearn.model_selection import learning_curve\n",
    "from sklearn.model_selection import ShuffleSplit\n",
    "from sklearn.model_selection import GridSearchCV\n",
    "from sklearn.model_selection import train_test_split\n",
    "from sklearn.metrics import accuracy_score\n",
    "from sklearn.decomposition import PCA\n",
    "\n",
    "from sklearn.cluster import KMeans\n",
    "from sklearn.mixture import GaussianMixture\n",
    "from sklearn.decomposition import TruncatedSVD\n",
    "from sklearn.mixture import GaussianMixture\n",
    "from sklearn.preprocessing import Normalizer\n",
    "\n",
    "from sklearn.feature_extraction.text import TfidfTransformer\n",
    "from sklearn.feature_extraction.text import CountVectorizer\n",
    "from sklearn.feature_extraction.text import TfidfVectorizer\n",
    "from sklearn.tree import DecisionTreeClassifier\n",
    "from sklearn.neural_network import MLPClassifier\n",
    "from sklearn.ensemble import AdaBoostClassifier\n",
    "from sklearn.svm import SVC\n",
    "from sklearn.neighbors import KNeighborsClassifier"
   ]
  },
  {
   "cell_type": "code",
   "execution_count": 3,
   "metadata": {},
   "outputs": [],
   "source": [
    "data = pd.read_csv('smsspam.csv')\n",
    "x = data.drop(['class'], axis = 1)\n",
    "y = data['class']"
   ]
  },
  {
   "cell_type": "code",
   "execution_count": 4,
   "metadata": {},
   "outputs": [],
   "source": [
    "x_docs = x['text'].values.tolist()"
   ]
  },
  {
   "cell_type": "code",
   "execution_count": 5,
   "metadata": {},
   "outputs": [],
   "source": [
    "tfidf_vect = TfidfVectorizer(stop_words='english')\n",
    "x_tf_idf = tfidf_vect.fit_transform(x_docs, y)"
   ]
  },
  {
   "cell_type": "code",
   "execution_count": 8,
   "metadata": {},
   "outputs": [],
   "source": [
    "norm = Normalizer()\n",
    "normalized_x = norm.fit_transform(x_tf_idf, y)"
   ]
  },
  {
   "cell_type": "code",
   "execution_count": 13,
   "metadata": {},
   "outputs": [],
   "source": [
    "xTrain, xTest, yTrain, yTest = train_test_split(x_tf_idf, \n",
    "                                              y,\n",
    "                                              test_size=.25)"
   ]
  },
  {
   "cell_type": "code",
   "execution_count": 16,
   "metadata": {},
   "outputs": [
    {
     "name": "stdout",
     "output_type": "stream",
     "text": [
      "(4180, 8471)\n"
     ]
    }
   ],
   "source": [
    "print xTrain.shape"
   ]
  },
  {
   "cell_type": "code",
   "execution_count": 14,
   "metadata": {},
   "outputs": [
    {
     "name": "stdout",
     "output_type": "stream",
     "text": [
      "             precision    recall  f1-score   support\n",
      "\n",
      "          0       0.98      1.00      0.99      1208\n",
      "          1       0.99      0.84      0.91       186\n",
      "\n",
      "avg / total       0.98      0.98      0.98      1394\n",
      "\n"
     ]
    }
   ],
   "source": [
    "# Fit predict with more detailed results\n",
    "mlp = MLPClassifier()\n",
    "mlp.fit(xTrain, yTrain)\n",
    "mlpPred = mlp.predict(xTest)\n",
    "\n",
    "#Labelling the result\n",
    "mlpPred = pd.DataFrame(data=mlpPred, columns=['class'])\n",
    "\n",
    "#Printing test metrics\n",
    "print metrics.classification_report(yTest, mlpPred)"
   ]
  },
  {
   "cell_type": "code",
   "execution_count": 17,
   "metadata": {},
   "outputs": [
    {
     "data": {
      "text/plain": [
       "<matplotlib.legend.Legend at 0x10b913190>"
      ]
     },
     "execution_count": 17,
     "metadata": {},
     "output_type": "execute_result"
    },
    {
     "data": {
      "image/png": "[encoded data removed]",
      "text/plain": [
       "<matplotlib.figure.Figure at 0x10214b550>"
      ]
     },
     "metadata": {},
     "output_type": "display_data"
    }
   ],
   "source": [
    "# TRAIN TEST ERROR MEASURER #### RUN THIS #####\n",
    "sampleNum = []\n",
    "trainScoreArr = []\n",
    "testScoreArr = []\n",
    "index = -1\n",
    "bestScore = 0\n",
    "\n",
    "for i in range (1, 6):\n",
    "    xTrainRound = xTrain\n",
    "    yTrainRound = yTrain\n",
    "    if i < 5:\n",
    "        xTrainRound, throwaway1, yTrainRound, throwaway2 = train_test_split(xTrain, yTrain, test_size=i/5.0)\n",
    "    \n",
    "    \n",
    "    mlp = MLPClassifier()\n",
    "    mlp.fit(xTrainRound, yTrainRound)\n",
    "    \n",
    "    trainPredRes = mlp.predict(xTrainRound)\n",
    "    trainPredRes = pd.DataFrame(data=trainPredRes, columns=['hand'])\n",
    "    trainAcc = accuracy_score(yTrainRound, trainPredRes)\n",
    "    \n",
    "    testPredRes = mlp.predict(xTest)\n",
    "    testPredRes = pd.DataFrame(data=testPredRes, columns=['hand'])\n",
    "    testAcc = accuracy_score(yTest, testPredRes)\n",
    "    \n",
    "    if testAcc > bestScore:\n",
    "        index = i\n",
    "        bestScore = testAcc\n",
    "    trainScoreArr.append(trainAcc)\n",
    "    testScoreArr.append(testAcc)\n",
    "    sampleNum.append(4180 * i / 5.0)\n",
    "    \n",
    "\n",
    "plt.figure()\n",
    "plt.title(\"Neural Net Train Test Error\")\n",
    "plt.xlabel(\"Num of Samples\")\n",
    "plt.ylabel(\"Accuracy Score\")\n",
    "# plt.ylim(*(0.4, 0.8))\n",
    "\n",
    "plt.grid()\n",
    "\n",
    "plt.plot(sampleNum, testScoreArr, 'o-', color=\"r\", label = \"Testing Score\")\n",
    "plt.plot(sampleNum, trainScoreArr, 'o-', color=\"g\", label = \"Training Score\")\n",
    "plt.legend(loc=\"best\")"
   ]
  },
  {
   "cell_type": "code",
   "execution_count": 15,
   "metadata": {},
   "outputs": [],
   "source": [
    "kmeans = KMeans(n_clusters=2)"
   ]
  },
  {
   "cell_type": "code",
   "execution_count": 16,
   "metadata": {},
   "outputs": [
    {
     "data": {
      "text/plain": [
       "KMeans(algorithm='auto', copy_x=True, init='k-means++', max_iter=300,\n",
       "    n_clusters=2, n_init=10, n_jobs=1, precompute_distances='auto',\n",
       "    random_state=None, tol=0.0001, verbose=0)"
      ]
     },
     "execution_count": 16,
     "metadata": {},
     "output_type": "execute_result"
    }
   ],
   "source": [
    "kmeans.fit(normalized_x)"
   ]
  },
  {
   "cell_type": "code",
   "execution_count": 17,
   "metadata": {},
   "outputs": [],
   "source": [
    "cluster_pred = kmeans.predict(x_tf_idf)"
   ]
  },
  {
   "cell_type": "code",
   "execution_count": 18,
   "metadata": {},
   "outputs": [
    {
     "name": "stdout",
     "output_type": "stream",
     "text": [
      "             precision    recall  f1-score   support\n",
      "\n",
      "          0       0.86      0.96      0.91      4827\n",
      "          1       0.01      0.00      0.00       747\n",
      "\n",
      "avg / total       0.75      0.83      0.79      5574\n",
      "\n"
     ]
    }
   ],
   "source": [
    "cluster_pred = kmeans.predict(x_tf_idf)\n",
    "#Labelling the result\n",
    "cluster_pred = pd.DataFrame(data=cluster_pred, columns=['class'])\n",
    "\n",
    "#Printing test metrics\n",
    "print metrics.classification_report(y, cluster_pred)"
   ]
  },
  {
   "cell_type": "code",
   "execution_count": 19,
   "metadata": {},
   "outputs": [],
   "source": [
    "def bench_k_means(estimator, name, data):\n",
    "    t0 = time()\n",
    "    estimator.fit(data)\n",
    "    print('%-9s\\t%.2fs\\t%i\\t%.3f\\t%.3f\\t%.3f\\t%.3f\\t%.3f'\n",
    "          % (name, (time() - t0), estimator.inertia_,\n",
    "             metrics.homogeneity_score(labels, estimator.labels_),\n",
    "             metrics.completeness_score(labels, estimator.labels_),\n",
    "             metrics.v_measure_score(labels, estimator.labels_),\n",
    "             metrics.adjusted_rand_score(labels, estimator.labels_),\n",
    "             metrics.adjusted_mutual_info_score(labels,  estimator.labels_)))\n",
    "    print confusion_matrix(labels, estimator.labels_)"
   ]
  },
  {
   "cell_type": "code",
   "execution_count": 20,
   "metadata": {},
   "outputs": [
    {
     "name": "stdout",
     "output_type": "stream",
     "text": [
      "(5574, 8471)\n"
     ]
    }
   ],
   "source": [
    "print x_tf_idf.shape"
   ]
  },
  {
   "cell_type": "code",
   "execution_count": 21,
   "metadata": {},
   "outputs": [],
   "source": [
    "n_samples, n_features = x_tf_idf.shape\n",
    "n_classes = len(np.unique(y))\n",
    "labels = y\n",
    "sample_size = 5574 * 0.16"
   ]
  },
  {
   "cell_type": "code",
   "execution_count": 22,
   "metadata": {},
   "outputs": [
    {
     "name": "stdout",
     "output_type": "stream",
     "text": [
      "k-means++\t4.90s\t5477\t0.011\t0.029\t0.016\t-0.046\t0.011\n",
      "[[ 198 4629]\n",
      " [   1  746]]\n",
      "random   \t4.65s\t5477\t0.011\t0.029\t0.016\t-0.046\t0.011\n",
      "[[4629  198]\n",
      " [ 746    1]]\n"
     ]
    }
   ],
   "source": [
    "bench_k_means(KMeans(init='k-means++', n_clusters=n_classes, n_init = 10, max_iter = 10000),\n",
    "              name=\"k-means++\", data=normalized_x)\n",
    "bench_k_means(KMeans(init='random', n_clusters=n_classes, n_init=10, max_iter = 10000),\n",
    "              name=\"random\", data=normalized_x)"
   ]
  },
  {
   "cell_type": "code",
   "execution_count": 49,
   "metadata": {},
   "outputs": [
    {
     "name": "stdout",
     "output_type": "stream",
     "text": [
      "PCA-based\t0.43s\t5485\t0.011\t0.032\t0.016\t-0.040\t0.010\n",
      "[[4669  158]\n",
      " [ 747    0]]\n",
      "__________________________________________________________________________________\n"
     ]
    }
   ],
   "source": [
    "pca = TruncatedSVD(n_components=2).fit(x_tf_idf)\n",
    "bench_k_means(KMeans(init=pca.components_, n_clusters=n_classes, n_init=1, max_iter = 10000),\n",
    "              name=\"PCA-based\",\n",
    "              data=normalized_x)\n",
    "print(82 * '_')"
   ]
  },
  {
   "cell_type": "code",
   "execution_count": 52,
   "metadata": {},
   "outputs": [],
   "source": [
    "def bench_em(estimator, name, data):\n",
    "    t0 = time()\n",
    "    estimator.fit(data)\n",
    "    print('%-9s\\t%.2fs\\t%i\\t%.3f\\t%.3f\\t%.3f\\t%.3f\\t%.3f'\n",
    "          % (name, (time() - t0), estimator.inertia_,\n",
    "             metrics.homogeneity_score(labels, estimator.labels_),\n",
    "             metrics.completeness_score(labels, estimator.labels_),\n",
    "             metrics.v_measure_score(labels, estimator.labels_),\n",
    "             metrics.adjusted_rand_score(labels, estimator.labels_),\n",
    "             metrics.adjusted_mutual_info_score(labels,  estimator.labels_)))\n",
    "    print confusion_matrix(labels, estimator.labels_)"
   ]
  },
  {
   "cell_type": "code",
   "execution_count": 26,
   "metadata": {},
   "outputs": [],
   "source": [
    "dense_x = x_tf_idf.todense()\n",
    "em = GaussianMixture(n_components = n_classes).fit(dense_x)"
   ]
  },
  {
   "cell_type": "code",
   "execution_count": 28,
   "metadata": {},
   "outputs": [],
   "source": [
    "emPred = em.predict(dense_x)"
   ]
  },
  {
   "cell_type": "code",
   "execution_count": 29,
   "metadata": {},
   "outputs": [
    {
     "name": "stdout",
     "output_type": "stream",
     "text": [
      "0.014914735474450887\n",
      "0.03171651800771431\n",
      "0.02028868799062583\n",
      "-0.055611932182420803\n",
      "0.01468922800801919\n"
     ]
    }
   ],
   "source": [
    "print metrics.homogeneity_score(y, emPred)\n",
    "print metrics.completeness_score(y, emPred)\n",
    "print metrics.v_measure_score(y, emPred)\n",
    "print metrics.adjusted_rand_score(y, emPred)\n",
    "print metrics.adjusted_mutual_info_score(y, emPred)"
   ]
  },
  {
   "cell_type": "code",
   "execution_count": null,
   "metadata": {},
   "outputs": [],
   "source": []
  }
 ],
 "metadata": {
  "kernelspec": {
   "display_name": "Python 2",
   "language": "python",
   "name": "python2"
  },
  "language_info": {
   "codemirror_mode": {
    "name": "ipython",
    "version": 2
   },
   "file_extension": ".py",
   "mimetype": "text/x-python",
   "name": "python",
   "nbconvert_exporter": "python",
   "pygments_lexer": "ipython2",
   "version": "2.7.10"
  }
 },
 "nbformat": 4,
 "nbformat_minor": 2
}
