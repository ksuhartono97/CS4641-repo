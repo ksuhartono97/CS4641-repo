{
 "cells": [
  {
   "cell_type": "code",
   "execution_count": 14,
   "metadata": {},
   "outputs": [],
   "source": [
    "import numpy as np\n",
    "import pandas as pd\n",
    "from scipy.sparse import coo_matrix\n",
    "\n",
    "from sklearn.metrics import confusion_matrix\n",
    "\n",
    "from sklearn.tree import DecisionTreeClassifier\n",
    "from sklearn.neural_network import MLPClassifier\n",
    "from sklearn.ensemble import AdaBoostClassifier\n",
    "from sklearn.svm import SVC\n",
    "from sklearn.neighbors import KNeighborsClassifier\n",
    "\n",
    "from sklearn.model_selection import learning_curve\n",
    "from sklearn.model_selection import ShuffleSplit\n",
    "from sklearn.model_selection import GridSearchCV\n",
    "from sklearn.model_selection import train_test_split\n",
    "from sklearn.metrics import accuracy_score\n",
    "\n",
    "import os\n",
    "import sys\n",
    "import time"
   ]
  },
  {
   "cell_type": "code",
   "execution_count": 15,
   "metadata": {},
   "outputs": [],
   "source": [
    "def sparse_to_data_array(matrix, dtype=np.float32, maintain_size=True):\n",
    "    \"\"\"Converts a sparse matrix into a COO data array (numpy array of shape (n, 3)\"\"\"\n",
    "    matrix.eliminate_zeros()\n",
    "    data = np.zeros((matrix.nnz, 3), dtype=dtype)\n",
    "    data[:, 0] = matrix.nonzero()[0]\n",
    "    data[:, 1] = matrix.nonzero()[1]\n",
    "    data[:, 2] = matrix.data\n",
    "    if maintain_size:\n",
    "        m, n = matrix.shape\n",
    "        data = np.vstack((data, [m - 1, n - 1, 0]))  # insert a 0 value to maintain the size\n",
    "    return data\n",
    "\n",
    "\n",
    "def data_to_sparse(data, shape=None, csc=False):\n",
    "    \"\"\"Takes in (n,3) array of data and returns csr matrix for that\"\"\"\n",
    "    if csc:\n",
    "        data_matrix = coo_matrix((data[:, 2], (data[:, 0], data[:, 1])), shape=shape).tocsc()\n",
    "    else:\n",
    "        data_matrix = coo_matrix((data[:, 2], (data[:, 0], data[:, 1])), shape=shape).tocsr()\n",
    "\n",
    "    data_matrix.eliminate_zeros()\n",
    "    return data_matrix\n",
    "\n",
    "def load_txt(filename, delimiter=',', verbose=True):\n",
    "    if verbose:\n",
    "        print '--> Loading ', filename, ' with np.loadtxt was ',\n",
    "    sys.stdout.flush()\n",
    "    t = time.time()\n",
    "    d = np.loadtxt(filename, delimiter=delimiter)\n",
    "    if verbose:\n",
    "        print '%.3f s' % (time.time() - t)\n",
    "    return d"
   ]
  },
  {
   "cell_type": "code",
   "execution_count": 18,
   "metadata": {},
   "outputs": [],
   "source": [
    "train_name = \"/Users/kristiansuhartono/Documents/GitHub/CS4641-repo/Project3/tw_ny/train.csv\"\n",
    "val_name = \"/Users/kristiansuhartono/Documents/GitHub/CS4641-repo/Project3/tw_ny/validation.csv\"\n",
    "test_name = \"/Users/kristiansuhartono/Documents/GitHub/CS4641-repo/Project3/tw_ny/test.csv\"\n",
    "\n",
    "train = load_txt(train_name, verbose=False)\n",
    "val = load_txt(val_name, verbose=False)\n",
    "test = load_txt(test_name, verbose=False)\n",
    "\n",
    "train = data_to_sparse(train)\n",
    "val = data_to_sparse(val)\n",
    "test = data_to_sparse(test)"
   ]
  },
  {
   "cell_type": "code",
   "execution_count": 32,
   "metadata": {},
   "outputs": [
    {
     "name": "stdout",
     "output_type": "stream",
     "text": [
      "  (2, 2)\t156.0\n",
      "  (4, 8896)\t1.0\n",
      "  (6, 6)\t138.0\n",
      "  (8, 1613)\t1.0\n",
      "  (8, 7144)\t1.0\n",
      "  (11, 327)\t1.0\n",
      "  (16, 10270)\t1.0\n",
      "  (19, 29)\t1.0\n",
      "  (19, 550)\t1.0\n",
      "  (27, 3583)\t1.0\n",
      "  (29, 27)\t5.0\n",
      "  (29, 2211)\t9.0\n",
      "  (29, 3279)\t1.0\n",
      "  (29, 9456)\t1.0\n",
      "  (30, 28)\t37.0\n",
      "  (35, 33)\t6.0\n",
      "  (36, 2078)\t1.0\n",
      "  (36, 4031)\t1.0\n",
      "  (37, 35)\t152.0\n",
      "  (37, 102)\t3.0\n",
      "  (37, 381)\t10.0\n",
      "  (38, 35)\t1.0\n",
      "  (38, 1096)\t1.0\n",
      "  (43, 35)\t9.0\n",
      "  (52, 4528)\t1.0\n",
      "  :\t:\n",
      "  (30316, 4956)\t1.0\n",
      "  (30316, 5275)\t1.0\n",
      "  (30316, 7060)\t1.0\n",
      "  (30316, 7377)\t1.0\n",
      "  (30317, 21)\t1.0\n",
      "  (30317, 29)\t2.0\n",
      "  (30317, 76)\t1.0\n",
      "  (30317, 668)\t1.0\n",
      "  (30317, 1267)\t1.0\n",
      "  (30317, 4502)\t2.0\n",
      "  (30318, 99)\t1.0\n",
      "  (30318, 895)\t3.0\n",
      "  (30318, 4689)\t2.0\n",
      "  (30318, 6508)\t1.0\n",
      "  (30319, 29)\t1.0\n",
      "  (30319, 152)\t1.0\n",
      "  (30319, 271)\t1.0\n",
      "  (30319, 2030)\t1.0\n",
      "  (30319, 2267)\t1.0\n",
      "  (30319, 2290)\t1.0\n",
      "  (30319, 3351)\t1.0\n",
      "  (30319, 4868)\t1.0\n",
      "  (30319, 8559)\t1.0\n",
      "  (30319, 9055)\t1.0\n",
      "  (30319, 10189)\t1.0\n"
     ]
    }
   ],
   "source": [
    "print test"
   ]
  },
  {
   "cell_type": "code",
   "execution_count": null,
   "metadata": {},
   "outputs": [],
   "source": []
  }
 ],
 "metadata": {
  "kernelspec": {
   "display_name": "Python 2",
   "language": "python",
   "name": "python2"
  },
  "language_info": {
   "codemirror_mode": {
    "name": "ipython",
    "version": 2
   },
   "file_extension": ".py",
   "mimetype": "text/x-python",
   "name": "python",
   "nbconvert_exporter": "python",
   "pygments_lexer": "ipython2",
   "version": "2.7.10"
  }
 },
 "nbformat": 4,
 "nbformat_minor": 2
}
